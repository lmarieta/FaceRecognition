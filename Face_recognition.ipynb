{
  "nbformat": 4,
  "nbformat_minor": 0,
  "metadata": {
    "colab": {
      "provenance": [],
      "gpuType": "T4",
      "authorship_tag": "ABX9TyOx81xEirbao2zYEXMts/ni",
      "include_colab_link": true
    },
    "kernelspec": {
      "name": "python3",
      "display_name": "Python 3"
    },
    "language_info": {
      "name": "python"
    },
    "accelerator": "GPU"
  },
  "cells": [
    {
      "cell_type": "markdown",
      "metadata": {
        "id": "view-in-github",
        "colab_type": "text"
      },
      "source": [
        "<a href=\"https://colab.research.google.com/github/lmarieta/FaceRecognition/blob/main/Face_recognition.ipynb\" target=\"_parent\"><img src=\"https://colab.research.google.com/assets/colab-badge.svg\" alt=\"Open In Colab\"/></a>"
      ]
    },
    {
      "cell_type": "markdown",
      "source": [
        "Import Libraries\n"
      ],
      "metadata": {
        "id": "HCjTVDjLk_28"
      }
    },
    {
      "cell_type": "code",
      "execution_count": 3,
      "metadata": {
        "colab": {
          "base_uri": "https://localhost:8080/"
        },
        "id": "QsKs4kwPiiKV",
        "outputId": "95dd1f31-64ab-401a-a5c7-45bee2701069"
      },
      "outputs": [
        {
          "output_type": "stream",
          "name": "stdout",
          "text": [
            "Requirement already satisfied: pyreadr in /usr/local/lib/python3.10/dist-packages (0.4.7)\n",
            "Requirement already satisfied: pandas>=1.2.0 in /usr/local/lib/python3.10/dist-packages (from pyreadr) (1.5.3)\n",
            "Requirement already satisfied: python-dateutil>=2.8.1 in /usr/local/lib/python3.10/dist-packages (from pandas>=1.2.0->pyreadr) (2.8.2)\n",
            "Requirement already satisfied: pytz>=2020.1 in /usr/local/lib/python3.10/dist-packages (from pandas>=1.2.0->pyreadr) (2022.7.1)\n",
            "Requirement already satisfied: numpy>=1.21.0 in /usr/local/lib/python3.10/dist-packages (from pandas>=1.2.0->pyreadr) (1.22.4)\n",
            "Requirement already satisfied: six>=1.5 in /usr/local/lib/python3.10/dist-packages (from python-dateutil>=2.8.1->pandas>=1.2.0->pyreadr) (1.16.0)\n"
          ]
        }
      ],
      "source": [
        "import numpy as np\n",
        "from tensorflow import keras\n",
        "from keras import layers\n",
        "import pandas as pd\n",
        "import numpy as np\n",
        "#from sklearn import train_test_split\n",
        "import matplotlib.pyplot as plt\n",
        "!pip install pyreadr\n",
        "import pyreadr"
      ]
    },
    {
      "cell_type": "markdown",
      "source": [
        "Test example"
      ],
      "metadata": {
        "id": "OL7v0XcLlg1L"
      }
    },
    {
      "cell_type": "code",
      "source": [
        "\"\"\"\n",
        "# Input data\n",
        "X = np.array([[0, 0], [0, 1], [1, 0], [1, 1]])\n",
        "\n",
        "# Output data\n",
        "y = np.array([[0], [1], [1], [0]])\n",
        "\n",
        "# Neural network\n",
        "model = keras.Sequential()\n",
        "model.add(layers.Dense(4, activation='relu', input_shape=(2,)))\n",
        "model.add(layers.Dense(1, activation='sigmoid'))\n",
        "\n",
        "# Compile model\n",
        "model.compile(optimizer='adam', loss='binary_crossentropy', metrics=['accuracy'])\n",
        "\n",
        "# Train model\n",
        "model.fit(X, y, epochs=1000, batch_size=4)\n",
        "\n",
        "# Test data\n",
        "X_test = np.array([[0, 0], [0, 1], [1, 0], [1, 1]])\n",
        "\n",
        "# Predictions\n",
        "predictions = model.predict(X_test)\n",
        "\n",
        "# Plot the results\n",
        "plt.scatter(X_test[:, 0], X_test[:, 1], c=predictions.flatten(), cmap='viridis')\n",
        "plt.title('Predictions')\n",
        "plt.xlabel('Xtest1')\n",
        "plt.ylabel('Xtest2')\n",
        "plt.colorbar()\n",
        "plt.show()\n",
        "\n",
        "plt.scatter(X[:, 0], X[:, 1], c=y.flatten(), cmap='viridis')\n",
        "plt.title('y')\n",
        "plt.xlabel('X1')\n",
        "plt.ylabel('X2')\n",
        "plt.colorbar()\n",
        "plt.show()\n",
        "\"\"\""
      ],
      "metadata": {
        "colab": {
          "base_uri": "https://localhost:8080/",
          "height": 174
        },
        "id": "oMBsFsaGx_Qq",
        "outputId": "44678ea6-90af-4acf-e483-7788080c6872"
      },
      "execution_count": 4,
      "outputs": [
        {
          "output_type": "execute_result",
          "data": {
            "text/plain": [
              "\"\\n# Input data\\nX = np.array([[0, 0], [0, 1], [1, 0], [1, 1]])\\n\\n# Output data\\ny = np.array([[0], [1], [1], [0]])\\n\\n# Neural network\\nmodel = keras.Sequential()\\nmodel.add(layers.Dense(4, activation='relu', input_shape=(2,)))\\nmodel.add(layers.Dense(1, activation='sigmoid'))\\n\\n# Compile model\\nmodel.compile(optimizer='adam', loss='binary_crossentropy', metrics=['accuracy'])\\n\\n# Train model\\nmodel.fit(X, y, epochs=1000, batch_size=4)\\n\\n# Test data\\nX_test = np.array([[0, 0], [0, 1], [1, 0], [1, 1]])\\n\\n# Predictions\\npredictions = model.predict(X_test)\\n\\n# Plot the results\\nplt.scatter(X_test[:, 0], X_test[:, 1], c=predictions.flatten(), cmap='viridis')\\nplt.title('Predictions')\\nplt.xlabel('Xtest1')\\nplt.ylabel('Xtest2')\\nplt.colorbar()\\nplt.show()\\n\\nplt.scatter(X[:, 0], X[:, 1], c=y.flatten(), cmap='viridis')\\nplt.title('y')\\nplt.xlabel('X1')\\nplt.ylabel('X2')\\nplt.colorbar()\\nplt.show()\\n\""
            ],
            "application/vnd.google.colaboratory.intrinsic+json": {
              "type": "string"
            }
          },
          "metadata": {},
          "execution_count": 4
        }
      ]
    },
    {
      "cell_type": "markdown",
      "source": [
        "Load data"
      ],
      "metadata": {
        "id": "9V6G9irLLxFi"
      }
    },
    {
      "cell_type": "code",
      "source": [
        "filename = '/content/data.Rd'\n",
        "df = pyreadr.read_r(filename)\n",
        "# Some checks\n",
        "print(df['d.train'].columns)\n",
        "print(df['d.test'].columns)\n",
        "print(df['d.train'].count())\n",
        "print(df['d.test'].count())\n",
        "print(df['im.train'].head())\n",
        "print(df['im.test'].head())\n",
        "print(df['d.train'].shape)\n",
        "print(df['d.test'].shape)\n",
        "print(df['im.train'].shape)\n",
        "print(df['im.test'].shape)\n",
        "x_train = df['im.train']\n",
        "y_train = df['d.train']\n",
        "x_test = df['im.test']\n",
        "y_test = df['d.test']\n",
        "# Get the indices of rows containing NaN values. Note that train and test splits are random with a given seed.\n",
        "nan_indices_train = x_train.index[x_train.isnull().any(axis=1)].tolist() + y_train.index[y_train.isnull().any(axis=1)].tolist()\n",
        "nan_indices_test = x_test.index[x_test.isnull().any(axis=1)].tolist() + y_test.index[y_test.isnull().any(axis=1)].tolist()\n",
        "\n",
        "# Drop rows containing NaN values\n",
        "x_train = x_train.drop(x_train.index[nan_indices_train])\n",
        "y_train = y_train.drop(y_train.index[nan_indices_train])\n",
        "x_test = x_test.drop(x_test.index[nan_indices_test])\n",
        "y_test = y_test.drop(y_test.index[nan_indices_test])\n",
        "\n",
        "print(x_train.shape)\n",
        "print(y_train.shape)\n",
        "print(x_test.shape)\n",
        "print(y_test.shape)\n",
        "\n"
      ],
      "metadata": {
        "colab": {
          "base_uri": "https://localhost:8080/"
        },
        "id": "8sOJXEePLwc9",
        "outputId": "2aacd23e-aae9-4223-d9c0-8c4682985e8c"
      },
      "execution_count": 6,
      "outputs": [
        {
          "output_type": "stream",
          "name": "stdout",
          "text": [
            "Index(['left_eye_center_x', 'left_eye_center_y', 'right_eye_center_x',\n",
            "       'right_eye_center_y', 'left_eye_inner_corner_x',\n",
            "       'left_eye_inner_corner_y', 'left_eye_outer_corner_x',\n",
            "       'left_eye_outer_corner_y', 'right_eye_inner_corner_x',\n",
            "       'right_eye_inner_corner_y', 'right_eye_outer_corner_x',\n",
            "       'right_eye_outer_corner_y', 'left_eyebrow_inner_end_x',\n",
            "       'left_eyebrow_inner_end_y', 'left_eyebrow_outer_end_x',\n",
            "       'left_eyebrow_outer_end_y', 'right_eyebrow_inner_end_x',\n",
            "       'right_eyebrow_inner_end_y', 'right_eyebrow_outer_end_x',\n",
            "       'right_eyebrow_outer_end_y', 'nose_tip_x', 'nose_tip_y',\n",
            "       'mouth_left_corner_x', 'mouth_left_corner_y', 'mouth_right_corner_x',\n",
            "       'mouth_right_corner_y', 'mouth_center_top_lip_x',\n",
            "       'mouth_center_top_lip_y', 'mouth_center_bottom_lip_x',\n",
            "       'mouth_center_bottom_lip_y'],\n",
            "      dtype='object')\n",
            "Index(['left_eye_center_x', 'left_eye_center_y', 'right_eye_center_x',\n",
            "       'right_eye_center_y', 'left_eye_inner_corner_x',\n",
            "       'left_eye_inner_corner_y', 'left_eye_outer_corner_x',\n",
            "       'left_eye_outer_corner_y', 'right_eye_inner_corner_x',\n",
            "       'right_eye_inner_corner_y', 'right_eye_outer_corner_x',\n",
            "       'right_eye_outer_corner_y', 'left_eyebrow_inner_end_x',\n",
            "       'left_eyebrow_inner_end_y', 'left_eyebrow_outer_end_x',\n",
            "       'left_eyebrow_outer_end_y', 'right_eyebrow_inner_end_x',\n",
            "       'right_eyebrow_inner_end_y', 'right_eyebrow_outer_end_x',\n",
            "       'right_eyebrow_outer_end_y', 'nose_tip_x', 'nose_tip_y',\n",
            "       'mouth_left_corner_x', 'mouth_left_corner_y', 'mouth_right_corner_x',\n",
            "       'mouth_right_corner_y', 'mouth_center_top_lip_x',\n",
            "       'mouth_center_top_lip_y', 'mouth_center_bottom_lip_x',\n",
            "       'mouth_center_bottom_lip_y'],\n",
            "      dtype='object')\n",
            "left_eye_center_x            5630\n",
            "left_eye_center_y            5630\n",
            "right_eye_center_x           5628\n",
            "right_eye_center_y           5628\n",
            "left_eye_inner_corner_x      1849\n",
            "left_eye_inner_corner_y      1849\n",
            "left_eye_outer_corner_x      1845\n",
            "left_eye_outer_corner_y      1845\n",
            "right_eye_inner_corner_x     1847\n",
            "right_eye_inner_corner_y     1847\n",
            "right_eye_outer_corner_x     1847\n",
            "right_eye_outer_corner_y     1847\n",
            "left_eyebrow_inner_end_x     1849\n",
            "left_eyebrow_inner_end_y     1849\n",
            "left_eyebrow_outer_end_x     1811\n",
            "left_eyebrow_outer_end_y     1811\n",
            "right_eyebrow_inner_end_x    1849\n",
            "right_eyebrow_inner_end_y    1849\n",
            "right_eyebrow_outer_end_x    1818\n",
            "right_eyebrow_outer_end_y    1818\n",
            "nose_tip_x                   5639\n",
            "nose_tip_y                   5639\n",
            "mouth_left_corner_x          1850\n",
            "mouth_left_corner_y          1850\n",
            "mouth_right_corner_x         1851\n",
            "mouth_right_corner_y         1851\n",
            "mouth_center_top_lip_x       1855\n",
            "mouth_center_top_lip_y       1855\n",
            "mouth_center_bottom_lip_x    5614\n",
            "mouth_center_bottom_lip_y    5614\n",
            "dtype: int64\n",
            "left_eye_center_x            1409\n",
            "left_eye_center_y            1409\n",
            "right_eye_center_x           1408\n",
            "right_eye_center_y           1408\n",
            "left_eye_inner_corner_x       422\n",
            "left_eye_inner_corner_y       422\n",
            "left_eye_outer_corner_x       422\n",
            "left_eye_outer_corner_y       422\n",
            "right_eye_inner_corner_x      421\n",
            "right_eye_inner_corner_y      421\n",
            "right_eye_outer_corner_x      421\n",
            "right_eye_outer_corner_y      421\n",
            "left_eyebrow_inner_end_x      421\n",
            "left_eyebrow_inner_end_y      421\n",
            "left_eyebrow_outer_end_x      414\n",
            "left_eyebrow_outer_end_y      414\n",
            "right_eyebrow_inner_end_x     421\n",
            "right_eyebrow_inner_end_y     421\n",
            "right_eyebrow_outer_end_x     418\n",
            "right_eyebrow_outer_end_y     418\n",
            "nose_tip_x                   1410\n",
            "nose_tip_y                   1410\n",
            "mouth_left_corner_x           419\n",
            "mouth_left_corner_y           419\n",
            "mouth_right_corner_x          419\n",
            "mouth_right_corner_y          419\n",
            "mouth_center_top_lip_x        420\n",
            "mouth_center_top_lip_y        420\n",
            "mouth_center_bottom_lip_x    1402\n",
            "mouth_center_bottom_lip_y    1402\n",
            "dtype: int64\n",
            "             0     1     2     3     4     5     6     7     8     9     ...  \\\n",
            "result.1422    32    30    29    27    26    22    22    20    20    23  ...   \n",
            "result.1017    88    55    49    45    39    32    28    31    37    49  ...   \n",
            "result.4775     0    17    12    38   122   224   237   142    74    54  ...   \n",
            "result.2177   114    42    46    29    39    91    79   102   155   164  ...   \n",
            "result.5026   109   106    80    77    89    89   118    94    91   136  ...   \n",
            "\n",
            "             9206  9207  9208  9209  9210  9211  9212  9213  9214  9215  \n",
            "result.1422    62    76    75    76    82    75    68    77   203   255  \n",
            "result.1017   226   214   154   139   146   144   139   139   144   146  \n",
            "result.4775   117   116   115   114   112   111   110   110   109   109  \n",
            "result.2177    34    41    51    54    56    59    58    60    59    58  \n",
            "result.5026   149   151   148   148   150   147   146   118    51    43  \n",
            "\n",
            "[5 rows x 9216 columns]\n",
            "           0     1     2     3     4     5     6     7     8     9     ...  \\\n",
            "result.5    147   148   160   196   215   214   216   217   219   220  ...   \n",
            "result.8    178   177   178   179   179   179   181   185   188   184  ...   \n",
            "result.10   226   227   225   224   221   220   215   210   210   208  ...   \n",
            "result.11    52    51    54    57    57    56    55    55    56    59  ...   \n",
            "result.20    64    56    53    51    57    74    85    86    88    90  ...   \n",
            "\n",
            "           9206  9207  9208  9209  9210  9211  9212  9213  9214  9215  \n",
            "result.5     33    34    37    37    43    46    83   140   170   176  \n",
            "result.8     59    70    75    78    93   119   120   100    72    74  \n",
            "result.10   109   113   112   113   116   116   119   118   114   113  \n",
            "result.11   155   200   207   198   195   192   194   193   190   187  \n",
            "result.20    31    39    40    40    40    61    90    94   154   187  \n",
            "\n",
            "[5 rows x 9216 columns]\n",
            "(5639, 30)\n",
            "(1410, 30)\n",
            "(5639, 9216)\n",
            "(1410, 9216)\n",
            "(1738, 9216)\n",
            "(1738, 30)\n",
            "(402, 9216)\n",
            "(402, 30)\n"
          ]
        }
      ]
    },
    {
      "cell_type": "markdown",
      "source": [
        "Single layer model"
      ],
      "metadata": {
        "id": "ksBD-SVl0tIk"
      }
    },
    {
      "cell_type": "code",
      "source": [
        "# Define the model\n",
        "pixel_num = x_train.shape[1]\n",
        "model = keras.Sequential([\n",
        "    keras.layers.Dense(64, activation='relu', input_shape=(pixel_num,)),\n",
        "    keras.layers.Dense(32, activation='relu'),\n",
        "    keras.layers.Dense(y_train.shape[1])  # Output layer with 2 units per keypoint (x and y coordinates)\n",
        "])\n",
        "\n",
        "# Compile the model\n",
        "model.compile(optimizer='adam', loss='mse')\n",
        "\n",
        "# Train the model\n",
        "model.fit(x_train, y_train, epochs=400, batch_size=32)\n",
        "\n",
        "# Make predictions\n",
        "predictions = model.predict(x_test)"
      ],
      "metadata": {
        "id": "EIllhOZEtbHx"
      },
      "execution_count": null,
      "outputs": []
    },
    {
      "cell_type": "code",
      "source": [
        "mse = np.mean((predictions - y_test) ** 2)\n",
        "rmse = np.sqrt(mse)"
      ],
      "metadata": {
        "colab": {
          "base_uri": "https://localhost:8080/"
        },
        "id": "vA8P1bkO2yvj",
        "outputId": "8c38a1fe-bf31-40ea-b07e-2a13df587058"
      },
      "execution_count": 8,
      "outputs": [
        {
          "output_type": "stream",
          "name": "stderr",
          "text": [
            "/usr/local/lib/python3.10/dist-packages/numpy/core/fromnumeric.py:3472: FutureWarning: In a future version, DataFrame.mean(axis=None) will return a scalar mean over the entire DataFrame. To retain the old behavior, use 'frame.mean(axis=0)' or just 'frame.mean()'\n",
            "  return mean(axis=axis, dtype=dtype, out=out, **kwargs)\n"
          ]
        }
      ]
    },
    {
      "cell_type": "code",
      "source": [
        "rmse"
      ],
      "metadata": {
        "colab": {
          "base_uri": "https://localhost:8080/"
        },
        "id": "59i1332WCVpf",
        "outputId": "ed4fabe1-3036-476e-edc8-c0b42c2b04d8"
      },
      "execution_count": 9,
      "outputs": [
        {
          "output_type": "execute_result",
          "data": {
            "text/plain": [
              "left_eye_center_x            11.419501\n",
              "left_eye_center_y             6.390877\n",
              "right_eye_center_x            5.096177\n",
              "right_eye_center_y            6.081428\n",
              "left_eye_inner_corner_x      10.236564\n",
              "left_eye_inner_corner_y       6.384052\n",
              "left_eye_outer_corner_x      12.540712\n",
              "left_eye_outer_corner_y       6.821938\n",
              "right_eye_inner_corner_x      6.051410\n",
              "right_eye_inner_corner_y      6.113897\n",
              "right_eye_outer_corner_x      4.403216\n",
              "right_eye_outer_corner_y      6.276098\n",
              "left_eyebrow_inner_end_x     10.093143\n",
              "left_eyebrow_inner_end_y      5.084200\n",
              "left_eyebrow_outer_end_x     13.691053\n",
              "left_eyebrow_outer_end_y      5.994511\n",
              "right_eyebrow_inner_end_x     6.888193\n",
              "right_eyebrow_inner_end_y     4.809349\n",
              "right_eyebrow_outer_end_x     4.010386\n",
              "right_eyebrow_outer_end_y     5.438498\n",
              "nose_tip_x                    8.221291\n",
              "nose_tip_y                    9.874746\n",
              "mouth_left_corner_x          10.564351\n",
              "mouth_left_corner_y          13.399257\n",
              "mouth_right_corner_x          5.813063\n",
              "mouth_right_corner_y         13.101846\n",
              "mouth_center_top_lip_x        7.848263\n",
              "mouth_center_top_lip_y       12.635592\n",
              "mouth_center_bottom_lip_x     7.983615\n",
              "mouth_center_bottom_lip_y    14.731530\n",
              "dtype: float64"
            ]
          },
          "metadata": {},
          "execution_count": 9
        }
      ]
    },
    {
      "cell_type": "code",
      "source": [
        "df_predictions = pd.DataFrame(predictions)"
      ],
      "metadata": {
        "id": "O-4lCKuJDN5C"
      },
      "execution_count": 14,
      "outputs": []
    },
    {
      "cell_type": "code",
      "source": [
        "# Plot the first image in the DataFrame\n",
        "image = np.array(x_test.iloc[1,:])  # Convert the Series to a NumPy array\n",
        "image = image.reshape((96, 96))  # Reshape the array to the desired image dimensions\n",
        "predicted_keypoints = predictions[1].reshape((15, 2))\n",
        "plt.scatter(predicted_keypoints[:, 0], predicted_keypoints[:, 1], c='r', marker='o')\n",
        "plt.imshow(image, cmap='gray')\n",
        "plt.show()"
      ],
      "metadata": {
        "colab": {
          "base_uri": "https://localhost:8080/",
          "height": 433
        },
        "id": "SMdqZBecLIOi",
        "outputId": "e0cff9a6-8eb3-4fe5-c92c-922727ac279b"
      },
      "execution_count": 24,
      "outputs": [
        {
          "output_type": "display_data",
          "data": {
            "text/plain": [
              "<Figure size 640x480 with 1 Axes>"
            ],
            "image/png": "[encoded data removed]"
          },
          "metadata": {}
        }
      ]
    },
    {
      "cell_type": "code",
      "source": [],
      "metadata": {
        "colab": {
          "base_uri": "https://localhost:8080/"
        },
        "id": "uwC_Sl0RLQGj",
        "outputId": "33cab342-e537-4ed6-8af8-eab079866514"
      },
      "execution_count": 22,
      "outputs": [
        {
          "output_type": "execute_result",
          "data": {
            "text/plain": [
              "0       147\n",
              "1       148\n",
              "2       160\n",
              "3       196\n",
              "4       215\n",
              "       ... \n",
              "9211     46\n",
              "9212     83\n",
              "9213    140\n",
              "9214    170\n",
              "9215    176\n",
              "Name: result.5, Length: 9216, dtype: int32"
            ]
          },
          "metadata": {},
          "execution_count": 22
        }
      ]
    },
    {
      "cell_type": "code",
      "source": [],
      "metadata": {
        "id": "soehCjFAM2wd"
      },
      "execution_count": null,
      "outputs": []
    }
  ]
}