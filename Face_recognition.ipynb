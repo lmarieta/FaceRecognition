{
  "nbformat": 4,
  "nbformat_minor": 0,
  "metadata": {
    "colab": {
      "provenance": [],
      "gpuType": "T4",
      "include_colab_link": true
    },
    "kernelspec": {
      "name": "python3",
      "display_name": "Python 3"
    },
    "language_info": {
      "name": "python"
    },
    "accelerator": "GPU"
  },
  "cells": [
    {
      "cell_type": "markdown",
      "metadata": {
        "id": "view-in-github",
        "colab_type": "text"
      },
      "source": [
        "<a href=\"https://colab.research.google.com/github/lmarieta/FaceRecognition/blob/main/Face_recognition.ipynb\" target=\"_parent\"><img src=\"https://colab.research.google.com/assets/colab-badge.svg\" alt=\"Open In Colab\"/></a>"
      ]
    },
    {
      "cell_type": "markdown",
      "source": [
        "Before starting, upload data.h5, data_submission.h5, IdLookupTable.csv and model.h5 files. After training your model, you can download it. After saving the output file, you can also download it."
      ],
      "metadata": {
        "id": "lBQAn62asEWj"
      }
    },
    {
      "cell_type": "markdown",
      "source": [
        "Import Libraries\n"
      ],
      "metadata": {
        "id": "HCjTVDjLk_28"
      }
    },
    {
      "cell_type": "code",
      "execution_count": 19,
      "metadata": {
        "colab": {
          "base_uri": "https://localhost:8080/"
        },
        "id": "QsKs4kwPiiKV",
        "outputId": "b64a082b-c273-49ee-f52a-628b98b02019"
      },
      "outputs": [
        {
          "output_type": "stream",
          "name": "stdout",
          "text": [
            "Requirement already satisfied: pyreadr in /usr/local/lib/python3.10/dist-packages (0.4.9)\n",
            "Requirement already satisfied: pandas>=1.2.0 in /usr/local/lib/python3.10/dist-packages (from pyreadr) (1.5.3)\n",
            "Requirement already satisfied: python-dateutil>=2.8.1 in /usr/local/lib/python3.10/dist-packages (from pandas>=1.2.0->pyreadr) (2.8.2)\n",
            "Requirement already satisfied: pytz>=2020.1 in /usr/local/lib/python3.10/dist-packages (from pandas>=1.2.0->pyreadr) (2023.3.post1)\n",
            "Requirement already satisfied: numpy>=1.21.0 in /usr/local/lib/python3.10/dist-packages (from pandas>=1.2.0->pyreadr) (1.23.5)\n",
            "Requirement already satisfied: six>=1.5 in /usr/local/lib/python3.10/dist-packages (from python-dateutil>=2.8.1->pandas>=1.2.0->pyreadr) (1.16.0)\n"
          ]
        }
      ],
      "source": [
        "import numpy as np\n",
        "from tensorflow import keras\n",
        "import tensorflow as tf\n",
        "from keras import layers\n",
        "import pandas as pd\n",
        "import h5py\n",
        "#from sklearn import train_test_split\n",
        "import matplotlib.pyplot as plt\n",
        "!pip install pyreadr\n",
        "import pyreadr\n",
        "from keras.optimizers import Adam\n",
        "from timeit import default_timer\n",
        "from keras.callbacks import EarlyStopping\n",
        "from keras.callbacks import Callback\n",
        "from keras.layers import Conv2D, MaxPooling2D, Flatten, Dense, Dropout, Reshape, BatchNormalization\n",
        "from keras.regularizers import l2\n",
        "from keras.preprocessing.image import ImageDataGenerator\n",
        "from collections import OrderedDict\n",
        "from tensorflow.keras.models import clone_model, load_model\n",
        "from sklearn.utils import shuffle\n",
        "from sklearn.metrics import mean_squared_error\n",
        "from tensorflow.keras import layers, models"
      ]
    },
    {
      "cell_type": "markdown",
      "source": [
        "Initialization"
      ],
      "metadata": {
        "id": "dCq6AyUthC9K"
      }
    },
    {
      "cell_type": "code",
      "source": [
        "epochs = 100\n",
        "pretraining = False"
      ],
      "metadata": {
        "id": "nzTL3YCHhF8q"
      },
      "execution_count": 20,
      "outputs": []
    },
    {
      "cell_type": "markdown",
      "source": [
        "Load data"
      ],
      "metadata": {
        "id": "9V6G9irLLxFi"
      }
    },
    {
      "cell_type": "code",
      "source": [
        "data_filename = '/content/data.h5'\n",
        "submission_filename = '/content/data_submission.h5'\n",
        "\n",
        "## Get the indices of rows containing NaN values. Note that train and test splits are random with a given seed.\n",
        "# nan_indices_train = x_train.index[x_train.isnull().any(axis=1)].tolist() + y_train.index[y_train.isnull().any(axis=1)].tolist()\n",
        "# nan_indices_test = x_test.index[x_test.isnull().any(axis=1)].tolist() + y_test.index[y_test.isnull().any(axis=1)].tolist()\n",
        "\n",
        "## Drop rows containing NaN values\n",
        "# x_train = x_train.drop(x_train.index[nan_indices_train])\n",
        "# y_train = y_train.drop(y_train.index[nan_indices_train])\n",
        "# x_test = x_test.drop(x_test.index[nan_indices_test])\n",
        "# y_test = y_test.drop(y_test.index[nan_indices_test])\n",
        "\n"
      ],
      "metadata": {
        "id": "8sOJXEePLwc9"
      },
      "execution_count": 21,
      "outputs": []
    },
    {
      "cell_type": "code",
      "source": [
        "def load(test=False, cols=None, fname=data_filename):\n",
        "    \"\"\"Loads data from FTEST if *test* is True, otherwise from FTRAIN.\n",
        "    Pass a list of *cols* if you're only interested in a subset of the\n",
        "    target columns.\n",
        "    \"\"\"\n",
        "\n",
        "    with h5py.File(fname, 'r') as hdf_file:\n",
        "      if (fname == data_filename and test == False):\n",
        "        # Read DataFrames\n",
        "        X = pd.DataFrame(hdf_file['im_train'][:])\n",
        "        y = pd.DataFrame(hdf_file['d_train'][:])\n",
        "        y.columns = hdf_file['d_train'].attrs['column_names']\n",
        "      elif (fname == data_filename and test == True):\n",
        "        # Read DataFrames\n",
        "        X = pd.DataFrame(hdf_file['im_test'][:])\n",
        "        y = pd.DataFrame(hdf_file['d_test'][:])\n",
        "        y.columns = hdf_file['d_test'].attrs['column_names']\n",
        "      else:\n",
        "        # Read NumPy arrays\n",
        "        X = pd.DataFrame(np.array(hdf_file['submission_image'][:]))\n",
        "\n",
        "    if (cols and fname == data_filename):  # get a subset of columns\n",
        "        y = y[list(cols)]\n",
        "\n",
        "    X = np.vstack(X.values) / 255.  # scale pixel values to [0, 1]\n",
        "    X = X.astype(np.float32)\n",
        "\n",
        "    if fname == data_filename:  # only FTRAIN has any target columns\n",
        "        y = y.values\n",
        "        X, y = shuffle(X, y, random_state=42)  # shuffle train data\n",
        "        y = y.astype(np.float32)\n",
        "    else:\n",
        "        y = None\n",
        "\n",
        "    return X, y"
      ],
      "metadata": {
        "id": "PesN-UE7T-5V"
      },
      "execution_count": 22,
      "outputs": []
    },
    {
      "cell_type": "code",
      "source": [
        "def load2d(test=False, cols=None, fname=data_filename):\n",
        "    X, y = load(test=test,cols=cols,fname=fname)\n",
        "    X = X.reshape(-1, 96, 96, 1)\n",
        "    return X, y"
      ],
      "metadata": {
        "id": "NkqSAShVTwA0"
      },
      "execution_count": 23,
      "outputs": []
    },
    {
      "cell_type": "code",
      "source": [
        "if pretraining == True:\n",
        "  x_train, y_train = load2d(test = False, fname = data_filename)\n",
        "else:\n",
        "  x_train, y_train = load(test = False, fname = data_filename)\n",
        "x_test, y_test = load2d(test = True, fname = data_filename)\n",
        "\n",
        "# Find rows with NaN values\n",
        "nan_rows = np.isnan(y_test).any(axis=1)\n",
        "\n",
        "# Use boolean indexing to drop rows with NaN values\n",
        "x_test = x_test[~nan_rows]\n",
        "y_test = y_test[~nan_rows]"
      ],
      "metadata": {
        "id": "So4pMJWKX1DU"
      },
      "execution_count": 24,
      "outputs": []
    },
    {
      "cell_type": "markdown",
      "source": [
        "Model selection"
      ],
      "metadata": {
        "id": "R1tsO8Kk6Jh2"
      }
    },
    {
      "cell_type": "code",
      "source": [
        "model_type = 'Convolutions' # options: {'Single hidden layer','Convolutions'}\n",
        "df = pd.DataFrame({model_type}, columns=['Model type'])\n",
        "\n",
        "# Start recording time\n",
        "start = default_timer()"
      ],
      "metadata": {
        "id": "_BVmFiBg6LYp"
      },
      "execution_count": 25,
      "outputs": []
    },
    {
      "cell_type": "markdown",
      "source": [
        "Dynamic momentum and learning rate"
      ],
      "metadata": {
        "id": "9xYT_lLnhSoc"
      }
    },
    {
      "cell_type": "code",
      "source": [
        "class MomentumScheduler(Callback):\n",
        "    def __init__(self, schedule, decay_rate):\n",
        "        super(MomentumScheduler, self).__init__()\n",
        "        self.initial_schedule = schedule\n",
        "        self.decay_rate = decay_rate\n",
        "\n",
        "    def on_epoch_begin(self, epoch, logs=None):\n",
        "        if not hasattr(self.model.optimizer, 'beta_1'):\n",
        "            raise ValueError(\"Optimizer must have a 'beta_1' attribute.\")\n",
        "        momentum = self.initial_schedule + (self.decay_rate*epoch) / epochs\n",
        "        self.model.optimizer.beta_1 = momentum\n",
        "\n",
        "\n",
        "class LinearDecayLR(Callback):\n",
        "    def __init__(self, initial_lr, decay_rate):\n",
        "        super(LinearDecayLR, self).__init__()\n",
        "        self.initial_lr = initial_lr\n",
        "        self.decay_rate = decay_rate\n",
        "\n",
        "    def on_epoch_begin(self, epoch, logs=None):\n",
        "        new_lr = self.initial_lr - (self.decay_rate * epoch) / epochs\n",
        "        self.model.optimizer.lr = new_lr\n",
        "\n",
        "# Initialize for learning rate and momentum\n",
        "initial_momentum = 0.9 # TODO optimize\n",
        "momentum_decay_rate = 0.999 - initial_momentum\n",
        "\n",
        "initial_lr = 0.01 # TODO optimize\n",
        "lr_decay_rate = 999 / 1000 * initial_lr\n",
        "\n",
        "# Create callbacks\n",
        "momentum_callback = MomentumScheduler(initial_momentum, momentum_decay_rate)\n",
        "lr_callback = LinearDecayLR(initial_lr, lr_decay_rate)\n"
      ],
      "metadata": {
        "id": "Xo-F3T7rhXoF"
      },
      "execution_count": 26,
      "outputs": []
    },
    {
      "cell_type": "markdown",
      "source": [
        "Convolutions model"
      ],
      "metadata": {
        "id": "X8JbIEyf6AOp"
      }
    },
    {
      "cell_type": "code",
      "source": [
        "# Prepare for specialist training\n",
        "SPECIALIST_SETTINGS = [\n",
        "    dict(\n",
        "        columns=(\n",
        "            'left_eye_center_x', 'left_eye_center_y',\n",
        "            'right_eye_center_x', 'right_eye_center_y',\n",
        "            ),\n",
        "        ),\n",
        "\n",
        "    dict(\n",
        "        columns=(\n",
        "            'left_eye_inner_corner_x', 'left_eye_inner_corner_y',\n",
        "            'left_eye_outer_corner_x', 'left_eye_outer_corner_y',\n",
        "            'right_eye_inner_corner_x', 'right_eye_inner_corner_y',\n",
        "            'right_eye_outer_corner_x', 'right_eye_outer_corner_y',\n",
        "            ),\n",
        "        ),\n",
        "\n",
        "    dict(\n",
        "        columns=(\n",
        "            'left_eyebrow_inner_end_x', 'left_eyebrow_inner_end_y',\n",
        "            'left_eyebrow_outer_end_x', 'left_eyebrow_outer_end_y',\n",
        "            'right_eyebrow_inner_end_x', 'right_eyebrow_inner_end_y',\n",
        "            'right_eyebrow_outer_end_x', 'right_eyebrow_outer_end_y',\n",
        "            ),\n",
        "        ),\n",
        "\n",
        "    dict(\n",
        "        columns=(\n",
        "            'nose_tip_x', 'nose_tip_y',\n",
        "            ),\n",
        "        ),\n",
        "\n",
        "    dict(\n",
        "        columns=(\n",
        "            'mouth_left_corner_x', 'mouth_left_corner_y',\n",
        "            'mouth_right_corner_x', 'mouth_right_corner_y',\n",
        "            'mouth_center_top_lip_x', 'mouth_center_top_lip_y',\n",
        "            ),\n",
        "        ),\n",
        "\n",
        "    dict(\n",
        "        columns=(\n",
        "            'mouth_center_bottom_lip_x',\n",
        "            'mouth_center_bottom_lip_y',\n",
        "            ),\n",
        "        ),\n",
        "    ]"
      ],
      "metadata": {
        "id": "D6GpxHMTIwMY"
      },
      "execution_count": 27,
      "outputs": []
    },
    {
      "cell_type": "code",
      "source": [
        "if pretraining == True:\n",
        "  pixel_num = x_train.shape[1]\n",
        "\n",
        "  # Find rows with NaN values\n",
        "  nan_rows = np.isnan(y_train).any(axis=1)\n",
        "\n",
        "  # Use boolean indexing to drop rows with NaN values\n",
        "  x_train = x_train[~nan_rows]\n",
        "  y_train = y_train[~nan_rows]\n",
        "\n",
        "  # Assuming you have defined the input shape of your images\n",
        "  input_shape = (pixel_num, pixel_num, 1)\n",
        "\n",
        "  # Create the CNN model\n",
        "  net = keras.Sequential()\n",
        "\n",
        "  # Convolutional Layer 1\n",
        "  net.add(Conv2D(32, (3, 3), activation='relu', input_shape=input_shape))\n",
        "  #net.add(BatchNormalization())\n",
        "  net.add(MaxPooling2D((2, 2)))\n",
        "  net.add(Dropout(0.1))\n",
        "\n",
        "  # Convolutional Layer 2\n",
        "  net.add(Conv2D(64, (2, 2), activation='relu'))\n",
        "  #net.add(BatchNormalization())\n",
        "  net.add(MaxPooling2D((2, 2)))\n",
        "  net.add(Dropout(0.2))\n",
        "\n",
        "  # Convolutional Layer 3\n",
        "  net.add(Conv2D(128, (2, 2), activation='relu'))\n",
        "  net.add(Dropout(0.2))\n",
        "\n",
        "  # Convolutional Layer 4\n",
        "  net.add(Conv2D(256, (2, 2), activation='relu'))\n",
        "  net.add(BatchNormalization())\n",
        "  net.add(Dropout(0.2))\n",
        "\n",
        "  # Flatten the feature maps\n",
        "  net.add(Flatten())\n",
        "\n",
        "  # Fully Connected Layer 1\n",
        "  #net.add(Dense(200, activation='relu'))\n",
        "  #net.add(BatchNormalization())\n",
        "\n",
        "  # Fully Connected Layer 2\n",
        "  #net.add(Dense(200, activation='relu'))\n",
        "  #net.add(BatchNormalization())\n",
        "\n",
        "  # Output Layer\n",
        "  net.add(Dense(y_train.shape[1]))\n",
        "\n",
        "  ## Compile the model\n",
        "  # net.compile(optimizer=optimizer, loss='mse', metrics=['accuracy'])\n",
        "\n",
        "  # stop early\n",
        "  early_stopping = EarlyStopping(monitor='val_loss',patience=80, restore_best_weights=True)\n",
        "\n",
        "  # Create the Adam optimizer with the desired initial values\n",
        "  optimizer = Adam(learning_rate=initial_lr, beta_1 = initial_momentum)\n",
        "\n",
        "  # Compile the model and specify trainable variables\n",
        "  net.compile(optimizer=optimizer, loss='mse', metrics=['accuracy','mse'])\n",
        "\n",
        "  # Create a generator for training data\n",
        "  batch_size = 32\n",
        "\n",
        "  history = net.fit(x_train,\n",
        "                y_train,\n",
        "                batch_size = batch_size,\n",
        "                epochs = epochs,\n",
        "                callbacks = [early_stopping, lr_callback, momentum_callback],\n",
        "                validation_data=(x_test, y_test))\n",
        "\n",
        "  # Data augmentation\n",
        "  # Create an instance of ImageDataGenerator with desired augmentation settings\n",
        "  # data_generator = ImageDataGenerator(horizontal_flip = True, vertical_flip = True)\n"
      ],
      "metadata": {
        "id": "P-ttARWxVKli"
      },
      "execution_count": 28,
      "outputs": []
    },
    {
      "cell_type": "code",
      "source": [
        "if pretraining == False:\n",
        "  # Convolutional neural net with three convolutional layers and two fully connected layers\n",
        "  keras.backend.clear_session()\n",
        "  pixel_num = np.sqrt(x_train.shape[1]).astype(int)\n",
        "  # Assuming you have defined the input shape of your images\n",
        "  input_shape = (pixel_num, pixel_num, 1)\n",
        "\n",
        "  # Load pre-trained model\n",
        "  base_model = load_model('/content/model.h5')\n",
        "  # Create the CNN model\n",
        "  net = keras.Sequential()\n",
        "\n",
        "  # Add the modified base model\n",
        "  #for i in range(0,13):\n",
        "  # net.add(base_model.layers[i])\n",
        "\n",
        "  #net.layers[0].trainable = False\n",
        "\n",
        "    # Convolutional Layer 1\n",
        "  net.add(Conv2D(32, (3, 3), activation='relu', input_shape=input_shape))\n",
        "  #net.add(BatchNormalization())\n",
        "  net.add(MaxPooling2D((2, 2)))\n",
        "  net.add(Dropout(0.1))\n",
        "\n",
        "  # Convolutional Layer 2\n",
        "  net.add(Conv2D(64, (2, 2), activation='relu'))\n",
        "  #net.add(BatchNormalization())\n",
        "  net.add(MaxPooling2D((2, 2)))\n",
        "  net.add(Dropout(0.2))\n",
        "\n",
        "  # Convolutional Layer 3\n",
        "  net.add(Conv2D(128, (2, 2), activation='relu'))\n",
        "  net.add(Dropout(0.2))\n",
        "\n",
        "  # Convolutional Layer 4\n",
        "  net.add(Conv2D(256, (2, 2), activation='relu'))\n",
        "  net.add(BatchNormalization())\n",
        "  net.add(Dropout(0.2))\n",
        "\n",
        "  net.load_weights('/content/model.h5',by_name=True)\n",
        "\n",
        "  # Flatten the feature maps\n",
        "  net.add(Flatten())\n",
        "\n",
        "  # Fully Connected Layer 1\n",
        "  #net.add(Dense(200, activation='relu'))\n",
        "  #net.add(Dropout(0.2))\n",
        "\n",
        "  ## Compile the model\n",
        "  # net.compile(optimizer=optimizer, loss='mse', metrics=['accuracy'])\n",
        "\n",
        "  # stop early\n",
        "  early_stopping = EarlyStopping(monitor='val_loss',patience=30, restore_best_weights=True)\n",
        "\n",
        "  # Data augmentation\n",
        "  # Create an instance of ImageDataGenerator with desired augmentation settings\n",
        "  # data_generator = ImageDataGenerator(horizontal_flip = True, vertical_flip = True)\n",
        "\n",
        "  # Create a generator for training data\n",
        "  batch_size = 32\n",
        "  # train_generator = data_generator.flow(x_train, y_train, batch_size=batch_size)"
      ],
      "metadata": {
        "id": "dx3WTFmO6F6V"
      },
      "execution_count": 29,
      "outputs": []
    },
    {
      "cell_type": "code",
      "source": [
        "specialists = OrderedDict()\n",
        "val_loss_values = []\n",
        "training_loss_values = []\n",
        "predictions_list = []\n",
        "tmp = []\n",
        "tmp2 = []\n",
        "\n",
        "def fit_specialists(fname_pretrain=None):\n",
        "\n",
        "  for setting in SPECIALIST_SETTINGS:\n",
        "    cols = setting['columns']\n",
        "    x_train_cleaned, y_train_cleaned = load2d(cols=cols)\n",
        "    x_test_cleaned, y_test_cleaned = load2d(test = True, cols = cols, fname = data_filename)\n",
        "\n",
        "    # Find rows with NaN values\n",
        "    nan_rows = np.isnan(y_train_cleaned).any(axis=1)\n",
        "\n",
        "    # Use boolean indexing to drop rows with NaN values\n",
        "    x_train_cleaned = x_train_cleaned[~nan_rows]\n",
        "    y_train_cleaned = y_train_cleaned[~nan_rows]\n",
        "\n",
        "    # Find rows with NaN values\n",
        "    nan_rows = np.isnan(y_test_cleaned).any(axis=1)\n",
        "\n",
        "    # Use boolean indexing to drop rows with NaN values\n",
        "    x_test_cleaned = x_test_cleaned[~nan_rows]\n",
        "    y_test_cleaned = y_test_cleaned[~nan_rows]\n",
        "\n",
        "    model = clone_model(net)\n",
        "    # Output Layer\n",
        "    model.add(Dense(y_train_cleaned.shape[1]))\n",
        "\n",
        "    if 'kwargs' in setting:\n",
        "        # an option 'kwargs' in the settings list may be used to\n",
        "        # set any other parameter of the net:\n",
        "        vars(model).update(setting['kwargs'])\n",
        "\n",
        "    # Create the Adam optimizer with the desired initial values\n",
        "    optimizer = Adam(learning_rate=initial_lr, beta_1 = initial_momentum)\n",
        "\n",
        "    # Compile the model and specify trainable variables\n",
        "    model.compile(optimizer=optimizer, loss='mse', metrics=['accuracy'])\n",
        "\n",
        "    print(\"Training model for columns {} for {} epochs\".format(\n",
        "        cols, epochs))\n",
        "\n",
        "    history = model.fit(x_train_cleaned,\n",
        "              y_train_cleaned,\n",
        "              batch_size = batch_size,\n",
        "              epochs = epochs,\n",
        "              callbacks = [early_stopping, lr_callback, momentum_callback],\n",
        "              validation_data=(x_test_cleaned, y_test_cleaned))\n",
        "    specialists[cols] = model\n",
        "\n",
        "    # Calculate and store the loss value for this specialist\n",
        "    val_loss = history.history['val_loss']\n",
        "    training_loss = history.history['loss']\n",
        "    val_loss_values.append((cols, val_loss))\n",
        "    training_loss_values.append((cols, training_loss))\n",
        "\n",
        "    # Make predictions using this specialist on the cleaned test data\n",
        "    predictions = model.predict(x_test)\n",
        "    predictions_list.append(predictions)"
      ],
      "metadata": {
        "id": "yvx4lOe6bHQc"
      },
      "execution_count": 30,
      "outputs": []
    },
    {
      "cell_type": "markdown",
      "source": [
        "Analysis"
      ],
      "metadata": {
        "id": "PQLVo5JVw-5q"
      }
    },
    {
      "cell_type": "code",
      "source": [
        "if pretraining == False:\n",
        "  fit_specialists()\n",
        "\n",
        "  # Combine predictions from all specialists\n",
        "  combined_predictions = np.hstack(predictions_list)\n",
        "else:\n",
        "  combined_predictions = net.predict(x_test)\n",
        "  # Save the model to a file\n",
        "  net.save('/content/model.h5')\n",
        "\n",
        "# Calculate the loss value for the combined predictions\n",
        "combined_loss = mean_squared_error(y_test, combined_predictions)\n",
        "\n",
        "# Duration\n",
        "duration = default_timer() - start\n",
        "print(duration)\n",
        "df['Duration'] = duration"
      ],
      "metadata": {
        "id": "GawC2VdexCmw",
        "colab": {
          "base_uri": "https://localhost:8080/"
        },
        "outputId": "357e2d8d-0432-4dbd-d968-26b46c4ed2e7"
      },
      "execution_count": null,
      "outputs": [
        {
          "output_type": "stream",
          "name": "stdout",
          "text": [
            "Training model for columns ('left_eye_center_x', 'left_eye_center_y', 'right_eye_center_x', 'right_eye_center_y') for 100 epochs\n",
            "Epoch 1/100\n",
            "  5/176 [..............................] - ETA: 4s - loss: 1301.5652 - accuracy: 0.6125"
          ]
        },
        {
          "output_type": "stream",
          "name": "stderr",
          "text": [
            "WARNING:tensorflow:Callback method `on_train_batch_end` is slow compared to the batch time (batch time: 0.0105s vs `on_train_batch_end` time: 0.0118s). Check your callbacks.\n"
          ]
        },
        {
          "output_type": "stream",
          "name": "stdout",
          "text": [
            "176/176 [==============================] - 9s 27ms/step - loss: 74.8386 - accuracy: 0.9844 - val_loss: 16.7440 - val_accuracy: 0.9950\n",
            "Epoch 2/100\n",
            "176/176 [==============================] - 4s 23ms/step - loss: 11.7953 - accuracy: 0.9957 - val_loss: 13.7595 - val_accuracy: 0.9950\n",
            "Epoch 3/100\n",
            "176/176 [==============================] - 5s 28ms/step - loss: 9.9469 - accuracy: 0.9957 - val_loss: 9.7414 - val_accuracy: 0.9950\n",
            "Epoch 4/100\n",
            "176/176 [==============================] - 4s 23ms/step - loss: 8.9470 - accuracy: 0.9957 - val_loss: 7.8975 - val_accuracy: 0.9950\n",
            "Epoch 5/100\n",
            "176/176 [==============================] - 5s 26ms/step - loss: 8.0779 - accuracy: 0.9957 - val_loss: 13.5067 - val_accuracy: 0.9950\n",
            "Epoch 6/100\n",
            "176/176 [==============================] - 5s 30ms/step - loss: 8.2117 - accuracy: 0.9957 - val_loss: 12.4010 - val_accuracy: 0.9950\n",
            "Epoch 7/100\n",
            "176/176 [==============================] - 4s 23ms/step - loss: 7.5967 - accuracy: 0.9957 - val_loss: 7.9871 - val_accuracy: 0.9950\n",
            "Epoch 8/100\n",
            "176/176 [==============================] - 3s 20ms/step - loss: 7.7682 - accuracy: 0.9957 - val_loss: 7.4680 - val_accuracy: 0.9950\n",
            "Epoch 9/100\n",
            "176/176 [==============================] - 3s 20ms/step - loss: 7.6470 - accuracy: 0.9957 - val_loss: 8.4847 - val_accuracy: 0.9950\n",
            "Epoch 10/100\n",
            "176/176 [==============================] - 3s 19ms/step - loss: 7.5482 - accuracy: 0.9957 - val_loss: 6.7702 - val_accuracy: 0.9950\n",
            "Epoch 11/100\n",
            "176/176 [==============================] - 3s 19ms/step - loss: 7.0588 - accuracy: 0.9957 - val_loss: 6.4144 - val_accuracy: 0.9950\n",
            "Epoch 12/100\n",
            "176/176 [==============================] - 3s 19ms/step - loss: 6.8041 - accuracy: 0.9957 - val_loss: 6.9831 - val_accuracy: 0.9950\n",
            "Epoch 13/100\n",
            "176/176 [==============================] - 4s 20ms/step - loss: 7.2091 - accuracy: 0.9957 - val_loss: 9.7116 - val_accuracy: 0.9950\n",
            "Epoch 14/100\n",
            "176/176 [==============================] - 3s 19ms/step - loss: 6.4806 - accuracy: 0.9957 - val_loss: 5.9330 - val_accuracy: 0.9950\n",
            "Epoch 15/100\n",
            "176/176 [==============================] - 3s 19ms/step - loss: 6.1587 - accuracy: 0.9957 - val_loss: 6.5339 - val_accuracy: 0.9950\n",
            "Epoch 16/100\n",
            "176/176 [==============================] - 3s 19ms/step - loss: 5.8786 - accuracy: 0.9957 - val_loss: 8.2664 - val_accuracy: 0.9950\n",
            "Epoch 17/100\n",
            "176/176 [==============================] - 3s 19ms/step - loss: 5.9281 - accuracy: 0.9957 - val_loss: 6.6549 - val_accuracy: 0.9950\n",
            "Epoch 18/100\n",
            "176/176 [==============================] - 3s 18ms/step - loss: 5.9670 - accuracy: 0.9957 - val_loss: 5.6819 - val_accuracy: 0.9950\n",
            "Epoch 19/100\n",
            "176/176 [==============================] - 3s 19ms/step - loss: 5.7412 - accuracy: 0.9957 - val_loss: 6.0846 - val_accuracy: 0.9950\n",
            "Epoch 20/100\n",
            "176/176 [==============================] - 4s 20ms/step - loss: 5.8325 - accuracy: 0.9957 - val_loss: 6.5129 - val_accuracy: 0.9950\n",
            "Epoch 21/100\n",
            "176/176 [==============================] - 3s 19ms/step - loss: 5.2960 - accuracy: 0.9957 - val_loss: 5.8907 - val_accuracy: 0.9950\n",
            "Epoch 22/100\n",
            "176/176 [==============================] - 3s 19ms/step - loss: 5.5287 - accuracy: 0.9959 - val_loss: 7.7690 - val_accuracy: 0.9950\n",
            "Epoch 23/100\n",
            "176/176 [==============================] - 3s 19ms/step - loss: 5.3523 - accuracy: 0.9957 - val_loss: 6.5886 - val_accuracy: 0.9950\n",
            "Epoch 24/100\n",
            "176/176 [==============================] - 3s 20ms/step - loss: 5.0770 - accuracy: 0.9957 - val_loss: 6.1314 - val_accuracy: 0.9950\n",
            "Epoch 25/100\n",
            "176/176 [==============================] - 3s 18ms/step - loss: 5.5889 - accuracy: 0.9957 - val_loss: 11.4099 - val_accuracy: 0.9950\n",
            "Epoch 26/100\n",
            "176/176 [==============================] - 3s 19ms/step - loss: 5.0855 - accuracy: 0.9956 - val_loss: 6.6434 - val_accuracy: 0.9950\n",
            "Epoch 27/100\n",
            "176/176 [==============================] - 3s 19ms/step - loss: 4.8734 - accuracy: 0.9959 - val_loss: 5.5141 - val_accuracy: 0.9950\n",
            "Epoch 28/100\n",
            "176/176 [==============================] - 3s 19ms/step - loss: 4.7293 - accuracy: 0.9959 - val_loss: 5.9867 - val_accuracy: 0.9950\n",
            "Epoch 29/100\n",
            "176/176 [==============================] - 3s 19ms/step - loss: 4.6093 - accuracy: 0.9957 - val_loss: 5.6724 - val_accuracy: 0.9950\n",
            "Epoch 30/100\n",
            "176/176 [==============================] - 3s 19ms/step - loss: 4.4377 - accuracy: 0.9963 - val_loss: 7.1890 - val_accuracy: 0.9950\n",
            "Epoch 31/100\n",
            "176/176 [==============================] - 3s 20ms/step - loss: 4.7351 - accuracy: 0.9957 - val_loss: 5.5860 - val_accuracy: 0.9950\n",
            "Epoch 32/100\n",
            "176/176 [==============================] - 3s 19ms/step - loss: 4.2362 - accuracy: 0.9959 - val_loss: 5.8698 - val_accuracy: 0.9950\n",
            "Epoch 33/100\n",
            "176/176 [==============================] - 3s 18ms/step - loss: 4.4969 - accuracy: 0.9961 - val_loss: 6.0276 - val_accuracy: 0.9950\n",
            "Epoch 34/100\n",
            "176/176 [==============================] - 3s 18ms/step - loss: 4.1705 - accuracy: 0.9961 - val_loss: 5.5216 - val_accuracy: 0.9950\n",
            "Epoch 35/100\n",
            "176/176 [==============================] - 4s 20ms/step - loss: 4.2100 - accuracy: 0.9957 - val_loss: 5.7127 - val_accuracy: 0.9950\n",
            "Epoch 36/100\n",
            "176/176 [==============================] - 4s 21ms/step - loss: 4.1425 - accuracy: 0.9964 - val_loss: 5.6682 - val_accuracy: 0.9950\n",
            "Epoch 37/100\n",
            "176/176 [==============================] - 3s 18ms/step - loss: 4.1312 - accuracy: 0.9963 - val_loss: 5.6245 - val_accuracy: 0.9950\n",
            "Epoch 38/100\n",
            "176/176 [==============================] - 4s 20ms/step - loss: 4.0957 - accuracy: 0.9961 - val_loss: 6.1606 - val_accuracy: 0.9950\n",
            "Epoch 39/100\n",
            "176/176 [==============================] - 4s 24ms/step - loss: 4.1388 - accuracy: 0.9961 - val_loss: 5.9178 - val_accuracy: 0.9950\n",
            "Epoch 40/100\n",
            "176/176 [==============================] - 4s 24ms/step - loss: 4.0917 - accuracy: 0.9963 - val_loss: 5.7664 - val_accuracy: 0.9950\n",
            "Epoch 41/100\n",
            "176/176 [==============================] - 4s 24ms/step - loss: 3.9836 - accuracy: 0.9964 - val_loss: 5.5153 - val_accuracy: 0.9950\n",
            "Epoch 42/100\n",
            "176/176 [==============================] - 5s 29ms/step - loss: 3.8568 - accuracy: 0.9961 - val_loss: 6.4552 - val_accuracy: 0.9950\n",
            "Epoch 43/100\n",
            "176/176 [==============================] - 4s 25ms/step - loss: 3.8719 - accuracy: 0.9959 - val_loss: 5.9291 - val_accuracy: 0.9950\n",
            "Epoch 44/100\n",
            "176/176 [==============================] - 3s 20ms/step - loss: 3.9143 - accuracy: 0.9964 - val_loss: 6.4995 - val_accuracy: 0.9950\n",
            "Epoch 45/100\n",
            "176/176 [==============================] - 3s 20ms/step - loss: 3.7985 - accuracy: 0.9966 - val_loss: 6.3137 - val_accuracy: 0.9950\n",
            "Epoch 46/100\n",
            "176/176 [==============================] - 3s 19ms/step - loss: 3.8108 - accuracy: 0.9966 - val_loss: 6.1826 - val_accuracy: 0.9950\n",
            "Epoch 47/100\n",
            "176/176 [==============================] - 3s 18ms/step - loss: 3.9296 - accuracy: 0.9964 - val_loss: 6.3966 - val_accuracy: 0.9950\n",
            "Epoch 48/100\n",
            "176/176 [==============================] - 3s 20ms/step - loss: 3.6422 - accuracy: 0.9963 - val_loss: 6.3376 - val_accuracy: 0.9950\n",
            "Epoch 49/100\n",
            "176/176 [==============================] - 3s 19ms/step - loss: 3.9177 - accuracy: 0.9964 - val_loss: 5.6556 - val_accuracy: 0.9950\n",
            "Epoch 50/100\n",
            "176/176 [==============================] - 3s 19ms/step - loss: 3.6068 - accuracy: 0.9968 - val_loss: 6.5807 - val_accuracy: 0.9950\n",
            "Epoch 51/100\n",
            "176/176 [==============================] - 3s 19ms/step - loss: 3.3325 - accuracy: 0.9966 - val_loss: 6.4583 - val_accuracy: 0.9950\n",
            "Epoch 52/100\n",
            "176/176 [==============================] - 3s 20ms/step - loss: 3.4222 - accuracy: 0.9966 - val_loss: 6.5209 - val_accuracy: 0.9950\n",
            "Epoch 53/100\n",
            "176/176 [==============================] - 3s 18ms/step - loss: 3.4923 - accuracy: 0.9968 - val_loss: 6.4987 - val_accuracy: 0.9950\n",
            "Epoch 54/100\n",
            "176/176 [==============================] - 3s 19ms/step - loss: 3.4845 - accuracy: 0.9968 - val_loss: 8.3912 - val_accuracy: 0.9957\n",
            "Epoch 55/100\n",
            "176/176 [==============================] - 3s 20ms/step - loss: 3.2151 - accuracy: 0.9975 - val_loss: 6.2876 - val_accuracy: 0.9950\n",
            "Epoch 56/100\n",
            "176/176 [==============================] - 3s 20ms/step - loss: 3.1783 - accuracy: 0.9963 - val_loss: 6.4946 - val_accuracy: 0.9950\n",
            "Epoch 57/100\n",
            "176/176 [==============================] - 3s 19ms/step - loss: 3.2897 - accuracy: 0.9968 - val_loss: 6.2348 - val_accuracy: 0.9950\n",
            "13/13 [==============================] - 0s 3ms/step\n",
            "Training model for columns ('left_eye_inner_corner_x', 'left_eye_inner_corner_y', 'left_eye_outer_corner_x', 'left_eye_outer_corner_y', 'right_eye_inner_corner_x', 'right_eye_inner_corner_y', 'right_eye_outer_corner_x', 'right_eye_outer_corner_y') for 100 epochs\n",
            "Epoch 1/100\n",
            " 5/57 [=>............................] - ETA: 1s - loss: 2038.2109 - accuracy: 0.5813"
          ]
        },
        {
          "output_type": "stream",
          "name": "stderr",
          "text": [
            "WARNING:tensorflow:Callback method `on_train_batch_end` is slow compared to the batch time (batch time: 0.0100s vs `on_train_batch_end` time: 0.0119s). Check your callbacks.\n"
          ]
        },
        {
          "output_type": "stream",
          "name": "stdout",
          "text": [
            "57/57 [==============================] - 4s 33ms/step - loss: 273.8468 - accuracy: 0.9548 - val_loss: 1888.3983 - val_accuracy: 0.9309\n",
            "Epoch 2/100\n",
            "57/57 [==============================] - 1s 22ms/step - loss: 22.7598 - accuracy: 0.9994 - val_loss: 31.6075 - val_accuracy: 1.0000\n",
            "Epoch 3/100\n",
            "57/57 [==============================] - 1s 19ms/step - loss: 17.9769 - accuracy: 0.9994 - val_loss: 39.3753 - val_accuracy: 1.0000\n",
            "Epoch 4/100\n",
            "57/57 [==============================] - 1s 19ms/step - loss: 17.2950 - accuracy: 0.9983 - val_loss: 38.3925 - val_accuracy: 1.0000\n",
            "Epoch 5/100\n",
            "57/57 [==============================] - 1s 19ms/step - loss: 21.2565 - accuracy: 0.9994 - val_loss: 15.1386 - val_accuracy: 1.0000\n",
            "Epoch 6/100\n",
            "57/57 [==============================] - 1s 19ms/step - loss: 12.6445 - accuracy: 0.9994 - val_loss: 20.8447 - val_accuracy: 1.0000\n",
            "Epoch 7/100\n",
            "57/57 [==============================] - 1s 19ms/step - loss: 10.5126 - accuracy: 0.9994 - val_loss: 6.6334 - val_accuracy: 1.0000\n",
            "Epoch 8/100\n",
            "57/57 [==============================] - 1s 19ms/step - loss: 8.4867 - accuracy: 0.9994 - val_loss: 6.5855 - val_accuracy: 1.0000\n",
            "Epoch 9/100\n",
            "57/57 [==============================] - 1s 19ms/step - loss: 8.3483 - accuracy: 0.9994 - val_loss: 6.5343 - val_accuracy: 1.0000\n",
            "Epoch 10/100\n",
            "57/57 [==============================] - 1s 19ms/step - loss: 7.4222 - accuracy: 0.9994 - val_loss: 6.5162 - val_accuracy: 1.0000\n",
            "Epoch 11/100\n",
            "57/57 [==============================] - 1s 19ms/step - loss: 6.8252 - accuracy: 0.9994 - val_loss: 4.0000 - val_accuracy: 1.0000\n",
            "Epoch 12/100\n",
            "57/57 [==============================] - 1s 21ms/step - loss: 6.6872 - accuracy: 0.9994 - val_loss: 6.9452 - val_accuracy: 1.0000\n",
            "Epoch 13/100\n",
            "57/57 [==============================] - 1s 22ms/step - loss: 5.9747 - accuracy: 0.9994 - val_loss: 4.4540 - val_accuracy: 1.0000\n",
            "Epoch 14/100\n",
            "57/57 [==============================] - 1s 20ms/step - loss: 5.7162 - accuracy: 0.9994 - val_loss: 4.2704 - val_accuracy: 1.0000\n",
            "Epoch 15/100\n",
            "57/57 [==============================] - 1s 19ms/step - loss: 5.5061 - accuracy: 0.9994 - val_loss: 5.4128 - val_accuracy: 1.0000\n",
            "Epoch 16/100\n",
            "57/57 [==============================] - 1s 19ms/step - loss: 5.2840 - accuracy: 0.9994 - val_loss: 3.5448 - val_accuracy: 1.0000\n",
            "Epoch 17/100\n",
            "57/57 [==============================] - 1s 19ms/step - loss: 4.9984 - accuracy: 0.9994 - val_loss: 3.3114 - val_accuracy: 1.0000\n",
            "Epoch 18/100\n",
            "57/57 [==============================] - 1s 19ms/step - loss: 4.3267 - accuracy: 0.9994 - val_loss: 4.8324 - val_accuracy: 1.0000\n",
            "Epoch 19/100\n",
            "57/57 [==============================] - 1s 19ms/step - loss: 4.6424 - accuracy: 0.9994 - val_loss: 4.1620 - val_accuracy: 1.0000\n",
            "Epoch 20/100\n",
            "57/57 [==============================] - 1s 23ms/step - loss: 4.4731 - accuracy: 0.9994 - val_loss: 3.9412 - val_accuracy: 1.0000\n",
            "Epoch 21/100\n",
            "57/57 [==============================] - 1s 24ms/step - loss: 4.0387 - accuracy: 0.9994 - val_loss: 3.2663 - val_accuracy: 1.0000\n",
            "Epoch 22/100\n",
            "57/57 [==============================] - 1s 25ms/step - loss: 4.1278 - accuracy: 0.9994 - val_loss: 3.8164 - val_accuracy: 1.0000\n",
            "Epoch 23/100\n",
            "49/57 [========================>.....] - ETA: 0s - loss: 4.0431 - accuracy: 0.9994"
          ]
        }
      ]
    },
    {
      "cell_type": "code",
      "source": [
        "plt.figure()\n",
        "i = 1\n",
        "for index, value in enumerate(val_loss_values):\n",
        "    plt.plot(range(1, len(value[1])+1), value[1], label='Validation ' + str(i))\n",
        "    i+=1\n",
        "for index, value in enumerate(training_loss_values):\n",
        "    plt.plot(range(1, len(value[1])+1), value[1], label='Training ' + str(i),linestyle='--')\n",
        "    i+=1\n",
        "plt.yscale('log')\n",
        "plt.xlabel('Epochs')\n",
        "plt.ylabel('Loss')\n",
        "plt.legend()\n",
        "plt.show()"
      ],
      "metadata": {
        "id": "0nZz6v64qUDW"
      },
      "execution_count": null,
      "outputs": []
    },
    {
      "cell_type": "code",
      "source": [
        "# First, calculate the column means along axis 0 (columns)\n",
        "col_means = np.nanmean(y_test, axis=0)\n",
        "\n",
        "# Next, create the matrix 'p' using the calculated column means\n",
        "num_rows_d_test = y_test.shape[0]\n",
        "num_cols_d_train = y_train.shape[1]\n",
        "\n",
        "# Print RMSE\n",
        "print('RMSE : ')\n",
        "print(combined_loss)\n",
        "df['RMSE'] = combined_loss\n",
        "df.to_csv('/content/performance.csv',mode='a')"
      ],
      "metadata": {
        "id": "vA8P1bkO2yvj"
      },
      "execution_count": null,
      "outputs": []
    },
    {
      "cell_type": "code",
      "source": [
        "df_predictions = pd.DataFrame(combined_predictions)"
      ],
      "metadata": {
        "id": "O-4lCKuJDN5C"
      },
      "execution_count": null,
      "outputs": []
    },
    {
      "cell_type": "code",
      "source": [
        "# Plot the first 16 images in the DataFrame\n",
        "\n",
        "fig = plt.figure(figsize=(6, 6))\n",
        "fig.subplots_adjust(\n",
        "    left=0, right=1, bottom=0, top=1, hspace=0.05, wspace=0.05)\n",
        "\n",
        "for i in range(16):\n",
        "  if model_type == 'Single hidden layer':\n",
        "    image = np.array(x_test.iloc[i,:])  # Convert the Series to a NumPy array\n",
        "    image = image.reshape((96, 96))  # Reshape the array to the desired image dimensions\n",
        "  elif model_type == 'Convolutions':\n",
        "    image = x_test[i]\n",
        "    image = image.reshape((96, 96))\n",
        "  ax = fig.add_subplot(4, 4, i + 1, xticks=[], yticks=[])\n",
        "  predicted_keypoints = combined_predictions[i].reshape((15, 2))\n",
        "  plt.scatter(predicted_keypoints[:, 0], predicted_keypoints[:, 1], c='r', marker='o')\n",
        "  plt.imshow(image, cmap='gray')\n",
        "  plt.show()"
      ],
      "metadata": {
        "id": "SMdqZBecLIOi"
      },
      "execution_count": null,
      "outputs": []
    },
    {
      "cell_type": "code",
      "source": [
        "#TODO move below\n",
        "# from pandas.io.parsers.readers import read_csv\n",
        "# Extract data for output\n",
        "x_submission = load2d(fname = submission_filename)\n",
        "if pretraining == False:\n",
        "  submission_predictions_list = []\n",
        "\n",
        "  for setting in SPECIALIST_SETTINGS:\n",
        "      cols = setting['columns']\n",
        "      x_submission, _ = load2d(cols=cols,fname = submission_filename)\n",
        "\n",
        "      # Make predictions using this specialist on the cleaned test data\n",
        "      submission_predictions = specialists[cols].predict(x_submission)\n",
        "      submission_predictions_list.append(submission_predictions)\n",
        "\n",
        "  # Make predictions\n",
        "  predictions_submission = np.hstack(submission_predictions_list)\n",
        "else:\n",
        "  x_submission, _ = load2d(fname = submission_filename)\n",
        "  predictions_submission = net.predict(x_submission)\n",
        "# Remove predictions not requested in IdLookupTable.csv\n",
        "filename = '/content/IdLookupTable.csv'\n",
        "IdLookupTable = pd.read_csv(filename)\n",
        "# All keypoints names\n",
        "keypoints_names = IdLookupTable['FeatureName'].iloc[0:30]\n",
        "# Calculate the repeating sequence based on the number of rows in 'df'\n",
        "repeating_sequence = np.repeat(np.arange(1, 1783*30 // 30 + 1), 30)\n",
        "# Add the repeating sequence as a new column to the DataFrame\n",
        "keypoints_names_filter = pd.DataFrame({'ImageId': repeating_sequence})\n",
        "keypoints_names_filter['Indices'] = range(len(keypoints_names_filter))\n",
        "keypoints_names_filter['FeatureName'] = pd.concat([keypoints_names] * 1783, ignore_index=True)\n",
        "# Filter\n",
        "keypoints_names_filter = keypoints_names_filter.merge(IdLookupTable[['ImageId', 'FeatureName']], on=['ImageId', 'FeatureName'], how='inner')\n",
        "# Create a mask of size 1783x30 where True indicates the indices to keep\n",
        "nb_output_images = x_submission.shape[0]\n",
        "mask = np.isin(np.arange(nb_output_images*30), keypoints_names_filter['Indices'])\n",
        "# Reshape the mask to the same shape as 'np_array'\n",
        "mask = mask.reshape(predictions_submission.shape)\n",
        "# Use the mask to replace values in the NumPy array with NaN\n",
        "predictions_submission[~mask] = np.nan\n",
        "\n",
        "# Plot the first image in the DataFrame\n",
        "for i in range(16):\n",
        "  if model_type == 'Single hidden layer':\n",
        "    image = np.array(x_submission.iloc[-i,:])\n",
        "    image = image.reshape((96, 96))  # Reshape the array to the desired image dimensions\n",
        "  elif model_type == 'Convolutions':\n",
        "    image = x_submission[-i]\n",
        "    image = image.reshape((96, 96))\n",
        "  predicted_keypoints = predictions_submission[-i].reshape((15, 2))\n",
        "  plt.scatter(predicted_keypoints[:, 0], predicted_keypoints[:, 1], c='r', marker='o')\n",
        "  plt.imshow(image, cmap='gray')\n",
        "  plt.show()\n",
        "\n",
        "# Prepare for output file\n",
        "df_predictions = pd.DataFrame(predictions_submission)\n",
        "\n",
        "# Convert the DataFrame to a NumPy array and reshape it\n",
        "reshaped_values = df_predictions.values.reshape(-1, 1)\n",
        "\n",
        "# Remove NaN values from the NumPy array\n",
        "reshaped_values = reshaped_values[~np.isnan(reshaped_values)]\n",
        "\n",
        "# Create a new DataFrame with the reshaped values\n",
        "reshaped_df = pd.DataFrame(reshaped_values, columns=['Value'])\n",
        "indices = pd.DataFrame(range(1,len(reshaped_df)+1))\n",
        "submission = pd.concat([indices, reshaped_df], axis=1)\n",
        "submission.rename(columns={0: 'RowId','Value': 'Location'}, inplace=True)\n",
        "\n",
        "# Write to csv file\n",
        "submission.to_csv('/content/model_submission.csv',index=False)\n"
      ],
      "metadata": {
        "id": "pwYDph1YMxwk"
      },
      "execution_count": null,
      "outputs": []
    }
  ]
}