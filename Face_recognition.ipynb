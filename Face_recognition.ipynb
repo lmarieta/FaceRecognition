{
  "nbformat": 4,
  "nbformat_minor": 0,
  "metadata": {
    "colab": {
      "provenance": [],
      "gpuType": "T4",
      "authorship_tag": "ABX9TyOvzMcJwf2Q64LcieMvDlYR",
      "include_colab_link": true
    },
    "kernelspec": {
      "name": "python3",
      "display_name": "Python 3"
    },
    "language_info": {
      "name": "python"
    }
  },
  "cells": [
    {
      "cell_type": "markdown",
      "metadata": {
        "id": "view-in-github",
        "colab_type": "text"
      },
      "source": [
        "<a href=\"https://colab.research.google.com/github/lmarieta/FaceRecognition/blob/main/Face_recognition.ipynb\" target=\"_parent\"><img src=\"https://colab.research.google.com/assets/colab-badge.svg\" alt=\"Open In Colab\"/></a>"
      ]
    },
    {
      "cell_type": "markdown",
      "source": [
        "Before starting, upload data.RData, data_submission.RData, IdLookupTable.csv files. After training your model, you can download it. After saving the output file, you can also download it."
      ],
      "metadata": {
        "id": "lBQAn62asEWj"
      }
    },
    {
      "cell_type": "markdown",
      "source": [
        "Import Libraries\n"
      ],
      "metadata": {
        "id": "HCjTVDjLk_28"
      }
    },
    {
      "cell_type": "code",
      "execution_count": null,
      "metadata": {
        "colab": {
          "base_uri": "https://localhost:8080/"
        },
        "id": "QsKs4kwPiiKV",
        "outputId": "ffe55070-aabe-4280-fe8f-1be1dfe646c5"
      },
      "outputs": [
        {
          "output_type": "stream",
          "name": "stdout",
          "text": [
            "Requirement already satisfied: pyreadr in /usr/local/lib/python3.10/dist-packages (0.4.7)\n",
            "Requirement already satisfied: pandas>=1.2.0 in /usr/local/lib/python3.10/dist-packages (from pyreadr) (1.5.3)\n",
            "Requirement already satisfied: python-dateutil>=2.8.1 in /usr/local/lib/python3.10/dist-packages (from pandas>=1.2.0->pyreadr) (2.8.2)\n",
            "Requirement already satisfied: pytz>=2020.1 in /usr/local/lib/python3.10/dist-packages (from pandas>=1.2.0->pyreadr) (2022.7.1)\n",
            "Requirement already satisfied: numpy>=1.21.0 in /usr/local/lib/python3.10/dist-packages (from pandas>=1.2.0->pyreadr) (1.25.1)\n",
            "Requirement already satisfied: six>=1.5 in /usr/local/lib/python3.10/dist-packages (from python-dateutil>=2.8.1->pandas>=1.2.0->pyreadr) (1.16.0)\n"
          ]
        }
      ],
      "source": [
        "import numpy as np\n",
        "from tensorflow import keras\n",
        "from keras import layers\n",
        "import pandas as pd\n",
        "import numpy as np\n",
        "#from sklearn import train_test_split\n",
        "import matplotlib.pyplot as plt\n",
        "!pip install pyreadr\n",
        "import pyreadr\n",
        "from keras.optimizers import Adam\n",
        "from timeit import default_timer\n",
        "from keras.callbacks import EarlyStopping\n",
        "from keras.layers import Conv2D, MaxPooling2D, Flatten, Dense\n",
        "from keras.regularizers import l2"
      ]
    },
    {
      "cell_type": "markdown",
      "source": [
        "Load data"
      ],
      "metadata": {
        "id": "9V6G9irLLxFi"
      }
    },
    {
      "cell_type": "code",
      "source": [
        "filename = '/content/data.RData'\n",
        "df = pyreadr.read_r(filename)\n",
        "\n",
        "x_train = df['im.train']\n",
        "y_train = df['d.train']\n",
        "x_test = df['im.test']\n",
        "y_test = df['d.test']\n",
        "\n",
        "# Get the indices of rows containing NaN values. Note that train and test splits are random with a given seed.\n",
        "nan_indices_train = x_train.index[x_train.isnull().any(axis=1)].tolist() + y_train.index[y_train.isnull().any(axis=1)].tolist()\n",
        "nan_indices_test = x_test.index[x_test.isnull().any(axis=1)].tolist() + y_test.index[y_test.isnull().any(axis=1)].tolist()\n",
        "\n",
        "# Drop rows containing NaN values\n",
        "x_train = x_train.drop(x_train.index[nan_indices_train])\n",
        "y_train = y_train.drop(y_train.index[nan_indices_train])\n",
        "x_test = x_test.drop(x_test.index[nan_indices_test])\n",
        "y_test = y_test.drop(y_test.index[nan_indices_test])\n",
        "\n"
      ],
      "metadata": {
        "id": "8sOJXEePLwc9"
      },
      "execution_count": null,
      "outputs": []
    },
    {
      "cell_type": "markdown",
      "source": [
        "Model selection"
      ],
      "metadata": {
        "id": "R1tsO8Kk6Jh2"
      }
    },
    {
      "cell_type": "code",
      "source": [
        "model_type = 'Convolutions' # options: {'Single hidden layer','Convolutions'}\n",
        "df = pd.DataFrame({model_type}, columns=['Model type'])\n",
        "\n",
        "# Start recording time\n",
        "start = default_timer()"
      ],
      "metadata": {
        "id": "_BVmFiBg6LYp"
      },
      "execution_count": null,
      "outputs": []
    },
    {
      "cell_type": "markdown",
      "source": [
        "Single layer model"
      ],
      "metadata": {
        "id": "ksBD-SVl0tIk"
      }
    },
    {
      "cell_type": "code",
      "source": [
        "if model_type == 'Single hidden layer' :\n",
        "  pixel_num = x_train.shape[1]\n",
        "  keras.backend.clear_session()\n",
        "  # Define the model (single hidden layer)\n",
        "  model = keras.Sequential([\n",
        "      keras.layers.Dense(64, activation='relu', input_shape=(pixel_num,)),\n",
        "      keras.layers.Dense(32, activation='relu'),\n",
        "      keras.layers.Dense(y_train.shape[1])  # Output layer with 2 units per keypoint (x and y coordinates)\n",
        "  ])\n",
        "  learning_rate=0.05\n",
        "  epsilon = 0.1\n",
        "  optimizer = Adam(learning_rate=learning_rate,epsilon=epsilon)\n",
        "  early_stopping = EarlyStopping(monitor='loss',patience=20, restore_best_weights=True)\n",
        "  hyperparameters = {\n",
        "    'optimizer': optimizer,\n",
        "    'loss': 'mse',\n",
        "    'learning_rate':learning_rate,\n",
        "    'epsilon': epsilon,\n",
        "    'early_stopping': early_stopping,\n",
        "  }\n",
        "  for k,v in hyperparameters.items():\n",
        "    df[k] = v\n",
        "  # Compile the model\n",
        "  model.compile(optimizer=hyperparameters['optimizer'], loss=hyperparameters['loss'])"
      ],
      "metadata": {
        "id": "EIllhOZEtbHx"
      },
      "execution_count": null,
      "outputs": []
    },
    {
      "cell_type": "markdown",
      "source": [
        "Convolutions model"
      ],
      "metadata": {
        "id": "X8JbIEyf6AOp"
      }
    },
    {
      "cell_type": "code",
      "source": [
        "#############################\n",
        "#############################\n",
        "# Normalise x\n",
        "# create functions to prepare data depending on the model (f(model_type,x) -> x_new)
        "if model_type == 'Convolutions' :\n",
        "  # Convolutional neural net with three convolutional layers and two fully connected layers\n",
        "  keras.backend.clear_session()\n",
        "  pixel_num = np.sqrt(x_train.shape[1]).astype(int)\n",
        "  # Assuming you have defined the input shape of your images\n",
        "  input_shape = (pixel_num, pixel_num, 1)\n",
        "\n",
        "  # Create the CNN model\n",
        "  model = keras.Sequential()\n",
        "\n",
        "  # Convolutional Layer 1\n",
        "  model.add(Conv2D(32, (3, 3), activation='relu', input_shape=input_shape))\n",
        "  model.add(MaxPooling2D((2, 2)))\n",
        "\n",
        "  # Convolutional Layer 2\n",
        "  model.add(Conv2D(64, (2, 2), activation='relu'))\n",
        "  model.add(MaxPooling2D((2, 2)))\n",
        "\n",
        "  # Convolutional Layer 3\n",
        "  model.add(Conv2D(128, (2, 2), activation='relu'))\n",
        "  model.add(MaxPooling2D((2, 2)))\n",
        "\n",
        "  # Flatten the feature maps\n",
        "  model.add(Flatten())\n",
        "\n",
        "  # Fully Connected Layer 1\n",
        "  model.add(Dense(32, activation='relu'))\n",
        "\n",
        "  # Fully Connected Layer 2\n",
        "  model.add(Dense(32, activation='relu'))\n",
        "\n",
        "  # Output Layer\n",
        "  model.add(Dense(y_train.shape[1], activation='softmax'))\n",
        "\n",
        "  # Compile the model\n",
        "  model.compile(optimizer=optimizer, loss='mse', metrics=['accuracy'])\n",
        "\n",
        "  # Print the model summary\n",
        "  model.summary()\n",
        "  # stop early\n",
        "  early_stopping = EarlyStopping(monitor='loss',patience=10, restore_best_weights=True)\n",
        "  # reshape inputs\n",
        "  x_train = x_train.to_numpy().reshape(-1, pixel_num, pixel_num, 1)\n",
        "  x_test = x_test.to_numpy().reshape(-1, pixel_num, pixel_num, 1)"
      ],
      "metadata": {
        "id": "dx3WTFmO6F6V",
        "outputId": "c684d049-15b9-4c10-851c-c5a7251a853e",
        "colab": {
          "base_uri": "https://localhost:8080/"
        }
      },
      "execution_count": null,
      "outputs": [
        {
          "output_type": "stream",
          "name": "stdout",
          "text": [
            "Model: \"sequential\"\n",
            "_________________________________________________________________\n",
            " Layer (type)                Output Shape              Param #   \n",
            "=================================================================\n",
            " conv2d (Conv2D)             (None, 94, 94, 32)        320       \n",
            "                                                                 \n",
            " max_pooling2d (MaxPooling2D  (None, 47, 47, 32)       0         \n",
            " )                                                               \n",
            "                                                                 \n",
            " conv2d_1 (Conv2D)           (None, 46, 46, 64)        8256      \n",
            "                                                                 \n",
            " max_pooling2d_1 (MaxPooling  (None, 23, 23, 64)       0         \n",
            " 2D)                                                             \n",
            "                                                                 \n",
            " conv2d_2 (Conv2D)           (None, 22, 22, 128)       32896     \n",
            "                                                                 \n",
            " max_pooling2d_2 (MaxPooling  (None, 11, 11, 128)      0         \n",
            " 2D)                                                             \n",
            "                                                                 \n",
            " flatten (Flatten)           (None, 15488)             0         \n",
            "                                                                 \n",
            " dense (Dense)               (None, 32)                495648    \n",
            "                                                                 \n",
            " dense_1 (Dense)             (None, 32)                1056      \n",
            "                                                                 \n",
            " dense_2 (Dense)             (None, 30)                990       \n",
            "                                                                 \n",
            "=================================================================\n",
            "Total params: 539,166\n",
            "Trainable params: 539,166\n",
            "Non-trainable params: 0\n",
            "_________________________________________________________________\n"
          ]
        }
      ]
    },
    {
      "cell_type": "code",
      "source": [],
      "metadata": {
        "id": "2GYoGRuty1N0",
        "outputId": "92b1b3d8-87cd-4755-fba6-f83a6f22829e",
        "colab": {
          "base_uri": "https://localhost:8080/"
        }
      },
      "execution_count": null,
      "outputs": [
        {
          "output_type": "execute_result",
          "data": {
            "text/plain": [
              "255"
            ]
          },
          "metadata": {},
          "execution_count": 121
        }
      ]
    },
    {
      "cell_type": "markdown",
      "source": [
        "Analysis"
      ],
      "metadata": {
        "id": "PQLVo5JVw-5q"
      }
    },
    {
      "cell_type": "code",
      "source": [
        "# Train the model\n",
        "history = model.fit(x_train, y_train, epochs=400, batch_size=32, callbacks=[early_stopping],validation_data=(x_test, y_test))\n",
        "\n",
        "# Extract the loss and validation loss values from the history object\n",
        "loss_values = history.history['loss']\n",
        "val_loss = history.history['val_loss']\n",
        "\n",
        "# Convert loss_values to a DataFrame\n",
        "df_loss = pd.DataFrame({'Epoch': np.arange(1, len(loss_values) + 1), 'Loss': loss_values})\n",
        "\n",
        "# Make predictions\n",
        "predictions = model.predict(x_test)\n",
        "\n",
        "# Size of the image is given, prediction cannot be outside of range\n",
        "min_value = 0\n",
        "max_value = 96\n",
        "constrained_predictions = np.clip(predictions, min_value, max_value)\n",
        "\n",
        "# Save the model to a file\n",
        "model.save('/content/simple_model.h5')\n",
        "\n",
        "# Duration\n",
        "duration = default_timer() - start\n",
        "print(duration)\n",
        "df['Duration'] = duration"
      ],
      "metadata": {
        "id": "GawC2VdexCmw",
        "outputId": "ef9da125-0506-4764-c2d5-73afbd2f8f69",
        "colab": {
          "base_uri": "https://localhost:8080/"
        }
      },
      "execution_count": null,
      "outputs": [
        {
          "output_type": "stream",
          "name": "stdout",
          "text": [
            "Epoch 1/400\n",
            "55/55 [==============================] - 40s 711ms/step - loss: 2614.5413 - accuracy: 0.0000e+00 - val_loss: 2614.3545 - val_accuracy: 0.0000e+00\n",
            "Epoch 2/400\n",
            "55/55 [==============================] - 21s 391ms/step - loss: 2614.5337 - accuracy: 0.0000e+00 - val_loss: 2614.3545 - val_accuracy: 0.0000e+00\n",
            "Epoch 3/400\n",
            "55/55 [==============================] - 24s 433ms/step - loss: 2614.5337 - accuracy: 0.0000e+00 - val_loss: 2614.3545 - val_accuracy: 0.0000e+00\n",
            "Epoch 4/400\n",
            "55/55 [==============================] - 22s 393ms/step - loss: 2614.5337 - accuracy: 0.0000e+00 - val_loss: 2614.3545 - val_accuracy: 0.0000e+00\n",
            "Epoch 5/400\n",
            "55/55 [==============================] - 24s 430ms/step - loss: 2614.5337 - accuracy: 0.0000e+00 - val_loss: 2614.3545 - val_accuracy: 0.0000e+00\n",
            "Epoch 6/400\n",
            "55/55 [==============================] - 24s 430ms/step - loss: 2614.5337 - accuracy: 0.0000e+00 - val_loss: 2614.3545 - val_accuracy: 0.0000e+00\n",
            "Epoch 7/400\n",
            "55/55 [==============================] - 22s 399ms/step - loss: 2614.5342 - accuracy: 0.0000e+00 - val_loss: 2614.3545 - val_accuracy: 0.0000e+00\n",
            "Epoch 8/400\n",
            "55/55 [==============================] - 25s 463ms/step - loss: 2614.5332 - accuracy: 0.0000e+00 - val_loss: 2614.3545 - val_accuracy: 0.0000e+00\n",
            "Epoch 9/400\n",
            "55/55 [==============================] - 22s 393ms/step - loss: 2614.5334 - accuracy: 0.0000e+00 - val_loss: 2614.3545 - val_accuracy: 0.0000e+00\n",
            "Epoch 10/400\n",
            "55/55 [==============================] - 23s 429ms/step - loss: 2614.5339 - accuracy: 0.0000e+00 - val_loss: 2614.3545 - val_accuracy: 0.0000e+00\n",
            "Epoch 11/400\n",
            "55/55 [==============================] - 22s 398ms/step - loss: 2614.5339 - accuracy: 0.0000e+00 - val_loss: 2614.3545 - val_accuracy: 0.0000e+00\n",
            "Epoch 12/400\n",
            "55/55 [==============================] - 24s 436ms/step - loss: 2614.5337 - accuracy: 0.0000e+00 - val_loss: 2614.3545 - val_accuracy: 0.0000e+00\n",
            "Epoch 13/400\n",
            "55/55 [==============================] - 22s 395ms/step - loss: 2614.5337 - accuracy: 0.0000e+00 - val_loss: 2614.3545 - val_accuracy: 0.0000e+00\n",
            "Epoch 14/400\n",
            "55/55 [==============================] - 24s 438ms/step - loss: 2614.5327 - accuracy: 0.0000e+00 - val_loss: 2614.3545 - val_accuracy: 0.0000e+00\n",
            "Epoch 15/400\n",
            "55/55 [==============================] - 22s 392ms/step - loss: 2614.5334 - accuracy: 0.0000e+00 - val_loss: 2614.3545 - val_accuracy: 0.0000e+00\n",
            "Epoch 16/400\n",
            "55/55 [==============================] - 24s 433ms/step - loss: 2614.5337 - accuracy: 0.0000e+00 - val_loss: 2614.3545 - val_accuracy: 0.0000e+00\n",
            "Epoch 17/400\n",
            "55/55 [==============================] - 22s 394ms/step - loss: 2614.5339 - accuracy: 0.0000e+00 - val_loss: 2614.3545 - val_accuracy: 0.0000e+00\n",
            "Epoch 18/400\n",
            "55/55 [==============================] - 28s 521ms/step - loss: 2614.5334 - accuracy: 0.0000e+00 - val_loss: 2614.3545 - val_accuracy: 0.0000e+00\n",
            "Epoch 19/400\n",
            "55/55 [==============================] - 24s 433ms/step - loss: 2614.5337 - accuracy: 0.0000e+00 - val_loss: 2614.3545 - val_accuracy: 0.0000e+00\n",
            "Epoch 20/400\n",
            "55/55 [==============================] - 21s 391ms/step - loss: 2614.5337 - accuracy: 0.0000e+00 - val_loss: 2614.3545 - val_accuracy: 0.0000e+00\n",
            "Epoch 21/400\n",
            "55/55 [==============================] - 25s 452ms/step - loss: 2614.5337 - accuracy: 0.0000e+00 - val_loss: 2614.3545 - val_accuracy: 0.0000e+00\n",
            "Epoch 22/400\n",
            "55/55 [==============================] - 21s 391ms/step - loss: 2614.5337 - accuracy: 0.0000e+00 - val_loss: 2614.3545 - val_accuracy: 0.0000e+00\n",
            "Epoch 23/400\n",
            "55/55 [==============================] - 24s 430ms/step - loss: 2614.5337 - accuracy: 0.0000e+00 - val_loss: 2614.3545 - val_accuracy: 0.0000e+00\n",
            "Epoch 24/400\n",
            "55/55 [==============================] - 21s 381ms/step - loss: 2614.5337 - accuracy: 0.0000e+00 - val_loss: 2614.3545 - val_accuracy: 0.0000e+00\n",
            "13/13 [==============================] - 1s 81ms/step\n",
            "571.9839379730001\n"
          ]
        }
      ]
    },
    {
      "cell_type": "code",
      "source": [
        "# Plot the training and validation loss\n",
        "plt.figure()\n",
        "plt.plot(df_loss['Epoch'], loss_values, label='Training Loss')\n",
        "plt.plot(df_loss['Epoch'], val_loss, label='Validation Loss')\n",
        "plt.yscale('log')\n",
        "plt.ylim(1,np.max(val_loss))\n",
        "plt.xlabel('Epochs')\n",
        "plt.ylabel('Loss')\n",
        "plt.title('Training and Validation Loss')\n",
        "plt.legend()\n",
        "plt.show()"
      ],
      "metadata": {
        "id": "fKCx7xKEbsC3",
        "outputId": "b79cac0f-ea1b-4d73-eebe-f2dc4b6e26ba",
        "colab": {
          "base_uri": "https://localhost:8080/",
          "height": 472
        }
      },
      "execution_count": null,
      "outputs": [
        {
          "output_type": "display_data",
          "data": {
            "text/plain": [
              "<Figure size 640x480 with 1 Axes>"
            ],
            "image/png": "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\n"
          },
          "metadata": {}
        }
      ]
    },
    {
      "cell_type": "code",
      "source": [
        "# First, calculate the column means along axis 0 (columns)\n",
        "col_means = np.nanmean(y_test, axis=0)\n",
        "\n",
        "# Next, create the matrix 'p' using the calculated column means\n",
        "num_rows_d_test = y_test.shape[0]\n",
        "num_cols_d_train = y_train.shape[1]\n",
        "\n",
        "# Create the matrix 'p' with the specified dimensions and fill it with column means\n",
        "p = np.tile(col_means, (num_rows_d_test, 1)).astype(y_test.dtypes)\n",
        "\n",
        "# Compute RMSE\n",
        "rmse = np.sqrt(df_loss['Loss'].iloc[-1])\n",
        "\n",
        "# Print RMSE\n",
        "print('RMSE : ')\n",
        "print(rmse)\n",
        "df['RMSE'] = rmse\n",
        "df.to_csv('/content/performance.csv',mode='a')"
      ],
      "metadata": {
        "id": "vA8P1bkO2yvj",
        "outputId": "def86958-0cd1-42e7-86df-8f5ce0b0582f",
        "colab": {
          "base_uri": "https://localhost:8080/"
        }
      },
      "execution_count": null,
      "outputs": [
        {
          "output_type": "stream",
          "name": "stdout",
          "text": [
            "RMSE : \n",
            "51.13251110014303\n"
          ]
        }
      ]
    },
    {
      "cell_type": "code",
      "source": [
        "df_predictions = pd.DataFrame(predictions)"
      ],
      "metadata": {
        "id": "O-4lCKuJDN5C"
      },
      "execution_count": null,
      "outputs": []
    },
    {
      "cell_type": "code",
      "source": [
        "# Plot the first image in the DataFrame\n",
        "ii = 0 # index of the picture to display\n",
        "if model_type == 'Single hidden layer':\n",
        "  image = np.array(x_test.iloc[ii,:])  # Convert the Series to a NumPy array\n",
        "  image = image.reshape((96, 96))  # Reshape the array to the desired image dimensions\n",
        "elif model_type == 'Convolutions':\n",
        "  image = x_test[ii]\n",
        "  image = image.reshape((96, 96))\n",
        "predicted_keypoints = predictions[ii].reshape((15, 2))\n",
        "plt.scatter(predicted_keypoints[:, 0], predicted_keypoints[:, 1], c='r', marker='o')\n",
        "plt.imshow(image, cmap='gray')\n",
        "plt.show()"
      ],
      "metadata": {
        "id": "SMdqZBecLIOi",
        "outputId": "922082b1-b092-459e-8e54-54ae378b1c2f",
        "colab": {
          "base_uri": "https://localhost:8080/",
          "height": 433
        }
      },
      "execution_count": null,
      "outputs": [
        {
          "output_type": "display_data",
          "data": {
            "text/plain": [
              "<Figure size 640x480 with 1 Axes>"
            ],
            "image/png": "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\n"
          },
          "metadata": {}
        }
      ]
    },
    {
      "cell_type": "code",
      "source": [
        "from pandas.io.parsers.readers import read_csv\n",
        "# Extract data for output\n",
        "filename = '/content/data_submission.RData'\n",
        "df_submission = pyreadr.read_r(filename)\n",
        "x_submission = df_submission['im_submission']\n",
        "# Get the indices of rows containing NaN values.\n",
        "nan_indices_submission = x_submission.index[x_submission.isnull().any(axis=1)].tolist()\n",
        "# Drop rows containing NaN values\n",
        "x_submission = x_submission.drop(x_submission.index[nan_indices_submission])\n",
        "if model_type == 'Convolutions' :\n",
        "  x_submission = x_submission.to_numpy().reshape(-1, pixel_num, pixel_num, 1)\n",
        "\n",
        "# Make predictions\n",
        "predictions_submission = model.predict(x_submission)\n",
        "\n",
        "# Size of the image is given, prediction cannot be outside of range\n",
        "min_value = 0\n",
        "max_value = 96\n",
        "constrained_predictions_submission = np.clip(predictions_submission, min_value, max_value)\n",
        "\n",
        "# Remove predictions not requested in IdLookupTable.csv\n",
        "filename = '/content/IdLookupTable.csv'\n",
        "IdLookupTable = read_csv(filename)\n",
        "# All keypoints names\n",
        "keypoints_names = IdLookupTable['FeatureName'].iloc[0:30]\n",
        "# Calculate the repeating sequence based on the number of rows in 'df'\n",
        "repeating_sequence = np.repeat(np.arange(1, 1783*30 // 30 + 1), 30)\n",
        "# Add the repeating sequence as a new column to the DataFrame\n",
        "keypoints_names_filter = pd.DataFrame({'ImageId': repeating_sequence})\n",
        "keypoints_names_filter['Indices'] = range(len(keypoints_names_filter))\n",
        "keypoints_names_filter['FeatureName'] = pd.concat([keypoints_names] * 1783, ignore_index=True)\n",
        "# Filter\n",
        "keypoints_names_filter = keypoints_names_filter.merge(IdLookupTable[['ImageId', 'FeatureName']], on=['ImageId', 'FeatureName'], how='inner')\n",
        "# Create a mask of size 1783x30 where True indicates the indices to keep\n",
        "nb_output_images = x_submission.shape[0]\n",
        "mask = np.isin(np.arange(nb_output_images*30), keypoints_names_filter['Indices'])\n",
        "# Reshape the mask to the same shape as 'np_array'\n",
        "mask = mask.reshape(constrained_predictions_submission.shape)\n",
        "# Use the mask to replace values in the NumPy array with NaN\n",
        "constrained_predictions_submission[~mask] = np.nan\n",
        "\n",
        "# Plot the first image in the DataFrame\n",
        "ii = -1\n",
        "if model_type == 'Single hidden layer':\n",
        "  image = np.array(x_submission.iloc[ii,:])\n",
        "  image = image.reshape((96, 96))  # Reshape the array to the desired image dimensions\n",
        "elif model_type == 'Convolutions':\n",
        "  image = x_submission[ii]\n",
        "  image = image.reshape((96, 96))\n",
        "predicted_keypoints = constrained_predictions_submission[ii].reshape((15, 2))\n",
        "plt.scatter(predicted_keypoints[:, 0], predicted_keypoints[:, 1], c='r', marker='o')\n",
        "plt.imshow(image, cmap='gray')\n",
        "plt.show()\n",
        "\n",
        "# Prepare for output file\n",
        "df_predictions = pd.DataFrame(constrained_predictions_submission)\n",
        "\n",
        "# Convert the DataFrame to a NumPy array and reshape it\n",
        "reshaped_values = df_predictions.values.reshape(-1, 1)\n",
        "\n",
        "# Remove NaN values from the NumPy array\n",
        "reshaped_values = reshaped_values[~np.isnan(reshaped_values)]\n",
        "\n",
        "# Create a new DataFrame with the reshaped values\n",
        "reshaped_df = pd.DataFrame(reshaped_values, columns=['Value'])\n",
        "indices = pd.DataFrame(range(1,len(reshaped_df)+1))\n",
        "submission = pd.concat([indices, reshaped_df], axis=1)\n",
        "submission.rename(columns={0: 'RowId','Value': 'Location'}, inplace=True)\n",
        "\n",
        "# Write to csv file\n",
        "submission.to_csv('/content/simple_model_submission.csv',index=False)\n"
      ],
      "metadata": {
        "id": "pwYDph1YMxwk",
        "outputId": "d9edf32e-2708-4c28-ec55-df11636f7087",
        "colab": {
          "base_uri": "https://localhost:8080/",
          "height": 450
        }
      },
      "execution_count": null,
      "outputs": [
        {
          "output_type": "stream",
          "name": "stdout",
          "text": [
            "56/56 [==============================] - 6s 103ms/step\n"
          ]
        },
        {
          "output_type": "display_data",
          "data": {
            "text/plain": [
              "<Figure size 640x480 with 1 Axes>"
            ],
            "image/png": "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\n"
          },
          "metadata": {}
        }
      ]
    }
  ]
}
