{
  "nbformat": 4,
  "nbformat_minor": 0,
  "metadata": {
    "colab": {
      "provenance": [],
      "gpuType": "T4",
      "authorship_tag": "ABX9TyOAoqM9uZY1uVwPLLhbfkXm",
      "include_colab_link": true
    },
    "kernelspec": {
      "name": "python3",
      "display_name": "Python 3"
    },
    "language_info": {
      "name": "python"
    },
    "accelerator": "GPU"
  },
  "cells": [
    {
      "cell_type": "markdown",
      "metadata": {
        "id": "view-in-github",
        "colab_type": "text"
      },
      "source": [
        "<a href=\"https://colab.research.google.com/github/lmarieta/FaceRecognition/blob/main/Face_recognition.ipynb\" target=\"_parent\"><img src=\"https://colab.research.google.com/assets/colab-badge.svg\" alt=\"Open In Colab\"/></a>"
      ]
    },
    {
      "cell_type": "markdown",
      "source": [
        "Before starting, upload data.RData, data_submission.RData, IdLookupTable.csv files. After training your model, you can download it. After saving the output file, you can also download it."
      ],
      "metadata": {
        "id": "lBQAn62asEWj"
      }
    },
    {
      "cell_type": "markdown",
      "source": [
        "Import Libraries\n"
      ],
      "metadata": {
        "id": "HCjTVDjLk_28"
      }
    },
    {
      "cell_type": "code",
      "execution_count": null,
      "metadata": {
        "colab": {
          "base_uri": "https://localhost:8080/"
        },
        "id": "QsKs4kwPiiKV",
        "outputId": "c35595c5-5f4b-4695-db6c-b54556a28e6f"
      },
      "outputs": [
        {
          "output_type": "stream",
          "name": "stdout",
          "text": [
            "Requirement already satisfied: pyreadr in /usr/local/lib/python3.10/dist-packages (0.4.7)\n",
            "Requirement already satisfied: pandas>=1.2.0 in /usr/local/lib/python3.10/dist-packages (from pyreadr) (1.5.3)\n",
            "Requirement already satisfied: python-dateutil>=2.8.1 in /usr/local/lib/python3.10/dist-packages (from pandas>=1.2.0->pyreadr) (2.8.2)\n",
            "Requirement already satisfied: pytz>=2020.1 in /usr/local/lib/python3.10/dist-packages (from pandas>=1.2.0->pyreadr) (2022.7.1)\n",
            "Requirement already satisfied: numpy>=1.21.0 in /usr/local/lib/python3.10/dist-packages (from pandas>=1.2.0->pyreadr) (1.22.4)\n",
            "Requirement already satisfied: six>=1.5 in /usr/local/lib/python3.10/dist-packages (from python-dateutil>=2.8.1->pandas>=1.2.0->pyreadr) (1.16.0)\n"
          ]
        }
      ],
      "source": [
        "import numpy as np\n",
        "from tensorflow import keras\n",
        "from keras import layers\n",
        "import pandas as pd\n",
        "import numpy as np\n",
        "#from sklearn import train_test_split\n",
        "import matplotlib.pyplot as plt\n",
        "!pip install pyreadr\n",
        "import pyreadr\n",
        "from keras.optimizers import Adam\n",
        "from timeit import default_timer\n",
        "from keras.callbacks import EarlyStopping\n",
        "from keras.layers import Conv2D, MaxPooling2D, Flatten, Dense\n",
        "from keras.regularizers import l2"
      ]
    },
    {
      "cell_type": "markdown",
      "source": [
        "Load data"
      ],
      "metadata": {
        "id": "9V6G9irLLxFi"
      }
    },
    {
      "cell_type": "code",
      "source": [
        "filename = '/content/data.RData'\n",
        "df = pyreadr.read_r(filename)\n",
        "\n",
        "x_train = df['im.train']\n",
        "y_train = df['d.train']\n",
        "x_test = df['im.test']\n",
        "y_test = df['d.test']\n",
        "\n",
        "# Get the indices of rows containing NaN values. Note that train and test splits are random with a given seed.\n",
        "nan_indices_train = x_train.index[x_train.isnull().any(axis=1)].tolist() + y_train.index[y_train.isnull().any(axis=1)].tolist()\n",
        "nan_indices_test = x_test.index[x_test.isnull().any(axis=1)].tolist() + y_test.index[y_test.isnull().any(axis=1)].tolist()\n",
        "\n",
        "# Drop rows containing NaN values\n",
        "x_train = x_train.drop(x_train.index[nan_indices_train])\n",
        "y_train = y_train.drop(y_train.index[nan_indices_train])\n",
        "x_test = x_test.drop(x_test.index[nan_indices_test])\n",
        "y_test = y_test.drop(y_test.index[nan_indices_test])\n",
        "\n"
      ],
      "metadata": {
        "id": "8sOJXEePLwc9"
      },
      "execution_count": null,
      "outputs": []
    },
    {
      "cell_type": "markdown",
      "source": [
        "Model selection"
      ],
      "metadata": {
        "id": "R1tsO8Kk6Jh2"
      }
    },
    {
      "cell_type": "code",
      "source": [
        "model_type = 'Convolutions' # options: {'Single hidden layer','Convolutions'}\n",
        "df = pd.DataFrame({model_type}, columns=['Model type'])\n",
        "\n",
        "# Start recording time\n",
        "start = default_timer()"
      ],
      "metadata": {
        "id": "_BVmFiBg6LYp"
      },
      "execution_count": null,
      "outputs": []
    },
    {
      "cell_type": "markdown",
      "source": [
        "Single layer model"
      ],
      "metadata": {
        "id": "ksBD-SVl0tIk"
      }
    },
    {
      "cell_type": "code",
      "source": [
        "if model_type == 'Single hidden layer' :\n",
        "  pixel_num = x_train.shape[1]\n",
        "  keras.backend.clear_session()\n",
        "  # Define the model (single hidden layer)\n",
        "  model = keras.Sequential([\n",
        "      keras.layers.Dense(64, activation='relu', input_shape=(pixel_num,)),\n",
        "      keras.layers.Dense(32, activation='relu'),\n",
        "      keras.layers.Dense(y_train.shape[1])  # Output layer with 2 units per keypoint (x and y coordinates)\n",
        "  ])\n",
        "  learning_rate=0.05\n",
        "  epsilon = 0.1\n",
        "  optimizer = Adam(learning_rate=learning_rate,epsilon=epsilon)\n",
        "  early_stopping = EarlyStopping(monitor='loss',patience=20, restore_best_weights=True)\n",
        "  hyperparameters = {\n",
        "    'optimizer': optimizer,\n",
        "    'loss': 'mse',\n",
        "    'learning_rate':learning_rate,\n",
        "    'epsilon': epsilon,\n",
        "    'early_stopping': early_stopping,\n",
        "  }\n",
        "  for k,v in hyperparameters.items():\n",
        "    df[k] = v\n",
        "  # Compile the model\n",
        "  model.compile(optimizer=hyperparameters['optimizer'], loss=hyperparameters['loss'])"
      ],
      "metadata": {
        "id": "EIllhOZEtbHx"
      },
      "execution_count": null,
      "outputs": []
    },
    {
      "cell_type": "markdown",
      "source": [
        "Convolutions model"
      ],
      "metadata": {
        "id": "X8JbIEyf6AOp"
      }
    },
    {
      "cell_type": "code",
      "source": [
        "#############################\n",
        "#############################\n",
        "# Data augmentation\n",
        "# TODO Create a function f to prepare inputs for neural nets f(model_type,x) > x_new\n",
        "#############################\n",
        "#############################\n",
        "if model_type == 'Convolutions' :\n",
        "  # Convolutional neural net with three convolutional layers and two fully connected layers\n",
        "  keras.backend.clear_session()\n",
        "  pixel_num = np.sqrt(x_train.shape[1]).astype(int)\n",
        "  # Assuming you have defined the input shape of your images\n",
        "  input_shape = (pixel_num, pixel_num, 1)\n",
        "\n",
        "  # Create the CNN model\n",
        "  model = keras.Sequential()\n",
        "\n",
        "  # Convolutional Layer 1\n",
        "  model.add(Conv2D(32, (3, 3), activation='relu', input_shape=input_shape))\n",
        "  model.add(MaxPooling2D((2, 2)))\n",
        "\n",
        "  # Convolutional Layer 2\n",
        "  model.add(Conv2D(64, (2, 2), activation='relu'))\n",
        "  model.add(MaxPooling2D((2, 2)))\n",
        "\n",
        "  # Convolutional Layer 3\n",
        "  model.add(Conv2D(128, (2, 2), activation='relu'))\n",
        "  model.add(MaxPooling2D((2, 2)))\n",
        "\n",
        "  # Flatten the feature maps\n",
        "  model.add(Flatten())\n",
        "\n",
        "  # Fully Connected Layer 1\n",
        "  model.add(Dense(500, activation='relu'))\n",
        "\n",
        "  # Fully Connected Layer 2\n",
        "  model.add(Dense(500, activation='relu'))\n",
        "\n",
        "  # Output Layer\n",
        "  model.add(Dense(y_train.shape[1]))\n",
        "\n",
        "  # Compile the model\n",
        "  model.compile(optimizer='adam', loss='mse', metrics=['accuracy'])\n",
        "\n",
        "  # Print the model summary\n",
        "  model.summary()\n",
        "  # stop early\n",
        "  early_stopping = EarlyStopping(monitor='loss',patience=10, restore_best_weights=True)\n",
        "  # reshape inputs\n",
        "  x_train = x_train.to_numpy().reshape(-1, pixel_num, pixel_num, 1)/255\n",
        "  x_test = x_test.to_numpy().reshape(-1, pixel_num, pixel_num, 1)/255"
      ],
      "metadata": {
        "id": "dx3WTFmO6F6V",
        "outputId": "73d50bd3-189f-4192-d824-88c87b692998",
        "colab": {
          "base_uri": "https://localhost:8080/"
        }
      },
      "execution_count": null,
      "outputs": [
        {
          "output_type": "stream",
          "name": "stdout",
          "text": [
            "Model: \"sequential\"\n",
            "_________________________________________________________________\n",
            " Layer (type)                Output Shape              Param #   \n",
            "=================================================================\n",
            " conv2d (Conv2D)             (None, 94, 94, 32)        320       \n",
            "                                                                 \n",
            " max_pooling2d (MaxPooling2D  (None, 47, 47, 32)       0         \n",
            " )                                                               \n",
            "                                                                 \n",
            " conv2d_1 (Conv2D)           (None, 46, 46, 64)        8256      \n",
            "                                                                 \n",
            " max_pooling2d_1 (MaxPooling  (None, 23, 23, 64)       0         \n",
            " 2D)                                                             \n",
            "                                                                 \n",
            " conv2d_2 (Conv2D)           (None, 22, 22, 128)       32896     \n",
            "                                                                 \n",
            " max_pooling2d_2 (MaxPooling  (None, 11, 11, 128)      0         \n",
            " 2D)                                                             \n",
            "                                                                 \n",
            " flatten (Flatten)           (None, 15488)             0         \n",
            "                                                                 \n",
            " dense (Dense)               (None, 500)               7744500   \n",
            "                                                                 \n",
            " dense_1 (Dense)             (None, 500)               250500    \n",
            "                                                                 \n",
            " dense_2 (Dense)             (None, 30)                15030     \n",
            "                                                                 \n",
            "=================================================================\n",
            "Total params: 8,051,502\n",
            "Trainable params: 8,051,502\n",
            "Non-trainable params: 0\n",
            "_________________________________________________________________\n"
          ]
        }
      ]
    },
    {
      "cell_type": "markdown",
      "source": [
        "Analysis"
      ],
      "metadata": {
        "id": "PQLVo5JVw-5q"
      }
    },
    {
      "cell_type": "code",
      "source": [
        "# Train the model\n",
        "history = model.fit(x_train, y_train, epochs=400, batch_size=32, callbacks=[early_stopping],validation_data=(x_test, y_test))\n",
        "\n",
        "# Extract the loss and validation loss values from the history object\n",
        "loss_values = history.history['loss']\n",
        "val_loss = history.history['val_loss']\n",
        "\n",
        "# Convert loss_values to a DataFrame\n",
        "df_loss = pd.DataFrame({'Epoch': np.arange(1, len(loss_values) + 1), 'Loss': loss_values})\n",
        "\n",
        "# Make predictions\n",
        "predictions = model.predict(x_test)\n",
        "\n",
        "# Size of the image is given, prediction cannot be outside of range\n",
        "min_value = 0\n",
        "max_value = 96\n",
        "constrained_predictions = np.clip(predictions, min_value, max_value)\n",
        "\n",
        "# Save the model to a file\n",
        "model.save('/content/simple_model.h5')\n",
        "\n",
        "# Duration\n",
        "duration = default_timer() - start\n",
        "print(duration)\n",
        "df['Duration'] = duration"
      ],
      "metadata": {
        "id": "GawC2VdexCmw",
        "outputId": "fff6b32e-988f-4378-c33b-b8ceda25d8a8",
        "colab": {
          "base_uri": "https://localhost:8080/"
        }
      },
      "execution_count": null,
      "outputs": [
        {
          "output_type": "stream",
          "name": "stdout",
          "text": [
            "Epoch 1/400\n",
            "55/55 [==============================] - 3s 18ms/step - loss: 397.1141 - accuracy: 0.4229 - val_loss: 26.6867 - val_accuracy: 0.7065\n",
            "Epoch 2/400\n",
            "55/55 [==============================] - 1s 12ms/step - loss: 18.3096 - accuracy: 0.7048 - val_loss: 15.1434 - val_accuracy: 0.7065\n",
            "Epoch 3/400\n",
            "55/55 [==============================] - 1s 12ms/step - loss: 13.2783 - accuracy: 0.7048 - val_loss: 13.3161 - val_accuracy: 0.7065\n",
            "Epoch 4/400\n",
            "55/55 [==============================] - 1s 11ms/step - loss: 11.3069 - accuracy: 0.7048 - val_loss: 11.2613 - val_accuracy: 0.7065\n",
            "Epoch 5/400\n",
            "55/55 [==============================] - 1s 12ms/step - loss: 9.7397 - accuracy: 0.7048 - val_loss: 9.7668 - val_accuracy: 0.7065\n",
            "Epoch 6/400\n",
            "55/55 [==============================] - 1s 12ms/step - loss: 8.3170 - accuracy: 0.7071 - val_loss: 7.2243 - val_accuracy: 0.7040\n",
            "Epoch 7/400\n",
            "55/55 [==============================] - 1s 11ms/step - loss: 7.3134 - accuracy: 0.7123 - val_loss: 6.5044 - val_accuracy: 0.7040\n",
            "Epoch 8/400\n",
            "55/55 [==============================] - 1s 11ms/step - loss: 7.3988 - accuracy: 0.7112 - val_loss: 5.8030 - val_accuracy: 0.6940\n",
            "Epoch 9/400\n",
            "55/55 [==============================] - 1s 13ms/step - loss: 6.6563 - accuracy: 0.7089 - val_loss: 8.6975 - val_accuracy: 0.7040\n",
            "Epoch 10/400\n",
            "55/55 [==============================] - 1s 14ms/step - loss: 5.9692 - accuracy: 0.7094 - val_loss: 7.7374 - val_accuracy: 0.7139\n",
            "Epoch 11/400\n",
            "55/55 [==============================] - 1s 12ms/step - loss: 5.3858 - accuracy: 0.7278 - val_loss: 5.1377 - val_accuracy: 0.7114\n",
            "Epoch 12/400\n",
            "55/55 [==============================] - 1s 11ms/step - loss: 5.6948 - accuracy: 0.7250 - val_loss: 4.8961 - val_accuracy: 0.7164\n",
            "Epoch 13/400\n",
            "55/55 [==============================] - 1s 11ms/step - loss: 5.0384 - accuracy: 0.7342 - val_loss: 4.3020 - val_accuracy: 0.7289\n",
            "Epoch 14/400\n",
            "55/55 [==============================] - 1s 12ms/step - loss: 4.6067 - accuracy: 0.7342 - val_loss: 4.2719 - val_accuracy: 0.7363\n",
            "Epoch 15/400\n",
            "55/55 [==============================] - 1s 12ms/step - loss: 4.5293 - accuracy: 0.7388 - val_loss: 4.3688 - val_accuracy: 0.7662\n",
            "Epoch 16/400\n",
            "55/55 [==============================] - 1s 11ms/step - loss: 5.1385 - accuracy: 0.7313 - val_loss: 6.2957 - val_accuracy: 0.7289\n",
            "Epoch 17/400\n",
            "55/55 [==============================] - 1s 11ms/step - loss: 4.5861 - accuracy: 0.7468 - val_loss: 3.8571 - val_accuracy: 0.7338\n",
            "Epoch 18/400\n",
            "55/55 [==============================] - 1s 12ms/step - loss: 4.2216 - accuracy: 0.7503 - val_loss: 3.8357 - val_accuracy: 0.7687\n",
            "Epoch 19/400\n",
            "55/55 [==============================] - 1s 11ms/step - loss: 4.3451 - accuracy: 0.7514 - val_loss: 4.4319 - val_accuracy: 0.7488\n",
            "Epoch 20/400\n",
            "55/55 [==============================] - 1s 12ms/step - loss: 4.8930 - accuracy: 0.7491 - val_loss: 4.1037 - val_accuracy: 0.7711\n",
            "Epoch 21/400\n",
            "55/55 [==============================] - 1s 12ms/step - loss: 4.2313 - accuracy: 0.7520 - val_loss: 5.9324 - val_accuracy: 0.7512\n",
            "Epoch 22/400\n",
            "55/55 [==============================] - 1s 11ms/step - loss: 4.8341 - accuracy: 0.7491 - val_loss: 5.2342 - val_accuracy: 0.7662\n",
            "Epoch 23/400\n",
            "55/55 [==============================] - 1s 12ms/step - loss: 3.7850 - accuracy: 0.7532 - val_loss: 3.7253 - val_accuracy: 0.7562\n",
            "Epoch 24/400\n",
            "55/55 [==============================] - 1s 12ms/step - loss: 3.6496 - accuracy: 0.7560 - val_loss: 3.8987 - val_accuracy: 0.7562\n",
            "Epoch 25/400\n",
            "55/55 [==============================] - 1s 12ms/step - loss: 3.9106 - accuracy: 0.7699 - val_loss: 4.1194 - val_accuracy: 0.7711\n",
            "Epoch 26/400\n",
            "55/55 [==============================] - 1s 12ms/step - loss: 3.6857 - accuracy: 0.7745 - val_loss: 4.2341 - val_accuracy: 0.7637\n",
            "Epoch 27/400\n",
            "55/55 [==============================] - 1s 13ms/step - loss: 3.8619 - accuracy: 0.7716 - val_loss: 5.1896 - val_accuracy: 0.7587\n",
            "Epoch 28/400\n",
            "55/55 [==============================] - 1s 12ms/step - loss: 3.8630 - accuracy: 0.7693 - val_loss: 3.6530 - val_accuracy: 0.7612\n",
            "Epoch 29/400\n",
            "55/55 [==============================] - 1s 12ms/step - loss: 3.4888 - accuracy: 0.7837 - val_loss: 4.3274 - val_accuracy: 0.7587\n",
            "Epoch 30/400\n",
            "55/55 [==============================] - 1s 12ms/step - loss: 3.3375 - accuracy: 0.7888 - val_loss: 3.3845 - val_accuracy: 0.7786\n",
            "Epoch 31/400\n",
            "55/55 [==============================] - 1s 11ms/step - loss: 3.6304 - accuracy: 0.7791 - val_loss: 4.8509 - val_accuracy: 0.7562\n",
            "Epoch 32/400\n",
            "55/55 [==============================] - 1s 12ms/step - loss: 3.1709 - accuracy: 0.7888 - val_loss: 3.2182 - val_accuracy: 0.7761\n",
            "Epoch 33/400\n",
            "55/55 [==============================] - 1s 11ms/step - loss: 3.2328 - accuracy: 0.7854 - val_loss: 3.4551 - val_accuracy: 0.7736\n",
            "Epoch 34/400\n",
            "55/55 [==============================] - 1s 11ms/step - loss: 3.7208 - accuracy: 0.7808 - val_loss: 3.6371 - val_accuracy: 0.7736\n",
            "Epoch 35/400\n",
            "55/55 [==============================] - 1s 12ms/step - loss: 2.9801 - accuracy: 0.7946 - val_loss: 3.6560 - val_accuracy: 0.7612\n",
            "Epoch 36/400\n",
            "55/55 [==============================] - 1s 12ms/step - loss: 2.9151 - accuracy: 0.8096 - val_loss: 3.4892 - val_accuracy: 0.7662\n",
            "Epoch 37/400\n",
            "55/55 [==============================] - 1s 12ms/step - loss: 3.9938 - accuracy: 0.8015 - val_loss: 13.7183 - val_accuracy: 0.7612\n",
            "Epoch 38/400\n",
            "55/55 [==============================] - 1s 11ms/step - loss: 4.1315 - accuracy: 0.7900 - val_loss: 3.5448 - val_accuracy: 0.7587\n",
            "Epoch 39/400\n",
            "55/55 [==============================] - 1s 12ms/step - loss: 2.7914 - accuracy: 0.7992 - val_loss: 3.3135 - val_accuracy: 0.7761\n",
            "Epoch 40/400\n",
            "55/55 [==============================] - 1s 11ms/step - loss: 2.4542 - accuracy: 0.8003 - val_loss: 3.2148 - val_accuracy: 0.7786\n",
            "Epoch 41/400\n",
            "55/55 [==============================] - 1s 11ms/step - loss: 2.5201 - accuracy: 0.8038 - val_loss: 3.0983 - val_accuracy: 0.7736\n",
            "Epoch 42/400\n",
            "55/55 [==============================] - 1s 11ms/step - loss: 2.4821 - accuracy: 0.8084 - val_loss: 5.5612 - val_accuracy: 0.7711\n",
            "Epoch 43/400\n",
            "55/55 [==============================] - 1s 11ms/step - loss: 3.3507 - accuracy: 0.8015 - val_loss: 2.9630 - val_accuracy: 0.7886\n",
            "Epoch 44/400\n",
            "55/55 [==============================] - 1s 13ms/step - loss: 2.4256 - accuracy: 0.8021 - val_loss: 3.0192 - val_accuracy: 0.7711\n",
            "Epoch 45/400\n",
            "55/55 [==============================] - 1s 12ms/step - loss: 2.8241 - accuracy: 0.7952 - val_loss: 5.0513 - val_accuracy: 0.7786\n",
            "Epoch 46/400\n",
            "55/55 [==============================] - 1s 12ms/step - loss: 2.4403 - accuracy: 0.8038 - val_loss: 3.0917 - val_accuracy: 0.7761\n",
            "Epoch 47/400\n",
            "55/55 [==============================] - 1s 12ms/step - loss: 2.1683 - accuracy: 0.8142 - val_loss: 3.0075 - val_accuracy: 0.7861\n",
            "Epoch 48/400\n",
            "55/55 [==============================] - 1s 12ms/step - loss: 2.1702 - accuracy: 0.8061 - val_loss: 2.8965 - val_accuracy: 0.7761\n",
            "Epoch 49/400\n",
            "55/55 [==============================] - 1s 12ms/step - loss: 4.7143 - accuracy: 0.8078 - val_loss: 5.6064 - val_accuracy: 0.7687\n",
            "Epoch 50/400\n",
            "55/55 [==============================] - 1s 12ms/step - loss: 2.5019 - accuracy: 0.8084 - val_loss: 3.1240 - val_accuracy: 0.7836\n",
            "Epoch 51/400\n",
            "55/55 [==============================] - 1s 12ms/step - loss: 2.1547 - accuracy: 0.8026 - val_loss: 3.0253 - val_accuracy: 0.7811\n",
            "Epoch 52/400\n",
            "55/55 [==============================] - 1s 11ms/step - loss: 2.4039 - accuracy: 0.8130 - val_loss: 3.7747 - val_accuracy: 0.7861\n",
            "Epoch 53/400\n",
            "55/55 [==============================] - 1s 11ms/step - loss: 2.6228 - accuracy: 0.8072 - val_loss: 3.1826 - val_accuracy: 0.7836\n",
            "Epoch 54/400\n",
            "55/55 [==============================] - 1s 12ms/step - loss: 1.9958 - accuracy: 0.8182 - val_loss: 3.1289 - val_accuracy: 0.7711\n",
            "Epoch 55/400\n",
            "55/55 [==============================] - 1s 12ms/step - loss: 2.2140 - accuracy: 0.8176 - val_loss: 3.1823 - val_accuracy: 0.7861\n",
            "Epoch 56/400\n",
            "55/55 [==============================] - 1s 12ms/step - loss: 1.8250 - accuracy: 0.8170 - val_loss: 3.7292 - val_accuracy: 0.7935\n",
            "Epoch 57/400\n",
            "55/55 [==============================] - 1s 12ms/step - loss: 2.1621 - accuracy: 0.8136 - val_loss: 2.9845 - val_accuracy: 0.7910\n",
            "Epoch 58/400\n",
            "55/55 [==============================] - 1s 12ms/step - loss: 2.7915 - accuracy: 0.8165 - val_loss: 4.2788 - val_accuracy: 0.8060\n",
            "Epoch 59/400\n",
            "55/55 [==============================] - 1s 11ms/step - loss: 2.4981 - accuracy: 0.8170 - val_loss: 3.0157 - val_accuracy: 0.7687\n",
            "Epoch 60/400\n",
            "55/55 [==============================] - 1s 11ms/step - loss: 2.9782 - accuracy: 0.8165 - val_loss: 2.9005 - val_accuracy: 0.7786\n",
            "Epoch 61/400\n",
            "55/55 [==============================] - 1s 12ms/step - loss: 1.9474 - accuracy: 0.8291 - val_loss: 2.8609 - val_accuracy: 0.7587\n",
            "Epoch 62/400\n",
            "55/55 [==============================] - 1s 13ms/step - loss: 1.8007 - accuracy: 0.8211 - val_loss: 3.3119 - val_accuracy: 0.7935\n",
            "Epoch 63/400\n",
            "55/55 [==============================] - 1s 13ms/step - loss: 1.6691 - accuracy: 0.8136 - val_loss: 2.7901 - val_accuracy: 0.7811\n",
            "Epoch 64/400\n",
            "55/55 [==============================] - 1s 11ms/step - loss: 1.7182 - accuracy: 0.8222 - val_loss: 3.6414 - val_accuracy: 0.7811\n",
            "Epoch 65/400\n",
            "55/55 [==============================] - 1s 11ms/step - loss: 1.7682 - accuracy: 0.8268 - val_loss: 3.1534 - val_accuracy: 0.8060\n",
            "Epoch 66/400\n",
            "55/55 [==============================] - 1s 11ms/step - loss: 1.9465 - accuracy: 0.8337 - val_loss: 2.9348 - val_accuracy: 0.7861\n",
            "Epoch 67/400\n",
            "55/55 [==============================] - 1s 12ms/step - loss: 1.8707 - accuracy: 0.8262 - val_loss: 2.6977 - val_accuracy: 0.7886\n",
            "Epoch 68/400\n",
            "55/55 [==============================] - 1s 12ms/step - loss: 1.5360 - accuracy: 0.8199 - val_loss: 2.7991 - val_accuracy: 0.7537\n",
            "Epoch 69/400\n",
            "55/55 [==============================] - 1s 11ms/step - loss: 1.6667 - accuracy: 0.8389 - val_loss: 3.1874 - val_accuracy: 0.7736\n",
            "Epoch 70/400\n",
            "55/55 [==============================] - 1s 12ms/step - loss: 1.9159 - accuracy: 0.8326 - val_loss: 2.6797 - val_accuracy: 0.7985\n",
            "Epoch 71/400\n",
            "55/55 [==============================] - 1s 12ms/step - loss: 1.8635 - accuracy: 0.8383 - val_loss: 2.7289 - val_accuracy: 0.7935\n",
            "Epoch 72/400\n",
            "55/55 [==============================] - 1s 12ms/step - loss: 1.4909 - accuracy: 0.8452 - val_loss: 2.9173 - val_accuracy: 0.8010\n",
            "Epoch 73/400\n",
            "55/55 [==============================] - 1s 11ms/step - loss: 1.5140 - accuracy: 0.8406 - val_loss: 2.8611 - val_accuracy: 0.7935\n",
            "Epoch 74/400\n",
            "55/55 [==============================] - 1s 11ms/step - loss: 1.6833 - accuracy: 0.8481 - val_loss: 2.5606 - val_accuracy: 0.8010\n",
            "Epoch 75/400\n",
            "55/55 [==============================] - 1s 12ms/step - loss: 1.4421 - accuracy: 0.8418 - val_loss: 3.6060 - val_accuracy: 0.7910\n",
            "Epoch 76/400\n",
            "55/55 [==============================] - 1s 11ms/step - loss: 1.4982 - accuracy: 0.8400 - val_loss: 3.9465 - val_accuracy: 0.7985\n",
            "Epoch 77/400\n",
            "55/55 [==============================] - 1s 11ms/step - loss: 1.9026 - accuracy: 0.8435 - val_loss: 2.8581 - val_accuracy: 0.8010\n",
            "Epoch 78/400\n",
            "55/55 [==============================] - 1s 12ms/step - loss: 1.3283 - accuracy: 0.8429 - val_loss: 2.7025 - val_accuracy: 0.8010\n",
            "Epoch 79/400\n",
            "55/55 [==============================] - 1s 12ms/step - loss: 1.3661 - accuracy: 0.8452 - val_loss: 3.0162 - val_accuracy: 0.7910\n",
            "Epoch 80/400\n",
            "55/55 [==============================] - 1s 12ms/step - loss: 1.6503 - accuracy: 0.8418 - val_loss: 2.7083 - val_accuracy: 0.8159\n",
            "Epoch 81/400\n",
            "55/55 [==============================] - 1s 13ms/step - loss: 1.2465 - accuracy: 0.8498 - val_loss: 2.6380 - val_accuracy: 0.8010\n",
            "Epoch 82/400\n",
            "55/55 [==============================] - 1s 11ms/step - loss: 1.4108 - accuracy: 0.8470 - val_loss: 2.8349 - val_accuracy: 0.8109\n",
            "Epoch 83/400\n",
            "55/55 [==============================] - 1s 11ms/step - loss: 1.5081 - accuracy: 0.8475 - val_loss: 3.6292 - val_accuracy: 0.8035\n",
            "Epoch 84/400\n",
            "55/55 [==============================] - 1s 12ms/step - loss: 1.7676 - accuracy: 0.8516 - val_loss: 2.6145 - val_accuracy: 0.8109\n",
            "Epoch 85/400\n",
            "55/55 [==============================] - 1s 11ms/step - loss: 1.6015 - accuracy: 0.8498 - val_loss: 3.2693 - val_accuracy: 0.7960\n",
            "Epoch 86/400\n",
            "55/55 [==============================] - 1s 11ms/step - loss: 1.8217 - accuracy: 0.8533 - val_loss: 2.5480 - val_accuracy: 0.8010\n",
            "Epoch 87/400\n",
            "55/55 [==============================] - 1s 11ms/step - loss: 1.2573 - accuracy: 0.8539 - val_loss: 2.7225 - val_accuracy: 0.8085\n",
            "Epoch 88/400\n",
            "55/55 [==============================] - 1s 11ms/step - loss: 1.3265 - accuracy: 0.8585 - val_loss: 2.9202 - val_accuracy: 0.8109\n",
            "Epoch 89/400\n",
            "55/55 [==============================] - 1s 11ms/step - loss: 1.5687 - accuracy: 0.8544 - val_loss: 2.5823 - val_accuracy: 0.7960\n",
            "Epoch 90/400\n",
            "55/55 [==============================] - 1s 12ms/step - loss: 1.0982 - accuracy: 0.8648 - val_loss: 2.5135 - val_accuracy: 0.8109\n",
            "Epoch 91/400\n",
            "55/55 [==============================] - 1s 12ms/step - loss: 1.4868 - accuracy: 0.8677 - val_loss: 6.5290 - val_accuracy: 0.7836\n",
            "Epoch 92/400\n",
            "55/55 [==============================] - 1s 11ms/step - loss: 1.5738 - accuracy: 0.8579 - val_loss: 2.6409 - val_accuracy: 0.8085\n",
            "Epoch 93/400\n",
            "55/55 [==============================] - 1s 11ms/step - loss: 1.2022 - accuracy: 0.8642 - val_loss: 2.7349 - val_accuracy: 0.7960\n",
            "Epoch 94/400\n",
            "55/55 [==============================] - 1s 11ms/step - loss: 1.1324 - accuracy: 0.8636 - val_loss: 2.7831 - val_accuracy: 0.7960\n",
            "Epoch 95/400\n",
            "55/55 [==============================] - 1s 11ms/step - loss: 1.1260 - accuracy: 0.8671 - val_loss: 2.4546 - val_accuracy: 0.8060\n",
            "Epoch 96/400\n",
            "55/55 [==============================] - 1s 12ms/step - loss: 1.1932 - accuracy: 0.8619 - val_loss: 3.0269 - val_accuracy: 0.7861\n",
            "Epoch 97/400\n",
            "55/55 [==============================] - 1s 12ms/step - loss: 1.1569 - accuracy: 0.8619 - val_loss: 3.3017 - val_accuracy: 0.8035\n",
            "Epoch 98/400\n",
            "55/55 [==============================] - 1s 13ms/step - loss: 1.0822 - accuracy: 0.8567 - val_loss: 2.7869 - val_accuracy: 0.8109\n",
            "Epoch 99/400\n",
            "55/55 [==============================] - 1s 12ms/step - loss: 0.9890 - accuracy: 0.8659 - val_loss: 2.6376 - val_accuracy: 0.8085\n",
            "Epoch 100/400\n",
            "55/55 [==============================] - 1s 12ms/step - loss: 1.1351 - accuracy: 0.8636 - val_loss: 2.6099 - val_accuracy: 0.8109\n",
            "Epoch 101/400\n",
            "55/55 [==============================] - 1s 12ms/step - loss: 1.2372 - accuracy: 0.8803 - val_loss: 2.8396 - val_accuracy: 0.8109\n",
            "Epoch 102/400\n",
            "55/55 [==============================] - 1s 12ms/step - loss: 0.9370 - accuracy: 0.8803 - val_loss: 2.6310 - val_accuracy: 0.7910\n",
            "Epoch 103/400\n",
            "55/55 [==============================] - 1s 11ms/step - loss: 0.9618 - accuracy: 0.8751 - val_loss: 2.5740 - val_accuracy: 0.7960\n",
            "Epoch 104/400\n",
            "55/55 [==============================] - 1s 12ms/step - loss: 1.6204 - accuracy: 0.8682 - val_loss: 3.2325 - val_accuracy: 0.7786\n",
            "Epoch 105/400\n",
            "55/55 [==============================] - 1s 11ms/step - loss: 1.2756 - accuracy: 0.8763 - val_loss: 2.8903 - val_accuracy: 0.8134\n",
            "Epoch 106/400\n",
            "55/55 [==============================] - 1s 12ms/step - loss: 1.0612 - accuracy: 0.8757 - val_loss: 2.4431 - val_accuracy: 0.7960\n",
            "Epoch 107/400\n",
            "55/55 [==============================] - 1s 12ms/step - loss: 0.8354 - accuracy: 0.8763 - val_loss: 2.5255 - val_accuracy: 0.8010\n",
            "Epoch 108/400\n",
            "55/55 [==============================] - 1s 12ms/step - loss: 1.2978 - accuracy: 0.8774 - val_loss: 2.6701 - val_accuracy: 0.8035\n",
            "Epoch 109/400\n",
            "55/55 [==============================] - 1s 12ms/step - loss: 0.8060 - accuracy: 0.8751 - val_loss: 2.4158 - val_accuracy: 0.8035\n",
            "Epoch 110/400\n",
            "55/55 [==============================] - 1s 12ms/step - loss: 0.8825 - accuracy: 0.8838 - val_loss: 2.4571 - val_accuracy: 0.7786\n",
            "Epoch 111/400\n",
            "55/55 [==============================] - 1s 11ms/step - loss: 1.1797 - accuracy: 0.8861 - val_loss: 3.0583 - val_accuracy: 0.8060\n",
            "Epoch 112/400\n",
            "55/55 [==============================] - 1s 12ms/step - loss: 1.7252 - accuracy: 0.8820 - val_loss: 2.9618 - val_accuracy: 0.8109\n",
            "Epoch 113/400\n",
            "55/55 [==============================] - 1s 12ms/step - loss: 0.9008 - accuracy: 0.8803 - val_loss: 2.5720 - val_accuracy: 0.8109\n",
            "Epoch 114/400\n",
            "55/55 [==============================] - 1s 12ms/step - loss: 1.0009 - accuracy: 0.8832 - val_loss: 2.8058 - val_accuracy: 0.8109\n",
            "Epoch 115/400\n",
            "55/55 [==============================] - 1s 13ms/step - loss: 0.8006 - accuracy: 0.8843 - val_loss: 2.6086 - val_accuracy: 0.7935\n",
            "Epoch 116/400\n",
            "55/55 [==============================] - 1s 13ms/step - loss: 0.8941 - accuracy: 0.8953 - val_loss: 2.5741 - val_accuracy: 0.7935\n",
            "Epoch 117/400\n",
            "55/55 [==============================] - 1s 12ms/step - loss: 0.7863 - accuracy: 0.8936 - val_loss: 2.9621 - val_accuracy: 0.8060\n",
            "Epoch 118/400\n",
            "55/55 [==============================] - 1s 12ms/step - loss: 0.7621 - accuracy: 0.8999 - val_loss: 2.9033 - val_accuracy: 0.8159\n",
            "Epoch 119/400\n",
            "55/55 [==============================] - 1s 11ms/step - loss: 0.8913 - accuracy: 0.8913 - val_loss: 2.7931 - val_accuracy: 0.8010\n",
            "Epoch 120/400\n",
            "55/55 [==============================] - 1s 12ms/step - loss: 0.7341 - accuracy: 0.9016 - val_loss: 2.5017 - val_accuracy: 0.7935\n",
            "Epoch 121/400\n",
            "55/55 [==============================] - 1s 11ms/step - loss: 1.0188 - accuracy: 0.9068 - val_loss: 2.4869 - val_accuracy: 0.7935\n",
            "Epoch 122/400\n",
            "55/55 [==============================] - 1s 12ms/step - loss: 0.8338 - accuracy: 0.8890 - val_loss: 2.7129 - val_accuracy: 0.8060\n",
            "Epoch 123/400\n",
            "55/55 [==============================] - 1s 11ms/step - loss: 0.6807 - accuracy: 0.9045 - val_loss: 2.5122 - val_accuracy: 0.8159\n",
            "Epoch 124/400\n",
            "55/55 [==============================] - 1s 11ms/step - loss: 0.7696 - accuracy: 0.8959 - val_loss: 3.5112 - val_accuracy: 0.7985\n",
            "Epoch 125/400\n",
            "55/55 [==============================] - 1s 12ms/step - loss: 0.9237 - accuracy: 0.8964 - val_loss: 2.8419 - val_accuracy: 0.8010\n",
            "Epoch 126/400\n",
            "55/55 [==============================] - 1s 11ms/step - loss: 0.7699 - accuracy: 0.8930 - val_loss: 2.6508 - val_accuracy: 0.8010\n",
            "Epoch 127/400\n",
            "55/55 [==============================] - 1s 12ms/step - loss: 0.6638 - accuracy: 0.9051 - val_loss: 2.6382 - val_accuracy: 0.7960\n",
            "Epoch 128/400\n",
            "55/55 [==============================] - 1s 12ms/step - loss: 0.7402 - accuracy: 0.8982 - val_loss: 3.3318 - val_accuracy: 0.8159\n",
            "Epoch 129/400\n",
            "55/55 [==============================] - 1s 12ms/step - loss: 0.6807 - accuracy: 0.9051 - val_loss: 2.4332 - val_accuracy: 0.8085\n",
            "Epoch 130/400\n",
            "55/55 [==============================] - 1s 12ms/step - loss: 0.5531 - accuracy: 0.9166 - val_loss: 2.5359 - val_accuracy: 0.8109\n",
            "Epoch 131/400\n",
            "55/55 [==============================] - 1s 11ms/step - loss: 0.7662 - accuracy: 0.9120 - val_loss: 2.8798 - val_accuracy: 0.8060\n",
            "Epoch 132/400\n",
            "55/55 [==============================] - 1s 12ms/step - loss: 0.8196 - accuracy: 0.9045 - val_loss: 2.5094 - val_accuracy: 0.8085\n",
            "Epoch 133/400\n",
            "55/55 [==============================] - 1s 13ms/step - loss: 0.7809 - accuracy: 0.9125 - val_loss: 2.6087 - val_accuracy: 0.8109\n",
            "Epoch 134/400\n",
            "55/55 [==============================] - 1s 12ms/step - loss: 0.9218 - accuracy: 0.9062 - val_loss: 2.9617 - val_accuracy: 0.8060\n",
            "Epoch 135/400\n",
            "55/55 [==============================] - 1s 12ms/step - loss: 0.7413 - accuracy: 0.9114 - val_loss: 2.3044 - val_accuracy: 0.8060\n",
            "Epoch 136/400\n",
            "55/55 [==============================] - 1s 12ms/step - loss: 0.5268 - accuracy: 0.9206 - val_loss: 2.5198 - val_accuracy: 0.8209\n",
            "Epoch 137/400\n",
            "55/55 [==============================] - 1s 11ms/step - loss: 0.7443 - accuracy: 0.9154 - val_loss: 3.1462 - val_accuracy: 0.8060\n",
            "Epoch 138/400\n",
            "55/55 [==============================] - 1s 11ms/step - loss: 0.8364 - accuracy: 0.9016 - val_loss: 2.8036 - val_accuracy: 0.8085\n",
            "Epoch 139/400\n",
            "55/55 [==============================] - 1s 12ms/step - loss: 0.5278 - accuracy: 0.9114 - val_loss: 2.4870 - val_accuracy: 0.7985\n",
            "Epoch 140/400\n",
            "55/55 [==============================] - 1s 11ms/step - loss: 0.5428 - accuracy: 0.9154 - val_loss: 2.4510 - val_accuracy: 0.7910\n",
            "Epoch 141/400\n",
            "55/55 [==============================] - 1s 12ms/step - loss: 0.6537 - accuracy: 0.9223 - val_loss: 2.3648 - val_accuracy: 0.7886\n",
            "Epoch 142/400\n",
            "55/55 [==============================] - 1s 12ms/step - loss: 0.6979 - accuracy: 0.9217 - val_loss: 2.4833 - val_accuracy: 0.7910\n",
            "Epoch 143/400\n",
            "55/55 [==============================] - 1s 11ms/step - loss: 0.8159 - accuracy: 0.8959 - val_loss: 2.6386 - val_accuracy: 0.8085\n",
            "Epoch 144/400\n",
            "55/55 [==============================] - 1s 12ms/step - loss: 0.6346 - accuracy: 0.9183 - val_loss: 2.4179 - val_accuracy: 0.8035\n",
            "Epoch 145/400\n",
            "55/55 [==============================] - 1s 11ms/step - loss: 0.6309 - accuracy: 0.9177 - val_loss: 3.0641 - val_accuracy: 0.7960\n",
            "Epoch 146/400\n",
            "55/55 [==============================] - 1s 12ms/step - loss: 0.8452 - accuracy: 0.9252 - val_loss: 3.1722 - val_accuracy: 0.7910\n",
            "13/13 [==============================] - 0s 3ms/step\n",
            "98.53341101099977\n"
          ]
        }
      ]
    },
    {
      "cell_type": "code",
      "source": [
        "# Plot the training and validation loss\n",
        "plt.figure()\n",
        "plt.plot(df_loss['Epoch'], loss_values, label='Training Loss')\n",
        "plt.plot(df_loss['Epoch'], val_loss, label='Validation Loss')\n",
        "plt.yscale('log')\n",
        "plt.ylim(1,np.max(val_loss))\n",
        "plt.xlabel('Epochs')\n",
        "plt.ylabel('Loss')\n",
        "plt.title('Training and Validation Loss')\n",
        "plt.legend()\n",
        "plt.show()"
      ],
      "metadata": {
        "id": "fKCx7xKEbsC3",
        "outputId": "085621ba-9e98-49cb-c155-5dede54d4f13",
        "colab": {
          "base_uri": "https://localhost:8080/",
          "height": 472
        }
      },
      "execution_count": null,
      "outputs": [
        {
          "output_type": "display_data",
          "data": {
            "text/plain": [
              "<Figure size 640x480 with 1 Axes>"
            ],
            "image/png": "[encoded data removed]"
          },
          "metadata": {}
        }
      ]
    },
    {
      "cell_type": "code",
      "source": [
        "# First, calculate the column means along axis 0 (columns)\n",
        "col_means = np.nanmean(y_test, axis=0)\n",
        "\n",
        "# Next, create the matrix 'p' using the calculated column means\n",
        "num_rows_d_test = y_test.shape[0]\n",
        "num_cols_d_train = y_train.shape[1]\n",
        "\n",
        "# Create the matrix 'p' with the specified dimensions and fill it with column means\n",
        "p = np.tile(col_means, (num_rows_d_test, 1)).astype(y_test.dtypes)\n",
        "\n",
        "# Compute RMSE\n",
        "rmse = np.sqrt(df_loss['Loss'].iloc[-1])\n",
        "\n",
        "# Print RMSE\n",
        "print('RMSE : ')\n",
        "print(rmse)\n",
        "df['RMSE'] = rmse\n",
        "df.to_csv('/content/performance.csv',mode='a')"
      ],
      "metadata": {
        "id": "vA8P1bkO2yvj",
        "outputId": "d877f656-f38d-4386-cd99-bbf6acf4cd52",
        "colab": {
          "base_uri": "https://localhost:8080/"
        }
      },
      "execution_count": null,
      "outputs": [
        {
          "output_type": "stream",
          "name": "stdout",
          "text": [
            "RMSE : \n",
            "0.9193548572960718\n"
          ]
        }
      ]
    },
    {
      "cell_type": "code",
      "source": [
        "df_predictions = pd.DataFrame(predictions)"
      ],
      "metadata": {
        "id": "O-4lCKuJDN5C"
      },
      "execution_count": null,
      "outputs": []
    },
    {
      "cell_type": "code",
      "source": [
        "# Plot the first image in the DataFrame\n",
        "ii = 0 # index of the picture to display\n",
        "if model_type == 'Single hidden layer':\n",
        "  image = np.array(x_test.iloc[ii,:])  # Convert the Series to a NumPy array\n",
        "  image = image.reshape((96, 96))  # Reshape the array to the desired image dimensions\n",
        "elif model_type == 'Convolutions':\n",
        "  image = x_test[ii]\n",
        "  image = image.reshape((96, 96))\n",
        "predicted_keypoints = predictions[ii].reshape((15, 2))\n",
        "plt.scatter(predicted_keypoints[:, 0], predicted_keypoints[:, 1], c='r', marker='o')\n",
        "plt.imshow(image, cmap='gray')\n",
        "plt.show()"
      ],
      "metadata": {
        "id": "SMdqZBecLIOi",
        "outputId": "6d3d26eb-c48a-4449-b493-8fd874964d8e",
        "colab": {
          "base_uri": "https://localhost:8080/",
          "height": 433
        }
      },
      "execution_count": null,
      "outputs": [
        {
          "output_type": "display_data",
          "data": {
            "text/plain": [
              "<Figure size 640x480 with 1 Axes>"
            ],
            "image/png": "[encoded data removed]"
          },
          "metadata": {}
        }
      ]
    },
    {
      "cell_type": "code",
      "source": [
        "#TODO move below\n",
        "# from pandas.io.parsers.readers import read_csv\n",
        "# Extract data for output\n",
        "filename = '/content/data_submission.RData'\n",
        "df_submission = pyreadr.read_r(filename)\n",
        "x_submission = df_submission['im_submission']\n",
        "# Get the indices of rows containing NaN values.\n",
        "nan_indices_submission = x_submission.index[x_submission.isnull().any(axis=1)].tolist()\n",
        "# Drop rows containing NaN values\n",
        "x_submission = x_submission.drop(x_submission.index[nan_indices_submission])\n",
        "if model_type == 'Convolutions' :\n",
        "  x_submission = x_submission.to_numpy().reshape(-1, pixel_num, pixel_num, 1)/255\n",
        "\n",
        "# Make predictions\n",
        "predictions_submission = model.predict(x_submission)\n",
        "\n",
        "# Size of the image is given, prediction cannot be outside of range\n",
        "min_value = 0\n",
        "max_value = 96\n",
        "constrained_predictions_submission = np.clip(predictions_submission, min_value, max_value)\n",
        "\n",
        "# Remove predictions not requested in IdLookupTable.csv\n",
        "filename = '/content/IdLookupTable.csv'\n",
        "IdLookupTable = read_csv(filename)\n",
        "# All keypoints names\n",
        "keypoints_names = IdLookupTable['FeatureName'].iloc[0:30]\n",
        "# Calculate the repeating sequence based on the number of rows in 'df'\n",
        "repeating_sequence = np.repeat(np.arange(1, 1783*30 // 30 + 1), 30)\n",
        "# Add the repeating sequence as a new column to the DataFrame\n",
        "keypoints_names_filter = pd.DataFrame({'ImageId': repeating_sequence})\n",
        "keypoints_names_filter['Indices'] = range(len(keypoints_names_filter))\n",
        "keypoints_names_filter['FeatureName'] = pd.concat([keypoints_names] * 1783, ignore_index=True)\n",
        "# Filter\n",
        "keypoints_names_filter = keypoints_names_filter.merge(IdLookupTable[['ImageId', 'FeatureName']], on=['ImageId', 'FeatureName'], how='inner')\n",
        "# Create a mask of size 1783x30 where True indicates the indices to keep\n",
        "nb_output_images = x_submission.shape[0]\n",
        "mask = np.isin(np.arange(nb_output_images*30), keypoints_names_filter['Indices'])\n",
        "# Reshape the mask to the same shape as 'np_array'\n",
        "mask = mask.reshape(constrained_predictions_submission.shape)\n",
        "# Use the mask to replace values in the NumPy array with NaN\n",
        "constrained_predictions_submission[~mask] = np.nan\n",
        "\n",
        "# Plot the first image in the DataFrame\n",
        "ii = -1\n",
        "if model_type == 'Single hidden layer':\n",
        "  image = np.array(x_submission.iloc[ii,:])\n",
        "  image = image.reshape((96, 96))  # Reshape the array to the desired image dimensions\n",
        "elif model_type == 'Convolutions':\n",
        "  image = x_submission[ii]\n",
        "  image = image.reshape((96, 96))\n",
        "predicted_keypoints = constrained_predictions_submission[ii].reshape((15, 2))\n",
        "plt.scatter(predicted_keypoints[:, 0], predicted_keypoints[:, 1], c='r', marker='o')\n",
        "plt.imshow(image, cmap='gray')\n",
        "plt.show()\n",
        "\n",
        "# Prepare for output file\n",
        "df_predictions = pd.DataFrame(constrained_predictions_submission)\n",
        "\n",
        "# Convert the DataFrame to a NumPy array and reshape it\n",
        "reshaped_values = df_predictions.values.reshape(-1, 1)\n",
        "\n",
        "# Remove NaN values from the NumPy array\n",
        "reshaped_values = reshaped_values[~np.isnan(reshaped_values)]\n",
        "\n",
        "# Create a new DataFrame with the reshaped values\n",
        "reshaped_df = pd.DataFrame(reshaped_values, columns=['Value'])\n",
        "indices = pd.DataFrame(range(1,len(reshaped_df)+1))\n",
        "submission = pd.concat([indices, reshaped_df], axis=1)\n",
        "submission.rename(columns={0: 'RowId','Value': 'Location'}, inplace=True)\n",
        "\n",
        "# Write to csv file\n",
        "submission.to_csv('/content/simple_model_submission.csv',index=False)\n"
      ],
      "metadata": {
        "id": "pwYDph1YMxwk",
        "outputId": "f63a11b0-f962-47de-c4b4-c2440caf38eb",
        "colab": {
          "base_uri": "https://localhost:8080/",
          "height": 450
        }
      },
      "execution_count": null,
      "outputs": [
        {
          "output_type": "stream",
          "name": "stdout",
          "text": [
            "56/56 [==============================] - 0s 4ms/step\n"
          ]
        },
        {
          "output_type": "display_data",
          "data": {
            "text/plain": [
              "<Figure size 640x480 with 1 Axes>"
            ],
            "image/png": "[encoded data removed]"
          },
          "metadata": {}
        }
      ]
    },
    {
      "cell_type": "code",
      "source": [],
      "metadata": {
        "id": "vhXWSzMv2_Hj"
      },
      "execution_count": null,
      "outputs": []
    },
    {
      "cell_type": "code",
      "source": [],
      "metadata": {
        "id": "n4HI3Kke3A5-"
      },
      "execution_count": null,
      "outputs": []
    }
  ]
}