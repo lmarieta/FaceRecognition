{
  "nbformat": 4,
  "nbformat_minor": 0,
  "metadata": {
    "colab": {
      "provenance": [],
      "gpuType": "T4",
      "authorship_tag": "ABX9TyNqPHurwF4i1Ggq3LUorZJQ",
      "include_colab_link": true
    },
    "kernelspec": {
      "name": "python3",
      "display_name": "Python 3"
    },
    "language_info": {
      "name": "python"
    },
    "accelerator": "GPU"
  },
  "cells": [
    {
      "cell_type": "markdown",
      "metadata": {
        "id": "view-in-github",
        "colab_type": "text"
      },
      "source": [
        "<a href=\"https://colab.research.google.com/github/lmarieta/FaceRecognition/blob/main/Face_recognition.ipynb\" target=\"_parent\"><img src=\"https://colab.research.google.com/assets/colab-badge.svg\" alt=\"Open In Colab\"/></a>"
      ]
    },
    {
      "cell_type": "markdown",
      "source": [
        "Before starting, upload data.RData, data_submission.RData, IdLookupTable.csv files. After training your model, you can download it. After saving the output file, you can also download it."
      ],
      "metadata": {
        "id": "lBQAn62asEWj"
      }
    },
    {
      "cell_type": "markdown",
      "source": [
        "Import Libraries\n"
      ],
      "metadata": {
        "id": "HCjTVDjLk_28"
      }
    },
    {
      "cell_type": "code",
      "execution_count": 348,
      "metadata": {
        "colab": {
          "base_uri": "https://localhost:8080/"
        },
        "id": "QsKs4kwPiiKV",
        "outputId": "1d5ab452-c80c-4f4b-b0a8-f28fc2a29ddc"
      },
      "outputs": [
        {
          "output_type": "stream",
          "name": "stdout",
          "text": [
            "Requirement already satisfied: pyreadr in /usr/local/lib/python3.10/dist-packages (0.4.9)\n",
            "Requirement already satisfied: pandas>=1.2.0 in /usr/local/lib/python3.10/dist-packages (from pyreadr) (1.5.3)\n",
            "Requirement already satisfied: python-dateutil>=2.8.1 in /usr/local/lib/python3.10/dist-packages (from pandas>=1.2.0->pyreadr) (2.8.2)\n",
            "Requirement already satisfied: pytz>=2020.1 in /usr/local/lib/python3.10/dist-packages (from pandas>=1.2.0->pyreadr) (2023.3.post1)\n",
            "Requirement already satisfied: numpy>=1.21.0 in /usr/local/lib/python3.10/dist-packages (from pandas>=1.2.0->pyreadr) (1.23.5)\n",
            "Requirement already satisfied: six>=1.5 in /usr/local/lib/python3.10/dist-packages (from python-dateutil>=2.8.1->pandas>=1.2.0->pyreadr) (1.16.0)\n"
          ]
        }
      ],
      "source": [
        "import numpy as np\n",
        "from tensorflow import keras\n",
        "import tensorflow as tf\n",
        "from keras import layers\n",
        "import pandas as pd\n",
        "import h5py\n",
        "#from sklearn import train_test_split\n",
        "import matplotlib.pyplot as plt\n",
        "!pip install pyreadr\n",
        "import pyreadr\n",
        "from keras.optimizers import Adam\n",
        "from timeit import default_timer\n",
        "from keras.callbacks import EarlyStopping\n",
        "from keras.callbacks import Callback\n",
        "from keras.layers import Conv2D, MaxPooling2D, Flatten, Dense, Dropout, Reshape\n",
        "from keras.regularizers import l2\n",
        "from keras.preprocessing.image import ImageDataGenerator\n",
        "from collections import OrderedDict\n",
        "from tensorflow.keras.models import clone_model\n",
        "from sklearn.utils import shuffle\n",
        "from sklearn.metrics import mean_squared_error\n",
        "from tensorflow.keras.applications import VGG16\n",
        "from tensorflow.keras import layers, models"
      ]
    },
    {
      "cell_type": "markdown",
      "source": [
        "Initialization"
      ],
      "metadata": {
        "id": "dCq6AyUthC9K"
      }
    },
    {
      "cell_type": "code",
      "source": [
        "epochs = 500"
      ],
      "metadata": {
        "id": "nzTL3YCHhF8q"
      },
      "execution_count": 349,
      "outputs": []
    },
    {
      "cell_type": "markdown",
      "source": [
        "Load data"
      ],
      "metadata": {
        "id": "9V6G9irLLxFi"
      }
    },
    {
      "cell_type": "code",
      "source": [
        "data_filename = '/content/data.h5'\n",
        "submission_filename = '/content/data_submission.h5'\n",
        "\n",
        "## Get the indices of rows containing NaN values. Note that train and test splits are random with a given seed.\n",
        "# nan_indices_train = x_train.index[x_train.isnull().any(axis=1)].tolist() + y_train.index[y_train.isnull().any(axis=1)].tolist()\n",
        "# nan_indices_test = x_test.index[x_test.isnull().any(axis=1)].tolist() + y_test.index[y_test.isnull().any(axis=1)].tolist()\n",
        "\n",
        "## Drop rows containing NaN values\n",
        "# x_train = x_train.drop(x_train.index[nan_indices_train])\n",
        "# y_train = y_train.drop(y_train.index[nan_indices_train])\n",
        "# x_test = x_test.drop(x_test.index[nan_indices_test])\n",
        "# y_test = y_test.drop(y_test.index[nan_indices_test])\n",
        "\n"
      ],
      "metadata": {
        "id": "8sOJXEePLwc9"
      },
      "execution_count": 350,
      "outputs": []
    },
    {
      "cell_type": "code",
      "source": [
        "def load(test=False, cols=None, fname=data_filename):\n",
        "    \"\"\"Loads data from FTEST if *test* is True, otherwise from FTRAIN.\n",
        "    Pass a list of *cols* if you're only interested in a subset of the\n",
        "    target columns.\n",
        "    \"\"\"\n",
        "\n",
        "    with h5py.File(fname, 'r') as hdf_file:\n",
        "      if (fname == data_filename and test == False):\n",
        "        # Read DataFrames\n",
        "        X = pd.DataFrame(hdf_file['im_train'][:])\n",
        "        y = pd.DataFrame(hdf_file['d_train'][:])\n",
        "        y.columns = hdf_file['d_train'].attrs['column_names']\n",
        "      elif (fname == data_filename and test == True):\n",
        "        # Read DataFrames\n",
        "        X = pd.DataFrame(hdf_file['im_test'][:])\n",
        "        y = pd.DataFrame(hdf_file['d_test'][:])\n",
        "        y.columns = hdf_file['d_test'].attrs['column_names']\n",
        "      else:\n",
        "        # Read NumPy arrays\n",
        "        X = pd.DataFrame(np.array(hdf_file['submission_image'][:]))\n",
        "\n",
        "    if (cols and fname == data_filename):  # get a subset of columns\n",
        "        y = y[list(cols)]\n",
        "\n",
        "    X = np.vstack(X.values) / 255.  # scale pixel values to [0, 1]\n",
        "    X = X.astype(np.float32)\n",
        "\n",
        "    if fname == data_filename:  # only FTRAIN has any target columns\n",
        "        y = y.values\n",
        "        X, y = shuffle(X, y, random_state=42)  # shuffle train data\n",
        "        y = y.astype(np.float32)\n",
        "    else:\n",
        "        y = None\n",
        "\n",
        "    return X, y"
      ],
      "metadata": {
        "id": "PesN-UE7T-5V"
      },
      "execution_count": 351,
      "outputs": []
    },
    {
      "cell_type": "code",
      "source": [
        "def load2d(test=False, cols=None, fname=data_filename):\n",
        "    X, y = load(test=test,cols=cols,fname=fname)\n",
        "    X = X.reshape(-1, 96, 96, 1)\n",
        "    return X, y"
      ],
      "metadata": {
        "id": "NkqSAShVTwA0"
      },
      "execution_count": 352,
      "outputs": []
    },
    {
      "cell_type": "code",
      "source": [
        "x_train, y_train = load(test = False, fname = data_filename)\n",
        "x_test, y_test = load2d(test = True, fname = data_filename)\n",
        "\n",
        "# Find rows with NaN values\n",
        "nan_rows = np.isnan(y_test).any(axis=1)\n",
        "\n",
        "# Use boolean indexing to drop rows with NaN values\n",
        "x_test = x_test[~nan_rows]\n",
        "y_test = y_test[~nan_rows]"
      ],
      "metadata": {
        "id": "So4pMJWKX1DU"
      },
      "execution_count": 353,
      "outputs": []
    },
    {
      "cell_type": "markdown",
      "source": [
        "Model selection"
      ],
      "metadata": {
        "id": "R1tsO8Kk6Jh2"
      }
    },
    {
      "cell_type": "code",
      "source": [
        "model_type = 'Convolutions' # options: {'Single hidden layer','Convolutions'}\n",
        "df = pd.DataFrame({model_type}, columns=['Model type'])\n",
        "\n",
        "# Start recording time\n",
        "start = default_timer()"
      ],
      "metadata": {
        "id": "_BVmFiBg6LYp"
      },
      "execution_count": 354,
      "outputs": []
    },
    {
      "cell_type": "markdown",
      "source": [
        "Dynamic momentum and learning rate"
      ],
      "metadata": {
        "id": "9xYT_lLnhSoc"
      }
    },
    {
      "cell_type": "code",
      "source": [
        "class MomentumScheduler(Callback):\n",
        "    def __init__(self, schedule, decay_rate):\n",
        "        super(MomentumScheduler, self).__init__()\n",
        "        self.initial_schedule = schedule\n",
        "        self.decay_rate = decay_rate\n",
        "\n",
        "    def on_epoch_begin(self, epoch, logs=None):\n",
        "        if not hasattr(self.model.optimizer, 'beta_1'):\n",
        "            raise ValueError(\"Optimizer must have a 'beta_1' attribute.\")\n",
        "        momentum = self.initial_schedule + (self.decay_rate*epoch) / epochs\n",
        "        self.model.optimizer.beta_1 = momentum\n",
        "\n",
        "\n",
        "class LinearDecayLR(Callback):\n",
        "    def __init__(self, initial_lr, decay_rate):\n",
        "        super(LinearDecayLR, self).__init__()\n",
        "        self.initial_lr = initial_lr\n",
        "        self.decay_rate = decay_rate\n",
        "\n",
        "    def on_epoch_begin(self, epoch, logs=None):\n",
        "        new_lr = self.initial_lr - (self.decay_rate * epoch) / epochs\n",
        "        self.model.optimizer.lr = new_lr\n",
        "\n",
        "# Initialize for learning rate and momentum\n",
        "initial_momentum = 0.9 # TODO optimize\n",
        "momentum_decay_rate = 0.999 - initial_momentum\n",
        "\n",
        "initial_lr = 0.005 # TODO optimize\n",
        "lr_decay_rate = 99 / 100 * initial_lr\n",
        "\n",
        "# Create callbacks\n",
        "momentum_callback = MomentumScheduler(initial_momentum, momentum_decay_rate)\n",
        "lr_callback = LinearDecayLR(initial_lr, lr_decay_rate)\n"
      ],
      "metadata": {
        "id": "Xo-F3T7rhXoF"
      },
      "execution_count": 355,
      "outputs": []
    },
    {
      "cell_type": "markdown",
      "source": [
        "Convolutions model"
      ],
      "metadata": {
        "id": "X8JbIEyf6AOp"
      }
    },
    {
      "cell_type": "code",
      "source": [
        "# Prepare for specialist training\n",
        "SPECIALIST_SETTINGS = [\n",
        "    dict(\n",
        "        columns=(\n",
        "            'left_eye_center_x', 'left_eye_center_y',\n",
        "            'right_eye_center_x', 'right_eye_center_y',\n",
        "            ),\n",
        "        ),\n",
        "\n",
        "    dict(\n",
        "        columns=(\n",
        "            'nose_tip_x', 'nose_tip_y',\n",
        "            ),\n",
        "        ),\n",
        "\n",
        "    dict(\n",
        "        columns=(\n",
        "            'mouth_left_corner_x', 'mouth_left_corner_y',\n",
        "            'mouth_right_corner_x', 'mouth_right_corner_y',\n",
        "            'mouth_center_top_lip_x', 'mouth_center_top_lip_y',\n",
        "            ),\n",
        "        ),\n",
        "\n",
        "    dict(\n",
        "        columns=(\n",
        "            'mouth_center_bottom_lip_x',\n",
        "            'mouth_center_bottom_lip_y',\n",
        "            ),\n",
        "        ),\n",
        "\n",
        "    dict(\n",
        "        columns=(\n",
        "            'left_eye_inner_corner_x', 'left_eye_inner_corner_y',\n",
        "            'right_eye_inner_corner_x', 'right_eye_inner_corner_y',\n",
        "            'left_eye_outer_corner_x', 'left_eye_outer_corner_y',\n",
        "            'right_eye_outer_corner_x', 'right_eye_outer_corner_y',\n",
        "            ),\n",
        "        ),\n",
        "\n",
        "    dict(\n",
        "        columns=(\n",
        "            'left_eyebrow_inner_end_x', 'left_eyebrow_inner_end_y',\n",
        "            'right_eyebrow_inner_end_x', 'right_eyebrow_inner_end_y',\n",
        "            'left_eyebrow_outer_end_x', 'left_eyebrow_outer_end_y',\n",
        "            'right_eyebrow_outer_end_x', 'right_eyebrow_outer_end_y',\n",
        "            ),\n",
        "        ),\n",
        "    ]"
      ],
      "metadata": {
        "id": "D6GpxHMTIwMY"
      },
      "execution_count": 356,
      "outputs": []
    },
    {
      "cell_type": "code",
      "source": [
        "#############################\n",
        "#############################\n",
        "# Data augmentation\n",
        "# TODO Create a function f to prepare inputs for neural nets f(model_type,x) > x_new\n",
        "#############################\n",
        "#############################\n",
        "# Convolutional neural net with three convolutional layers and two fully connected layers\n",
        "keras.backend.clear_session()\n",
        "pixel_num = np.sqrt(x_train.shape[1]).astype(int)\n",
        "# Assuming you have defined the input shape of your images\n",
        "input_shape = (pixel_num, pixel_num, 1)\n",
        "\n",
        "# Load pre-trained VGG16 model without top layers, VGG is a color model so 3 channels\n",
        "# base_model = VGG16(weights='imagenet', include_top=False, input_shape=(pixel_num, pixel_num, 3))\n",
        "\n",
        "# Create the CNN model\n",
        "net = keras.Sequential()\n",
        "\n",
        "# Convert grayscale images to 3 channels by applying a Conv2D layer\n",
        "# net.add(Conv2D(3, (3, 3), padding='same'))\n",
        "\n",
        "# Add the modified VGG16 base model\n",
        "# net.add(base_model)\n",
        "# net.layers[0].trainable = False\n",
        "\n",
        "# Flatten the feature maps\n",
        "# net.add(Flatten())\n",
        "\n",
        "# Add 2 layers to reshape and connect the pre-trained model to my layers\n",
        "# net.add(Dense(pixel_num*pixel_num, activation='relu'))\n",
        "# net.add(Reshape(input_shape))\n",
        "\n",
        "# Convolutional Layer 1\n",
        "net.add(Conv2D(64, (3, 3), activation='relu', input_shape=input_shape))\n",
        "net.add(MaxPooling2D((2, 2)))\n",
        "net.add(Dropout(0.1))\n",
        "\n",
        "# Convolutional Layer 2\n",
        "net.add(Conv2D(64, (2, 2), activation='relu'))\n",
        "net.add(MaxPooling2D((2, 2)))\n",
        "net.add(Dropout(0.2))\n",
        "\n",
        "# Convolutional Layer 3\n",
        "net.add(Conv2D(128, (2, 2), activation='relu'))\n",
        "net.add(MaxPooling2D((2, 2)))\n",
        "net.add(Dropout(0.2))\n",
        "\n",
        "# Flatten the feature maps\n",
        "net.add(Flatten())\n",
        "\n",
        "# Fully Connected Layer 1\n",
        "net.add(Dense(500, activation='relu'))\n",
        "\n",
        "# Fully Connected Layer 2\n",
        "net.add(Dense(500, activation='relu'))\n",
        "\n",
        "## Compile the model\n",
        "# net.compile(optimizer=optimizer, loss='mse', metrics=['accuracy'])\n",
        "\n",
        "# stop early\n",
        "early_stopping = EarlyStopping(monitor='val_loss',patience=40, restore_best_weights=True)\n",
        "\n",
        "# Data augmentation\n",
        "# Create an instance of ImageDataGenerator with desired augmentation settings\n",
        "# data_generator = ImageDataGenerator(horizontal_flip = True, vertical_flip = True)\n",
        "\n",
        "# Create a generator for training data\n",
        "batch_size = 32\n",
        "# train_generator = data_generator.flow(x_train, y_train, batch_size=batch_size)"
      ],
      "metadata": {
        "id": "dx3WTFmO6F6V"
      },
      "execution_count": 357,
      "outputs": []
    },
    {
      "cell_type": "code",
      "source": [
        "print(net.summary())"
      ],
      "metadata": {
        "id": "CgjgnsPvyf9r",
        "outputId": "7a5bac2d-95b8-47c8-9ceb-61eb9842aca5",
        "colab": {
          "base_uri": "https://localhost:8080/"
        }
      },
      "execution_count": 358,
      "outputs": [
        {
          "output_type": "stream",
          "name": "stdout",
          "text": [
            "Model: \"sequential\"\n",
            "_________________________________________________________________\n",
            " Layer (type)                Output Shape              Param #   \n",
            "=================================================================\n",
            " conv2d (Conv2D)             (None, 94, 94, 64)        640       \n",
            "                                                                 \n",
            " max_pooling2d (MaxPooling2  (None, 47, 47, 64)        0         \n",
            " D)                                                              \n",
            "                                                                 \n",
            " dropout (Dropout)           (None, 47, 47, 64)        0         \n",
            "                                                                 \n",
            " conv2d_1 (Conv2D)           (None, 46, 46, 64)        16448     \n",
            "                                                                 \n",
            " max_pooling2d_1 (MaxPoolin  (None, 23, 23, 64)        0         \n",
            " g2D)                                                            \n",
            "                                                                 \n",
            " dropout_1 (Dropout)         (None, 23, 23, 64)        0         \n",
            "                                                                 \n",
            " conv2d_2 (Conv2D)           (None, 22, 22, 128)       32896     \n",
            "                                                                 \n",
            " max_pooling2d_2 (MaxPoolin  (None, 11, 11, 128)       0         \n",
            " g2D)                                                            \n",
            "                                                                 \n",
            " dropout_2 (Dropout)         (None, 11, 11, 128)       0         \n",
            "                                                                 \n",
            " flatten (Flatten)           (None, 15488)             0         \n",
            "                                                                 \n",
            " dense (Dense)               (None, 500)               7744500   \n",
            "                                                                 \n",
            " dense_1 (Dense)             (None, 500)               250500    \n",
            "                                                                 \n",
            "=================================================================\n",
            "Total params: 8044984 (30.69 MB)\n",
            "Trainable params: 8044984 (30.69 MB)\n",
            "Non-trainable params: 0 (0.00 Byte)\n",
            "_________________________________________________________________\n",
            "None\n"
          ]
        }
      ]
    },
    {
      "cell_type": "code",
      "source": [
        "specialists = OrderedDict()\n",
        "val_loss_values = []\n",
        "predictions_list = []\n",
        "\n",
        "def fit_specialists(fname_pretrain=None):\n",
        "\n",
        "  if fname_pretrain:\n",
        "        with open(fname_pretrain, 'rb') as f:\n",
        "            net_pretrain = pickle.load(f)\n",
        "  else:\n",
        "        net_pretrain = None\n",
        "\n",
        "  for setting in SPECIALIST_SETTINGS:\n",
        "    cols = setting['columns']\n",
        "    x_train_cleaned, y_train_cleaned = load2d(cols=cols)\n",
        "    x_test_cleaned, y_test_cleaned = load2d(test = True, cols = cols, fname = data_filename)\n",
        "\n",
        "    # Find rows with NaN values\n",
        "    nan_rows = np.isnan(y_train_cleaned).any(axis=1)\n",
        "\n",
        "    # Use boolean indexing to drop rows with NaN values\n",
        "    x_train_cleaned = x_train_cleaned[~nan_rows]\n",
        "    y_train_cleaned = y_train_cleaned[~nan_rows]\n",
        "\n",
        "    # Find rows with NaN values\n",
        "    nan_rows = np.isnan(y_test_cleaned).any(axis=1)\n",
        "\n",
        "    # Use boolean indexing to drop rows with NaN values\n",
        "    x_test_cleaned = x_test_cleaned[~nan_rows]\n",
        "    y_test_cleaned = y_test_cleaned[~nan_rows]\n",
        "\n",
        "    model = clone_model(net)\n",
        "    # Output Layer\n",
        "    model.add(Dense(y_train_cleaned.shape[1]))\n",
        "\n",
        "    if 'kwargs' in setting:\n",
        "        # an option 'kwargs' in the settings list may be used to\n",
        "        # set any other parameter of the net:\n",
        "        vars(model).update(setting['kwargs'])\n",
        "\n",
        "    # Create the Adam optimizer with the desired initial values\n",
        "    optimizer = Adam(learning_rate=initial_lr, beta_1 = initial_momentum)\n",
        "\n",
        "    # Compile the model and specify trainable variables\n",
        "    model.compile(optimizer=optimizer, loss='mse', metrics=['accuracy'])\n",
        "\n",
        "    print(\"Training model for columns {} for {} epochs\".format(\n",
        "        cols, epochs))\n",
        "\n",
        "    history = model.fit(x_train_cleaned,\n",
        "              y_train_cleaned,\n",
        "              batch_size = batch_size,\n",
        "              epochs = epochs,\n",
        "              callbacks = [early_stopping, lr_callback, momentum_callback],\n",
        "              validation_data=(x_test_cleaned, y_test_cleaned))\n",
        "    specialists[cols] = model\n",
        "\n",
        "    # Calculate and store the loss value for this specialist\n",
        "    val_loss = history.history['val_loss']\n",
        "    val_loss_values.append((cols, val_loss))\n",
        "\n",
        "    # Make predictions using this specialist on the cleaned test data\n",
        "    predictions = model.predict(x_test)\n",
        "    predictions_list.append(predictions)"
      ],
      "metadata": {
        "id": "yvx4lOe6bHQc"
      },
      "execution_count": 359,
      "outputs": []
    },
    {
      "cell_type": "markdown",
      "source": [
        "Analysis"
      ],
      "metadata": {
        "id": "PQLVo5JVw-5q"
      }
    },
    {
      "cell_type": "code",
      "source": [
        "fit_specialists()\n",
        "\n",
        "# Combine predictions from all specialists\n",
        "combined_predictions = np.hstack(predictions_list)\n",
        "\n",
        "# Calculate the loss value for the combined predictions\n",
        "combined_loss = mean_squared_error(y_test, combined_predictions)\n",
        "\n",
        "# Save the model to a file\n",
        "# model.save('/content/model.h5')\n",
        "\n",
        "# Duration\n",
        "duration = default_timer() - start\n",
        "print(duration)\n",
        "df['Duration'] = duration"
      ],
      "metadata": {
        "id": "GawC2VdexCmw",
        "outputId": "1d6faa0f-a1df-42be-9ff2-18a36068ebed",
        "colab": {
          "base_uri": "https://localhost:8080/"
        }
      },
      "execution_count": null,
      "outputs": [
        {
          "output_type": "stream",
          "name": "stdout",
          "text": [
            "Training model for columns ('left_eye_center_x', 'left_eye_center_y', 'right_eye_center_x', 'right_eye_center_y') for 500 epochs\n",
            "Epoch 1/500\n",
            "176/176 [==============================] - 77s 431ms/step - loss: 557.4460 - accuracy: 0.9740 - val_loss: 70.4688 - val_accuracy: 0.9950\n",
            "Epoch 2/500\n",
            "176/176 [==============================] - 74s 422ms/step - loss: 11.6629 - accuracy: 0.9957 - val_loss: 77.9202 - val_accuracy: 0.9950\n",
            "Epoch 3/500\n",
            "176/176 [==============================] - 76s 429ms/step - loss: 11.4896 - accuracy: 0.9957 - val_loss: 63.2363 - val_accuracy: 0.9950\n",
            "Epoch 4/500\n",
            "176/176 [==============================] - 75s 426ms/step - loss: 11.0605 - accuracy: 0.9957 - val_loss: 48.1917 - val_accuracy: 0.9950\n",
            "Epoch 5/500\n",
            "176/176 [==============================] - 76s 430ms/step - loss: 11.1167 - accuracy: 0.9957 - val_loss: 55.5141 - val_accuracy: 0.9950\n",
            "Epoch 6/500\n",
            "176/176 [==============================] - 76s 431ms/step - loss: 11.1333 - accuracy: 0.9957 - val_loss: 40.9652 - val_accuracy: 0.9950\n",
            "Epoch 7/500\n",
            "176/176 [==============================] - 75s 428ms/step - loss: 11.1174 - accuracy: 0.9957 - val_loss: 23.9110 - val_accuracy: 0.9950\n",
            "Epoch 8/500\n",
            "176/176 [==============================] - 75s 429ms/step - loss: 11.4339 - accuracy: 0.9957 - val_loss: 16.3983 - val_accuracy: 0.9950\n",
            "Epoch 9/500\n",
            "176/176 [==============================] - 76s 429ms/step - loss: 10.8949 - accuracy: 0.9957 - val_loss: 16.9779 - val_accuracy: 0.9950\n",
            "Epoch 10/500\n",
            "176/176 [==============================] - 75s 424ms/step - loss: 11.6073 - accuracy: 0.9957 - val_loss: 20.8886 - val_accuracy: 0.9950\n",
            "Epoch 11/500\n",
            "176/176 [==============================] - 74s 420ms/step - loss: 11.0980 - accuracy: 0.9957 - val_loss: 10.5275 - val_accuracy: 0.9950\n",
            "Epoch 12/500\n",
            "176/176 [==============================] - 76s 430ms/step - loss: 11.2493 - accuracy: 0.9957 - val_loss: 12.5975 - val_accuracy: 0.9950\n",
            "Epoch 13/500\n",
            "176/176 [==============================] - 75s 424ms/step - loss: 11.1552 - accuracy: 0.9957 - val_loss: 15.0152 - val_accuracy: 0.9950\n",
            "Epoch 14/500\n",
            "176/176 [==============================] - 75s 426ms/step - loss: 11.2788 - accuracy: 0.9957 - val_loss: 18.9715 - val_accuracy: 0.9950\n",
            "Epoch 15/500\n",
            "176/176 [==============================] - 76s 430ms/step - loss: 9.9391 - accuracy: 0.9957 - val_loss: 11.9907 - val_accuracy: 0.9950\n",
            "Epoch 16/500\n",
            "176/176 [==============================] - 76s 431ms/step - loss: 9.7704 - accuracy: 0.9957 - val_loss: 15.1097 - val_accuracy: 0.9950\n",
            "Epoch 17/500\n",
            "176/176 [==============================] - 74s 420ms/step - loss: 9.7387 - accuracy: 0.9957 - val_loss: 15.5680 - val_accuracy: 0.9950\n",
            "Epoch 18/500\n",
            "176/176 [==============================] - 76s 430ms/step - loss: 10.1869 - accuracy: 0.9957 - val_loss: 8.5991 - val_accuracy: 0.9950\n",
            "Epoch 19/500\n",
            "176/176 [==============================] - 74s 423ms/step - loss: 9.8288 - accuracy: 0.9957 - val_loss: 8.8544 - val_accuracy: 0.9950\n",
            "Epoch 20/500\n",
            "176/176 [==============================] - 74s 420ms/step - loss: 8.7656 - accuracy: 0.9957 - val_loss: 10.4420 - val_accuracy: 0.9950\n",
            "Epoch 21/500\n",
            "176/176 [==============================] - 74s 423ms/step - loss: 8.4142 - accuracy: 0.9957 - val_loss: 7.8824 - val_accuracy: 0.9950\n",
            "Epoch 22/500\n",
            "176/176 [==============================] - 75s 426ms/step - loss: 8.2003 - accuracy: 0.9957 - val_loss: 8.1744 - val_accuracy: 0.9950\n",
            "Epoch 23/500\n",
            "176/176 [==============================] - 74s 422ms/step - loss: 8.0543 - accuracy: 0.9957 - val_loss: 12.0226 - val_accuracy: 0.9950\n",
            "Epoch 24/500\n",
            "176/176 [==============================] - 75s 424ms/step - loss: 8.0733 - accuracy: 0.9957 - val_loss: 7.5766 - val_accuracy: 0.9950\n",
            "Epoch 25/500\n",
            "176/176 [==============================] - 75s 429ms/step - loss: 7.5629 - accuracy: 0.9957 - val_loss: 8.0339 - val_accuracy: 0.9950\n",
            "Epoch 26/500\n",
            "176/176 [==============================] - 74s 423ms/step - loss: 7.5555 - accuracy: 0.9957 - val_loss: 7.7518 - val_accuracy: 0.9950\n",
            "Epoch 27/500\n",
            "176/176 [==============================] - 75s 429ms/step - loss: 7.4808 - accuracy: 0.9957 - val_loss: 7.0813 - val_accuracy: 0.9950\n",
            "Epoch 28/500\n",
            "176/176 [==============================] - 76s 434ms/step - loss: 6.8142 - accuracy: 0.9957 - val_loss: 6.8467 - val_accuracy: 0.9950\n",
            "Epoch 29/500\n",
            "176/176 [==============================] - 76s 432ms/step - loss: 8.3455 - accuracy: 0.9957 - val_loss: 7.0298 - val_accuracy: 0.9950\n",
            "Epoch 30/500\n",
            "176/176 [==============================] - 77s 437ms/step - loss: 7.0678 - accuracy: 0.9957 - val_loss: 7.4243 - val_accuracy: 0.9950\n",
            "Epoch 31/500\n",
            "176/176 [==============================] - 75s 428ms/step - loss: 6.3512 - accuracy: 0.9956 - val_loss: 15.1492 - val_accuracy: 0.9950\n",
            "Epoch 32/500\n",
            "176/176 [==============================] - 75s 429ms/step - loss: 6.4501 - accuracy: 0.9957 - val_loss: 6.2609 - val_accuracy: 0.9950\n",
            "Epoch 33/500\n",
            "176/176 [==============================] - 76s 433ms/step - loss: 6.1536 - accuracy: 0.9959 - val_loss: 9.8693 - val_accuracy: 0.9950\n",
            "Epoch 34/500\n",
            "176/176 [==============================] - 77s 436ms/step - loss: 6.3646 - accuracy: 0.9959 - val_loss: 6.5117 - val_accuracy: 0.9950\n",
            "Epoch 35/500\n",
            "176/176 [==============================] - 76s 434ms/step - loss: 5.9735 - accuracy: 0.9964 - val_loss: 6.9604 - val_accuracy: 0.9950\n",
            "Epoch 36/500\n",
            "176/176 [==============================] - 75s 426ms/step - loss: 5.7149 - accuracy: 0.9959 - val_loss: 8.5270 - val_accuracy: 0.9957\n",
            "Epoch 37/500\n",
            "176/176 [==============================] - 75s 426ms/step - loss: 5.2102 - accuracy: 0.9957 - val_loss: 6.3775 - val_accuracy: 0.9950\n",
            "Epoch 38/500\n",
            "176/176 [==============================] - 75s 428ms/step - loss: 5.2380 - accuracy: 0.9966 - val_loss: 9.8647 - val_accuracy: 0.9950\n",
            "Epoch 39/500\n",
            "176/176 [==============================] - 76s 431ms/step - loss: 5.5524 - accuracy: 0.9961 - val_loss: 5.9158 - val_accuracy: 0.9957\n",
            "Epoch 40/500\n",
            "176/176 [==============================] - 76s 430ms/step - loss: 5.1668 - accuracy: 0.9968 - val_loss: 6.0656 - val_accuracy: 0.9950\n",
            "Epoch 41/500\n",
            "176/176 [==============================] - 76s 430ms/step - loss: 4.9727 - accuracy: 0.9961 - val_loss: 7.9854 - val_accuracy: 0.9957\n",
            "Epoch 42/500\n",
            "176/176 [==============================] - 76s 433ms/step - loss: 4.8086 - accuracy: 0.9966 - val_loss: 6.4823 - val_accuracy: 0.9950\n",
            "Epoch 43/500\n",
            "176/176 [==============================] - 76s 431ms/step - loss: 5.2595 - accuracy: 0.9966 - val_loss: 6.5062 - val_accuracy: 0.9957\n",
            "Epoch 44/500\n",
            "176/176 [==============================] - 76s 430ms/step - loss: 4.6227 - accuracy: 0.9966 - val_loss: 7.3437 - val_accuracy: 0.9950\n",
            "Epoch 45/500\n",
            "176/176 [==============================] - 76s 430ms/step - loss: 4.5301 - accuracy: 0.9966 - val_loss: 6.7923 - val_accuracy: 0.9957\n",
            "Epoch 46/500\n",
            "176/176 [==============================] - 76s 432ms/step - loss: 4.3908 - accuracy: 0.9970 - val_loss: 8.3460 - val_accuracy: 0.9950\n",
            "Epoch 47/500\n",
            "176/176 [==============================] - 76s 432ms/step - loss: 4.6532 - accuracy: 0.9961 - val_loss: 9.4012 - val_accuracy: 0.9950\n",
            "Epoch 48/500\n",
            "176/176 [==============================] - 76s 431ms/step - loss: 4.2709 - accuracy: 0.9973 - val_loss: 7.1216 - val_accuracy: 0.9950\n",
            "Epoch 49/500\n",
            "176/176 [==============================] - 75s 428ms/step - loss: 5.9873 - accuracy: 0.9963 - val_loss: 5.8333 - val_accuracy: 0.9957\n",
            "Epoch 50/500\n",
            "176/176 [==============================] - 75s 429ms/step - loss: 4.8663 - accuracy: 0.9970 - val_loss: 5.7556 - val_accuracy: 0.9950\n",
            "Epoch 51/500\n",
            "176/176 [==============================] - 75s 428ms/step - loss: 4.9289 - accuracy: 0.9957 - val_loss: 5.6315 - val_accuracy: 0.9950\n",
            "Epoch 52/500\n",
            "176/176 [==============================] - 75s 429ms/step - loss: 4.5825 - accuracy: 0.9966 - val_loss: 5.7803 - val_accuracy: 0.9950\n",
            "Epoch 53/500\n",
            "176/176 [==============================] - 75s 428ms/step - loss: 4.1497 - accuracy: 0.9977 - val_loss: 5.9541 - val_accuracy: 0.9950\n",
            "Epoch 54/500\n",
            "176/176 [==============================] - 75s 428ms/step - loss: 4.0181 - accuracy: 0.9957 - val_loss: 5.8872 - val_accuracy: 0.9950\n",
            "Epoch 55/500\n",
            "176/176 [==============================] - 76s 432ms/step - loss: 4.0559 - accuracy: 0.9966 - val_loss: 7.2528 - val_accuracy: 0.9964\n",
            "Epoch 56/500\n",
            "176/176 [==============================] - 76s 434ms/step - loss: 4.2372 - accuracy: 0.9964 - val_loss: 8.4671 - val_accuracy: 0.9950\n",
            "Epoch 57/500\n",
            "176/176 [==============================] - 75s 428ms/step - loss: 4.2633 - accuracy: 0.9972 - val_loss: 7.0097 - val_accuracy: 0.9979\n",
            "Epoch 58/500\n",
            "176/176 [==============================] - 77s 435ms/step - loss: 4.4289 - accuracy: 0.9968 - val_loss: 7.1846 - val_accuracy: 0.9957\n",
            "Epoch 59/500\n",
            "176/176 [==============================] - 75s 429ms/step - loss: 3.8435 - accuracy: 0.9970 - val_loss: 7.0182 - val_accuracy: 0.9957\n",
            "Epoch 60/500\n",
            "176/176 [==============================] - 75s 426ms/step - loss: 4.0445 - accuracy: 0.9975 - val_loss: 6.1384 - val_accuracy: 0.9950\n",
            "Epoch 61/500\n",
            "176/176 [==============================] - 77s 435ms/step - loss: 3.5973 - accuracy: 0.9975 - val_loss: 6.9656 - val_accuracy: 0.9957\n",
            "Epoch 62/500\n",
            "176/176 [==============================] - 76s 432ms/step - loss: 3.2538 - accuracy: 0.9968 - val_loss: 6.5737 - val_accuracy: 0.9950\n",
            "Epoch 63/500\n",
            "176/176 [==============================] - 75s 425ms/step - loss: 3.1674 - accuracy: 0.9975 - val_loss: 6.8956 - val_accuracy: 0.9964\n",
            "Epoch 64/500\n",
            "176/176 [==============================] - 76s 432ms/step - loss: 3.6498 - accuracy: 0.9972 - val_loss: 6.4342 - val_accuracy: 0.9957\n",
            "Epoch 65/500\n",
            "176/176 [==============================] - 75s 428ms/step - loss: 3.4552 - accuracy: 0.9966 - val_loss: 7.2728 - val_accuracy: 0.9957\n",
            "Epoch 66/500\n",
            "176/176 [==============================] - 76s 432ms/step - loss: 3.3797 - accuracy: 0.9973 - val_loss: 6.5770 - val_accuracy: 0.9957\n",
            "Epoch 67/500\n",
            "176/176 [==============================] - 75s 425ms/step - loss: 3.1659 - accuracy: 0.9970 - val_loss: 6.5540 - val_accuracy: 0.9957\n",
            "Epoch 68/500\n",
            "176/176 [==============================] - 77s 436ms/step - loss: 2.9876 - accuracy: 0.9973 - val_loss: 5.8526 - val_accuracy: 0.9957\n",
            "Epoch 69/500\n",
            "176/176 [==============================] - 76s 435ms/step - loss: 3.1879 - accuracy: 0.9977 - val_loss: 9.5944 - val_accuracy: 0.9979\n",
            "Epoch 70/500\n",
            "176/176 [==============================] - 75s 428ms/step - loss: 3.2330 - accuracy: 0.9973 - val_loss: 6.0140 - val_accuracy: 0.9950\n",
            "Epoch 71/500\n",
            "176/176 [==============================] - 75s 425ms/step - loss: 3.4645 - accuracy: 0.9979 - val_loss: 5.9743 - val_accuracy: 0.9950\n",
            "Epoch 72/500\n",
            "176/176 [==============================] - 75s 428ms/step - loss: 3.1190 - accuracy: 0.9968 - val_loss: 6.6171 - val_accuracy: 0.9957\n",
            "Epoch 73/500\n",
            "176/176 [==============================] - 76s 431ms/step - loss: 2.8932 - accuracy: 0.9973 - val_loss: 6.1507 - val_accuracy: 0.9957\n",
            "Epoch 74/500\n",
            "176/176 [==============================] - 76s 430ms/step - loss: 3.4153 - accuracy: 0.9970 - val_loss: 7.2708 - val_accuracy: 0.9957\n",
            "Epoch 75/500\n",
            "176/176 [==============================] - 75s 427ms/step - loss: 3.1767 - accuracy: 0.9968 - val_loss: 6.6946 - val_accuracy: 0.9950\n",
            "Epoch 76/500\n",
            "176/176 [==============================] - 75s 428ms/step - loss: 3.0119 - accuracy: 0.9972 - val_loss: 6.9758 - val_accuracy: 0.9950\n",
            "Epoch 77/500\n",
            "176/176 [==============================] - 76s 429ms/step - loss: 3.1090 - accuracy: 0.9964 - val_loss: 6.2600 - val_accuracy: 0.9950\n",
            "Epoch 78/500\n",
            "176/176 [==============================] - 76s 431ms/step - loss: 3.1254 - accuracy: 0.9973 - val_loss: 6.6656 - val_accuracy: 0.9950\n",
            "Epoch 79/500\n",
            "176/176 [==============================] - 75s 426ms/step - loss: 2.6580 - accuracy: 0.9973 - val_loss: 6.0661 - val_accuracy: 0.9950\n",
            "Epoch 80/500\n",
            "176/176 [==============================] - 76s 431ms/step - loss: 2.8027 - accuracy: 0.9964 - val_loss: 6.4922 - val_accuracy: 0.9957\n",
            "Epoch 81/500\n",
            "176/176 [==============================] - 76s 430ms/step - loss: 2.7044 - accuracy: 0.9970 - val_loss: 7.1453 - val_accuracy: 0.9964\n",
            "Epoch 82/500\n",
            "176/176 [==============================] - 75s 425ms/step - loss: 3.1272 - accuracy: 0.9966 - val_loss: 8.1590 - val_accuracy: 0.9964\n",
            "Epoch 83/500\n",
            "176/176 [==============================] - 75s 426ms/step - loss: 3.1430 - accuracy: 0.9964 - val_loss: 8.2053 - val_accuracy: 0.9957\n",
            "Epoch 84/500\n",
            "176/176 [==============================] - 76s 430ms/step - loss: 2.7248 - accuracy: 0.9966 - val_loss: 5.4836 - val_accuracy: 0.9950\n",
            "Epoch 85/500\n",
            "176/176 [==============================] - 75s 424ms/step - loss: 2.6947 - accuracy: 0.9968 - val_loss: 6.6948 - val_accuracy: 0.9957\n",
            "Epoch 86/500\n",
            "176/176 [==============================] - 77s 435ms/step - loss: 2.9526 - accuracy: 0.9975 - val_loss: 7.1389 - val_accuracy: 0.9950\n",
            "Epoch 87/500\n",
            "176/176 [==============================] - 75s 427ms/step - loss: 2.5089 - accuracy: 0.9984 - val_loss: 6.5011 - val_accuracy: 0.9950\n",
            "Epoch 88/500\n",
            "176/176 [==============================] - 75s 426ms/step - loss: 2.4682 - accuracy: 0.9972 - val_loss: 5.9215 - val_accuracy: 0.9950\n",
            "Epoch 89/500\n",
            "176/176 [==============================] - 75s 427ms/step - loss: 2.8590 - accuracy: 0.9973 - val_loss: 6.5974 - val_accuracy: 0.9950\n",
            "Epoch 90/500\n",
            "176/176 [==============================] - 76s 432ms/step - loss: 2.9648 - accuracy: 0.9973 - val_loss: 8.1689 - val_accuracy: 0.9957\n",
            "Epoch 91/500\n",
            "176/176 [==============================] - 76s 432ms/step - loss: 4.9734 - accuracy: 0.9959 - val_loss: 5.4384 - val_accuracy: 0.9950\n",
            "Epoch 92/500\n",
            "176/176 [==============================] - 75s 426ms/step - loss: 3.4043 - accuracy: 0.9972 - val_loss: 5.5242 - val_accuracy: 0.9950\n",
            "Epoch 93/500\n",
            "176/176 [==============================] - 77s 438ms/step - loss: 2.5588 - accuracy: 0.9970 - val_loss: 6.2777 - val_accuracy: 0.9950\n",
            "Epoch 94/500\n",
            "176/176 [==============================] - 76s 431ms/step - loss: 2.3603 - accuracy: 0.9975 - val_loss: 5.4521 - val_accuracy: 0.9950\n",
            "Epoch 95/500\n",
            "176/176 [==============================] - 76s 433ms/step - loss: 2.5460 - accuracy: 0.9980 - val_loss: 5.9958 - val_accuracy: 0.9950\n",
            "Epoch 96/500\n",
            "176/176 [==============================] - 76s 432ms/step - loss: 2.4729 - accuracy: 0.9979 - val_loss: 6.5044 - val_accuracy: 0.9950\n",
            "Epoch 97/500\n",
            "176/176 [==============================] - 75s 426ms/step - loss: 2.4046 - accuracy: 0.9977 - val_loss: 5.8207 - val_accuracy: 0.9950\n",
            "Epoch 98/500\n",
            "176/176 [==============================] - 76s 432ms/step - loss: 2.7573 - accuracy: 0.9977 - val_loss: 6.6839 - val_accuracy: 0.9950\n",
            "Epoch 99/500\n",
            "132/176 [=====================>........] - ETA: 17s - loss: 2.2218 - accuracy: 0.9986"
          ]
        }
      ]
    },
    {
      "cell_type": "code",
      "source": [],
      "metadata": {
        "id": "PWDGua5ITFlA"
      },
      "execution_count": null,
      "outputs": []
    },
    {
      "cell_type": "code",
      "source": [
        "plt.figure()\n",
        "i = 1\n",
        "for index, value in enumerate(val_loss_values):\n",
        "    plt.plot(range(1, epochs+1), value[1], label='Specialist ' + str(i))\n",
        "plt.yscale('log')\n",
        "plt.xlabel('Epochs')\n",
        "plt.ylabel('Loss')\n",
        "plt.title('Validation Loss')\n",
        "plt.legend()\n",
        "plt.show()"
      ],
      "metadata": {
        "id": "0nZz6v64qUDW"
      },
      "execution_count": null,
      "outputs": []
    },
    {
      "cell_type": "code",
      "source": [
        "# First, calculate the column means along axis 0 (columns)\n",
        "col_means = np.nanmean(y_test, axis=0)\n",
        "\n",
        "# Next, create the matrix 'p' using the calculated column means\n",
        "num_rows_d_test = y_test.shape[0]\n",
        "num_cols_d_train = y_train.shape[1]\n",
        "\n",
        "# Print RMSE\n",
        "print('RMSE : ')\n",
        "print(combined_loss)\n",
        "df['RMSE'] = combined_loss\n",
        "df.to_csv('/content/performance.csv',mode='a')"
      ],
      "metadata": {
        "id": "vA8P1bkO2yvj"
      },
      "execution_count": null,
      "outputs": []
    },
    {
      "cell_type": "code",
      "source": [
        "df_predictions = pd.DataFrame(combined_predictions)"
      ],
      "metadata": {
        "id": "O-4lCKuJDN5C"
      },
      "execution_count": null,
      "outputs": []
    },
    {
      "cell_type": "code",
      "source": [
        "# Plot the first 16 images in the DataFrame\n",
        "\n",
        "fig = plt.figure(figsize=(6, 6))\n",
        "fig.subplots_adjust(\n",
        "    left=0, right=1, bottom=0, top=1, hspace=0.05, wspace=0.05)\n",
        "\n",
        "for i in range(16):\n",
        "  if model_type == 'Single hidden layer':\n",
        "    image = np.array(x_test.iloc[i,:])  # Convert the Series to a NumPy array\n",
        "    image = image.reshape((96, 96))  # Reshape the array to the desired image dimensions\n",
        "  elif model_type == 'Convolutions':\n",
        "    image = x_test[i]\n",
        "    image = image.reshape((96, 96))\n",
        "  ax = fig.add_subplot(4, 4, i + 1, xticks=[], yticks=[])\n",
        "  predicted_keypoints = combined_predictions[i].reshape((15, 2))\n",
        "  plt.scatter(predicted_keypoints[:, 0], predicted_keypoints[:, 1], c='r', marker='o')\n",
        "  plt.imshow(image, cmap='gray')\n",
        "  plt.show()"
      ],
      "metadata": {
        "id": "SMdqZBecLIOi"
      },
      "execution_count": null,
      "outputs": []
    },
    {
      "cell_type": "code",
      "source": [
        "#TODO move below\n",
        "# from pandas.io.parsers.readers import read_csv\n",
        "# Extract data for output\n",
        "x_submission = load2d(fname = submission_filename)\n",
        "submission_predictions_list = []\n",
        "\n",
        "for setting in SPECIALIST_SETTINGS:\n",
        "    cols = setting['columns']\n",
        "    x_submission, _ = load2d(cols=cols,fname = submission_filename)\n",
        "\n",
        "    # Make predictions using this specialist on the cleaned test data\n",
        "    submission_predictions = specialists[cols].predict(x_submission)\n",
        "    submission_predictions_list.append(submission_predictions)\n",
        "\n",
        "# Make predictions\n",
        "predictions_submission = np.hstack(submission_predictions_list)\n",
        "\n",
        "# Remove predictions not requested in IdLookupTable.csv\n",
        "filename = '/content/IdLookupTable.csv'\n",
        "IdLookupTable = pd.read_csv(filename)\n",
        "# All keypoints names\n",
        "keypoints_names = IdLookupTable['FeatureName'].iloc[0:30]\n",
        "# Calculate the repeating sequence based on the number of rows in 'df'\n",
        "repeating_sequence = np.repeat(np.arange(1, 1783*30 // 30 + 1), 30)\n",
        "# Add the repeating sequence as a new column to the DataFrame\n",
        "keypoints_names_filter = pd.DataFrame({'ImageId': repeating_sequence})\n",
        "keypoints_names_filter['Indices'] = range(len(keypoints_names_filter))\n",
        "keypoints_names_filter['FeatureName'] = pd.concat([keypoints_names] * 1783, ignore_index=True)\n",
        "# Filter\n",
        "keypoints_names_filter = keypoints_names_filter.merge(IdLookupTable[['ImageId', 'FeatureName']], on=['ImageId', 'FeatureName'], how='inner')\n",
        "# Create a mask of size 1783x30 where True indicates the indices to keep\n",
        "nb_output_images = x_submission.shape[0]\n",
        "mask = np.isin(np.arange(nb_output_images*30), keypoints_names_filter['Indices'])\n",
        "# Reshape the mask to the same shape as 'np_array'\n",
        "mask = mask.reshape(predictions_submission.shape)\n",
        "# Use the mask to replace values in the NumPy array with NaN\n",
        "predictions_submission[~mask] = np.nan\n",
        "\n",
        "# Plot the first image in the DataFrame\n",
        "ii = -1\n",
        "if model_type == 'Single hidden layer':\n",
        "  image = np.array(x_submission.iloc[ii,:])\n",
        "  image = image.reshape((96, 96))  # Reshape the array to the desired image dimensions\n",
        "elif model_type == 'Convolutions':\n",
        "  image = x_submission[ii]\n",
        "  image = image.reshape((96, 96))\n",
        "predicted_keypoints = predictions_submission[ii].reshape((15, 2))\n",
        "plt.scatter(predicted_keypoints[:, 0], predicted_keypoints[:, 1], c='r', marker='o')\n",
        "plt.imshow(image, cmap='gray')\n",
        "plt.show()\n",
        "\n",
        "# Prepare for output file\n",
        "df_predictions = pd.DataFrame(predictions_submission)\n",
        "\n",
        "# Convert the DataFrame to a NumPy array and reshape it\n",
        "reshaped_values = df_predictions.values.reshape(-1, 1)\n",
        "\n",
        "# Remove NaN values from the NumPy array\n",
        "reshaped_values = reshaped_values[~np.isnan(reshaped_values)]\n",
        "\n",
        "# Create a new DataFrame with the reshaped values\n",
        "reshaped_df = pd.DataFrame(reshaped_values, columns=['Value'])\n",
        "indices = pd.DataFrame(range(1,len(reshaped_df)+1))\n",
        "submission = pd.concat([indices, reshaped_df], axis=1)\n",
        "submission.rename(columns={0: 'RowId','Value': 'Location'}, inplace=True)\n",
        "\n",
        "# Write to csv file\n",
        "submission.to_csv('/content/model_submission.csv',index=False)\n"
      ],
      "metadata": {
        "id": "pwYDph1YMxwk"
      },
      "execution_count": null,
      "outputs": []
    }
  ]
}