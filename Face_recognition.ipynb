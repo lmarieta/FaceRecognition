{
  "nbformat": 4,
  "nbformat_minor": 0,
  "metadata": {
    "colab": {
      "provenance": [],
      "gpuType": "T4",
      "authorship_tag": "ABX9TyPECdKxoNTHqvoqqz4mA9os",
      "include_colab_link": true
    },
    "kernelspec": {
      "name": "python3",
      "display_name": "Python 3"
    },
    "language_info": {
      "name": "python"
    },
    "accelerator": "GPU"
  },
  "cells": [
    {
      "cell_type": "markdown",
      "metadata": {
        "id": "view-in-github",
        "colab_type": "text"
      },
      "source": [
        "<a href=\"https://colab.research.google.com/github/lmarieta/FaceRecognition/blob/main/Face_recognition.ipynb\" target=\"_parent\"><img src=\"https://colab.research.google.com/assets/colab-badge.svg\" alt=\"Open In Colab\"/></a>"
      ]
    },
    {
      "cell_type": "markdown",
      "source": [
        "Before starting, upload data.h5, data_submission.h5, IdLookupTable.csv and model.h5 files. After training your model, you can download it. After saving the output file, you can also download it."
      ],
      "metadata": {
        "id": "lBQAn62asEWj"
      }
    },
    {
      "cell_type": "markdown",
      "source": [
        "Import Libraries\n"
      ],
      "metadata": {
        "id": "HCjTVDjLk_28"
      }
    },
    {
      "cell_type": "code",
      "execution_count": 341,
      "metadata": {
        "colab": {
          "base_uri": "https://localhost:8080/"
        },
        "id": "QsKs4kwPiiKV",
        "outputId": "b5859fc3-402d-4b00-edfc-ce2b851b052c"
      },
      "outputs": [
        {
          "output_type": "stream",
          "name": "stdout",
          "text": [
            "Requirement already satisfied: pyreadr in /usr/local/lib/python3.10/dist-packages (0.4.9)\n",
            "Requirement already satisfied: pandas>=1.2.0 in /usr/local/lib/python3.10/dist-packages (from pyreadr) (1.5.3)\n",
            "Requirement already satisfied: python-dateutil>=2.8.1 in /usr/local/lib/python3.10/dist-packages (from pandas>=1.2.0->pyreadr) (2.8.2)\n",
            "Requirement already satisfied: pytz>=2020.1 in /usr/local/lib/python3.10/dist-packages (from pandas>=1.2.0->pyreadr) (2023.3.post1)\n",
            "Requirement already satisfied: numpy>=1.21.0 in /usr/local/lib/python3.10/dist-packages (from pandas>=1.2.0->pyreadr) (1.23.5)\n",
            "Requirement already satisfied: six>=1.5 in /usr/local/lib/python3.10/dist-packages (from python-dateutil>=2.8.1->pandas>=1.2.0->pyreadr) (1.16.0)\n"
          ]
        }
      ],
      "source": [
        "import numpy as np\n",
        "from tensorflow import keras\n",
        "import tensorflow as tf\n",
        "from keras import layers\n",
        "import pandas as pd\n",
        "import h5py\n",
        "#from sklearn import train_test_split\n",
        "import matplotlib.pyplot as plt\n",
        "!pip install pyreadr\n",
        "import pyreadr\n",
        "from keras.optimizers import Adam\n",
        "from timeit import default_timer\n",
        "from keras.callbacks import EarlyStopping\n",
        "from keras.callbacks import Callback\n",
        "from keras.layers import Conv2D, MaxPooling2D, Flatten, Dense, Dropout, Reshape\n",
        "from keras.regularizers import l2\n",
        "from keras.preprocessing.image import ImageDataGenerator\n",
        "from collections import OrderedDict\n",
        "from tensorflow.keras.models import clone_model, load_model\n",
        "from sklearn.utils import shuffle\n",
        "from sklearn.metrics import mean_squared_error\n",
        "from tensorflow.keras import layers, models"
      ]
    },
    {
      "cell_type": "markdown",
      "source": [
        "Initialization"
      ],
      "metadata": {
        "id": "dCq6AyUthC9K"
      }
    },
    {
      "cell_type": "code",
      "source": [
        "epochs = 2\n",
        "pretraining = False"
      ],
      "metadata": {
        "id": "nzTL3YCHhF8q"
      },
      "execution_count": 342,
      "outputs": []
    },
    {
      "cell_type": "markdown",
      "source": [
        "Load data"
      ],
      "metadata": {
        "id": "9V6G9irLLxFi"
      }
    },
    {
      "cell_type": "code",
      "source": [
        "data_filename = '/content/data.h5'\n",
        "submission_filename = '/content/data_submission.h5'\n",
        "\n",
        "## Get the indices of rows containing NaN values. Note that train and test splits are random with a given seed.\n",
        "# nan_indices_train = x_train.index[x_train.isnull().any(axis=1)].tolist() + y_train.index[y_train.isnull().any(axis=1)].tolist()\n",
        "# nan_indices_test = x_test.index[x_test.isnull().any(axis=1)].tolist() + y_test.index[y_test.isnull().any(axis=1)].tolist()\n",
        "\n",
        "## Drop rows containing NaN values\n",
        "# x_train = x_train.drop(x_train.index[nan_indices_train])\n",
        "# y_train = y_train.drop(y_train.index[nan_indices_train])\n",
        "# x_test = x_test.drop(x_test.index[nan_indices_test])\n",
        "# y_test = y_test.drop(y_test.index[nan_indices_test])\n",
        "\n"
      ],
      "metadata": {
        "id": "8sOJXEePLwc9"
      },
      "execution_count": 343,
      "outputs": []
    },
    {
      "cell_type": "code",
      "source": [
        "def load(test=False, cols=None, fname=data_filename):\n",
        "    \"\"\"Loads data from FTEST if *test* is True, otherwise from FTRAIN.\n",
        "    Pass a list of *cols* if you're only interested in a subset of the\n",
        "    target columns.\n",
        "    \"\"\"\n",
        "\n",
        "    with h5py.File(fname, 'r') as hdf_file:\n",
        "      if (fname == data_filename and test == False):\n",
        "        # Read DataFrames\n",
        "        X = pd.DataFrame(hdf_file['im_train'][:])\n",
        "        y = pd.DataFrame(hdf_file['d_train'][:])\n",
        "        y.columns = hdf_file['d_train'].attrs['column_names']\n",
        "      elif (fname == data_filename and test == True):\n",
        "        # Read DataFrames\n",
        "        X = pd.DataFrame(hdf_file['im_test'][:])\n",
        "        y = pd.DataFrame(hdf_file['d_test'][:])\n",
        "        y.columns = hdf_file['d_test'].attrs['column_names']\n",
        "      else:\n",
        "        # Read NumPy arrays\n",
        "        X = pd.DataFrame(np.array(hdf_file['submission_image'][:]))\n",
        "\n",
        "    if (cols and fname == data_filename):  # get a subset of columns\n",
        "        y = y[list(cols)]\n",
        "\n",
        "    X = np.vstack(X.values) / 255.  # scale pixel values to [0, 1]\n",
        "    X = X.astype(np.float32)\n",
        "\n",
        "    if fname == data_filename:  # only FTRAIN has any target columns\n",
        "        y = y.values\n",
        "        X, y = shuffle(X, y, random_state=42)  # shuffle train data\n",
        "        y = y.astype(np.float32)\n",
        "    else:\n",
        "        y = None\n",
        "\n",
        "    return X, y"
      ],
      "metadata": {
        "id": "PesN-UE7T-5V"
      },
      "execution_count": 344,
      "outputs": []
    },
    {
      "cell_type": "code",
      "source": [
        "def load2d(test=False, cols=None, fname=data_filename):\n",
        "    X, y = load(test=test,cols=cols,fname=fname)\n",
        "    X = X.reshape(-1, 96, 96, 1)\n",
        "    return X, y"
      ],
      "metadata": {
        "id": "NkqSAShVTwA0"
      },
      "execution_count": 345,
      "outputs": []
    },
    {
      "cell_type": "code",
      "source": [
        "if pretraining == True:\n",
        "  x_train, y_train = load2d(test = False, fname = data_filename)\n",
        "else:\n",
        "  x_train, y_train = load(test = False, fname = data_filename)\n",
        "x_test, y_test = load2d(test = True, fname = data_filename)\n",
        "\n",
        "# Find rows with NaN values\n",
        "nan_rows = np.isnan(y_test).any(axis=1)\n",
        "\n",
        "# Use boolean indexing to drop rows with NaN values\n",
        "x_test = x_test[~nan_rows]\n",
        "y_test = y_test[~nan_rows]"
      ],
      "metadata": {
        "id": "So4pMJWKX1DU"
      },
      "execution_count": 346,
      "outputs": []
    },
    {
      "cell_type": "markdown",
      "source": [
        "Model selection"
      ],
      "metadata": {
        "id": "R1tsO8Kk6Jh2"
      }
    },
    {
      "cell_type": "code",
      "source": [
        "model_type = 'Convolutions' # options: {'Single hidden layer','Convolutions'}\n",
        "df = pd.DataFrame({model_type}, columns=['Model type'])\n",
        "\n",
        "# Start recording time\n",
        "start = default_timer()"
      ],
      "metadata": {
        "id": "_BVmFiBg6LYp"
      },
      "execution_count": 347,
      "outputs": []
    },
    {
      "cell_type": "markdown",
      "source": [
        "Dynamic momentum and learning rate"
      ],
      "metadata": {
        "id": "9xYT_lLnhSoc"
      }
    },
    {
      "cell_type": "code",
      "source": [
        "class MomentumScheduler(Callback):\n",
        "    def __init__(self, schedule, decay_rate):\n",
        "        super(MomentumScheduler, self).__init__()\n",
        "        self.initial_schedule = schedule\n",
        "        self.decay_rate = decay_rate\n",
        "\n",
        "    def on_epoch_begin(self, epoch, logs=None):\n",
        "        if not hasattr(self.model.optimizer, 'beta_1'):\n",
        "            raise ValueError(\"Optimizer must have a 'beta_1' attribute.\")\n",
        "        momentum = self.initial_schedule + (self.decay_rate*epoch) / epochs\n",
        "        self.model.optimizer.beta_1 = momentum\n",
        "\n",
        "\n",
        "class LinearDecayLR(Callback):\n",
        "    def __init__(self, initial_lr, decay_rate):\n",
        "        super(LinearDecayLR, self).__init__()\n",
        "        self.initial_lr = initial_lr\n",
        "        self.decay_rate = decay_rate\n",
        "\n",
        "    def on_epoch_begin(self, epoch, logs=None):\n",
        "        new_lr = self.initial_lr - (self.decay_rate * epoch) / epochs\n",
        "        self.model.optimizer.lr = new_lr\n",
        "\n",
        "# Initialize for learning rate and momentum\n",
        "initial_momentum = 0.9 # TODO optimize\n",
        "momentum_decay_rate = 0.999 - initial_momentum\n",
        "\n",
        "initial_lr = 0.002 # TODO optimize\n",
        "lr_decay_rate = 99 / 100 * initial_lr\n",
        "\n",
        "# Create callbacks\n",
        "momentum_callback = MomentumScheduler(initial_momentum, momentum_decay_rate)\n",
        "lr_callback = LinearDecayLR(initial_lr, lr_decay_rate)\n"
      ],
      "metadata": {
        "id": "Xo-F3T7rhXoF"
      },
      "execution_count": 348,
      "outputs": []
    },
    {
      "cell_type": "markdown",
      "source": [
        "Convolutions model"
      ],
      "metadata": {
        "id": "X8JbIEyf6AOp"
      }
    },
    {
      "cell_type": "code",
      "source": [
        "# Prepare for specialist training\n",
        "SPECIALIST_SETTINGS = [\n",
        "    dict(\n",
        "        columns=(\n",
        "            'left_eye_center_x', 'left_eye_center_y',\n",
        "            'right_eye_center_x', 'right_eye_center_y',\n",
        "            ),\n",
        "        ),\n",
        "\n",
        "    dict(\n",
        "        columns=(\n",
        "            'nose_tip_x', 'nose_tip_y',\n",
        "            ),\n",
        "        ),\n",
        "\n",
        "    dict(\n",
        "        columns=(\n",
        "            'mouth_left_corner_x', 'mouth_left_corner_y',\n",
        "            'mouth_right_corner_x', 'mouth_right_corner_y',\n",
        "            'mouth_center_top_lip_x', 'mouth_center_top_lip_y',\n",
        "            ),\n",
        "        ),\n",
        "\n",
        "    dict(\n",
        "        columns=(\n",
        "            'mouth_center_bottom_lip_x',\n",
        "            'mouth_center_bottom_lip_y',\n",
        "            ),\n",
        "        ),\n",
        "\n",
        "    dict(\n",
        "        columns=(\n",
        "            'left_eye_inner_corner_x', 'left_eye_inner_corner_y',\n",
        "            'right_eye_inner_corner_x', 'right_eye_inner_corner_y',\n",
        "            'left_eye_outer_corner_x', 'left_eye_outer_corner_y',\n",
        "            'right_eye_outer_corner_x', 'right_eye_outer_corner_y',\n",
        "            ),\n",
        "        ),\n",
        "\n",
        "    dict(\n",
        "        columns=(\n",
        "            'left_eyebrow_inner_end_x', 'left_eyebrow_inner_end_y',\n",
        "            'right_eyebrow_inner_end_x', 'right_eyebrow_inner_end_y',\n",
        "            'left_eyebrow_outer_end_x', 'left_eyebrow_outer_end_y',\n",
        "            'right_eyebrow_outer_end_x', 'right_eyebrow_outer_end_y',\n",
        "            ),\n",
        "        ),\n",
        "    ]"
      ],
      "metadata": {
        "id": "D6GpxHMTIwMY"
      },
      "execution_count": 349,
      "outputs": []
    },
    {
      "cell_type": "code",
      "source": [
        "if pretraining == True:\n",
        "  pixel_num = x_train.shape[1]\n",
        "\n",
        "  # Find rows with NaN values\n",
        "  nan_rows = np.isnan(y_train).any(axis=1)\n",
        "\n",
        "  # Use boolean indexing to drop rows with NaN values\n",
        "  x_train = x_train[~nan_rows]\n",
        "  y_train = y_train[~nan_rows]\n",
        "\n",
        "  # Assuming you have defined the input shape of your images\n",
        "  input_shape = (pixel_num, pixel_num, 1)\n",
        "\n",
        "  # Create the CNN model\n",
        "  net = keras.Sequential()\n",
        "\n",
        "  # Convolutional Layer 1\n",
        "  net.add(Conv2D(32, (3, 3), activation='relu', input_shape=input_shape))\n",
        "  net.add(MaxPooling2D((2, 2)))\n",
        "  net.add(Dropout(0.1))\n",
        "\n",
        "  # Convolutional Layer 2\n",
        "  net.add(Conv2D(64, (2, 2), activation='relu'))\n",
        "  net.add(MaxPooling2D((2, 2)))\n",
        "  net.add(Dropout(0.2))\n",
        "\n",
        "  # Flatten the feature maps\n",
        "  net.add(Flatten())\n",
        "\n",
        "  # Output Layer\n",
        "  net.add(Dense(y_train.shape[1]))\n",
        "\n",
        "  ## Compile the model\n",
        "  # net.compile(optimizer=optimizer, loss='mse', metrics=['accuracy'])\n",
        "\n",
        "  # stop early\n",
        "  early_stopping = EarlyStopping(monitor='val_loss',patience=40, restore_best_weights=True)\n",
        "\n",
        "  # Create the Adam optimizer with the desired initial values\n",
        "  optimizer = Adam(learning_rate=initial_lr, beta_1 = initial_momentum)\n",
        "\n",
        "  # Compile the model and specify trainable variables\n",
        "  net.compile(optimizer=optimizer, loss='mse', metrics=['accuracy'])\n",
        "\n",
        "  # Create a generator for training data\n",
        "  batch_size = 32\n",
        "\n",
        "  history = net.fit(x_train,\n",
        "                y_train,\n",
        "                batch_size = batch_size,\n",
        "                epochs = epochs,\n",
        "                callbacks = [early_stopping, lr_callback, momentum_callback],\n",
        "                validation_data=(x_test, y_test))\n",
        "\n",
        "  # Data augmentation\n",
        "  # Create an instance of ImageDataGenerator with desired augmentation settings\n",
        "  # data_generator = ImageDataGenerator(horizontal_flip = True, vertical_flip = True)\n"
      ],
      "metadata": {
        "id": "P-ttARWxVKli"
      },
      "execution_count": 350,
      "outputs": []
    },
    {
      "cell_type": "code",
      "source": [
        "#############################\n",
        "#############################\n",
        "# Data augmentation\n",
        "# TODO Create a function f to prepare inputs for neural nets f(model_type,x) > x_new\n",
        "#############################\n",
        "#############################\n",
        "if pretraining == False:\n",
        "  # Convolutional neural net with three convolutional layers and two fully connected layers\n",
        "  keras.backend.clear_session()\n",
        "  pixel_num = np.sqrt(x_train.shape[1]).astype(int)\n",
        "  # Assuming you have defined the input shape of your images\n",
        "  input_shape = (pixel_num, pixel_num, 1)\n",
        "\n",
        "  # Load pre-trained model\n",
        "  base_model = load_model('/content/model.h5')\n",
        "\n",
        "  # Create the CNN model\n",
        "  net = keras.Sequential()\n",
        "\n",
        "  # Add the modified base model\n",
        "  for i in range(0,6):\n",
        "    net.add(base_model.layers[i])\n",
        "    net.layers[i].trainable = False\n",
        "\n",
        "  # Flatten the feature maps\n",
        "  net.add(Flatten())\n",
        "\n",
        "  # Add 2 layers to reshape and connect the pre-trained model to my layers\n",
        "  net.add(Dense(pixel_num*pixel_num, activation='relu'))\n",
        "  net.add(Reshape(input_shape))\n",
        "\n",
        "  # # Convolutional Layer 1\n",
        "  net.add(Conv2D(64, (3, 3), activation='relu', input_shape=input_shape))\n",
        "  net.add(MaxPooling2D((2, 2)))\n",
        "  net.add(Dropout(0.1))\n",
        "\n",
        "  # Convolutional Layer 2\n",
        "  net.add(Conv2D(64, (2, 2), activation='relu'))\n",
        "  net.add(MaxPooling2D((2, 2)))\n",
        "  net.add(Dropout(0.2))\n",
        "\n",
        "  # Convolutional Layer 3\n",
        "  net.add(Conv2D(128, (2, 2), activation='relu'))\n",
        "  net.add(MaxPooling2D((2, 2)))\n",
        "  net.add(Dropout(0.2))\n",
        "\n",
        "  # Flatten the feature maps\n",
        "  net.add(Flatten())\n",
        "\n",
        "  # Fully Connected Layer 1\n",
        "  net.add(Dense(500, activation='relu'))\n",
        "\n",
        "  # Fully Connected Layer 2\n",
        "  net.add(Dense(500, activation='relu'))\n",
        "\n",
        "  ## Compile the model\n",
        "  # net.compile(optimizer=optimizer, loss='mse', metrics=['accuracy'])\n",
        "\n",
        "  # stop early\n",
        "  early_stopping = EarlyStopping(monitor='val_loss',patience=40, restore_best_weights=True)\n",
        "\n",
        "  # Data augmentation\n",
        "  # Create an instance of ImageDataGenerator with desired augmentation settings\n",
        "  # data_generator = ImageDataGenerator(horizontal_flip = True, vertical_flip = True)\n",
        "\n",
        "  # Create a generator for training data\n",
        "  batch_size = 32\n",
        "  # train_generator = data_generator.flow(x_train, y_train, batch_size=batch_size)"
      ],
      "metadata": {
        "id": "dx3WTFmO6F6V",
        "colab": {
          "base_uri": "https://localhost:8080/",
          "height": 460
        },
        "outputId": "393e7ad6-608b-4117-9754-32e5c908d91b"
      },
      "execution_count": 353,
      "outputs": [
        {
          "output_type": "error",
          "ename": "ResourceExhaustedError",
          "evalue": "ignored",
          "traceback": [
            "\u001b[0;31m---------------------------------------------------------------------------\u001b[0m",
            "\u001b[0;31mResourceExhaustedError\u001b[0m                    Traceback (most recent call last)",
            "\u001b[0;32m<ipython-input-353-081b25906ae6>\u001b[0m in \u001b[0;36m<cell line: 7>\u001b[0;34m()\u001b[0m\n\u001b[1;32m     27\u001b[0m \u001b[0;34m\u001b[0m\u001b[0m\n\u001b[1;32m     28\u001b[0m   \u001b[0;31m# Add 2 layers to reshape and connect the pre-trained model to my layers\u001b[0m\u001b[0;34m\u001b[0m\u001b[0;34m\u001b[0m\u001b[0m\n\u001b[0;32m---> 29\u001b[0;31m   \u001b[0mnet\u001b[0m\u001b[0;34m.\u001b[0m\u001b[0madd\u001b[0m\u001b[0;34m(\u001b[0m\u001b[0mDense\u001b[0m\u001b[0;34m(\u001b[0m\u001b[0mpixel_num\u001b[0m\u001b[0;34m*\u001b[0m\u001b[0mpixel_num\u001b[0m\u001b[0;34m,\u001b[0m \u001b[0mactivation\u001b[0m\u001b[0;34m=\u001b[0m\u001b[0;34m'relu'\u001b[0m\u001b[0;34m)\u001b[0m\u001b[0;34m)\u001b[0m\u001b[0;34m\u001b[0m\u001b[0;34m\u001b[0m\u001b[0m\n\u001b[0m\u001b[1;32m     30\u001b[0m   \u001b[0mnet\u001b[0m\u001b[0;34m.\u001b[0m\u001b[0madd\u001b[0m\u001b[0;34m(\u001b[0m\u001b[0mReshape\u001b[0m\u001b[0;34m(\u001b[0m\u001b[0minput_shape\u001b[0m\u001b[0;34m)\u001b[0m\u001b[0;34m)\u001b[0m\u001b[0;34m\u001b[0m\u001b[0;34m\u001b[0m\u001b[0m\n\u001b[1;32m     31\u001b[0m \u001b[0;34m\u001b[0m\u001b[0m\n",
            "\u001b[0;32m/usr/local/lib/python3.10/dist-packages/tensorflow/python/trackable/base.py\u001b[0m in \u001b[0;36m_method_wrapper\u001b[0;34m(self, *args, **kwargs)\u001b[0m\n\u001b[1;32m    202\u001b[0m     \u001b[0mself\u001b[0m\u001b[0;34m.\u001b[0m\u001b[0m_self_setattr_tracking\u001b[0m \u001b[0;34m=\u001b[0m \u001b[0;32mFalse\u001b[0m  \u001b[0;31m# pylint: disable=protected-access\u001b[0m\u001b[0;34m\u001b[0m\u001b[0;34m\u001b[0m\u001b[0m\n\u001b[1;32m    203\u001b[0m     \u001b[0;32mtry\u001b[0m\u001b[0;34m:\u001b[0m\u001b[0;34m\u001b[0m\u001b[0;34m\u001b[0m\u001b[0m\n\u001b[0;32m--> 204\u001b[0;31m       \u001b[0mresult\u001b[0m \u001b[0;34m=\u001b[0m \u001b[0mmethod\u001b[0m\u001b[0;34m(\u001b[0m\u001b[0mself\u001b[0m\u001b[0;34m,\u001b[0m \u001b[0;34m*\u001b[0m\u001b[0margs\u001b[0m\u001b[0;34m,\u001b[0m \u001b[0;34m**\u001b[0m\u001b[0mkwargs\u001b[0m\u001b[0;34m)\u001b[0m\u001b[0;34m\u001b[0m\u001b[0;34m\u001b[0m\u001b[0m\n\u001b[0m\u001b[1;32m    205\u001b[0m     \u001b[0;32mfinally\u001b[0m\u001b[0;34m:\u001b[0m\u001b[0;34m\u001b[0m\u001b[0;34m\u001b[0m\u001b[0m\n\u001b[1;32m    206\u001b[0m       \u001b[0mself\u001b[0m\u001b[0;34m.\u001b[0m\u001b[0m_self_setattr_tracking\u001b[0m \u001b[0;34m=\u001b[0m \u001b[0mprevious_value\u001b[0m  \u001b[0;31m# pylint: disable=protected-access\u001b[0m\u001b[0;34m\u001b[0m\u001b[0;34m\u001b[0m\u001b[0m\n",
            "\u001b[0;32m/usr/local/lib/python3.10/dist-packages/keras/src/utils/traceback_utils.py\u001b[0m in \u001b[0;36merror_handler\u001b[0;34m(*args, **kwargs)\u001b[0m\n\u001b[1;32m     68\u001b[0m             \u001b[0;31m# To get the full stack trace, call:\u001b[0m\u001b[0;34m\u001b[0m\u001b[0;34m\u001b[0m\u001b[0m\n\u001b[1;32m     69\u001b[0m             \u001b[0;31m# `tf.debugging.disable_traceback_filtering()`\u001b[0m\u001b[0;34m\u001b[0m\u001b[0;34m\u001b[0m\u001b[0m\n\u001b[0;32m---> 70\u001b[0;31m             \u001b[0;32mraise\u001b[0m \u001b[0me\u001b[0m\u001b[0;34m.\u001b[0m\u001b[0mwith_traceback\u001b[0m\u001b[0;34m(\u001b[0m\u001b[0mfiltered_tb\u001b[0m\u001b[0;34m)\u001b[0m \u001b[0;32mfrom\u001b[0m \u001b[0;32mNone\u001b[0m\u001b[0;34m\u001b[0m\u001b[0;34m\u001b[0m\u001b[0m\n\u001b[0m\u001b[1;32m     71\u001b[0m         \u001b[0;32mfinally\u001b[0m\u001b[0;34m:\u001b[0m\u001b[0;34m\u001b[0m\u001b[0;34m\u001b[0m\u001b[0m\n\u001b[1;32m     72\u001b[0m             \u001b[0;32mdel\u001b[0m \u001b[0mfiltered_tb\u001b[0m\u001b[0;34m\u001b[0m\u001b[0;34m\u001b[0m\u001b[0m\n",
            "\u001b[0;32m/usr/local/lib/python3.10/dist-packages/keras/src/backend.py\u001b[0m in \u001b[0;36mrandom_uniform\u001b[0;34m(self, shape, minval, maxval, dtype, nonce)\u001b[0m\n\u001b[1;32m   2100\u001b[0m             \u001b[0;32mif\u001b[0m \u001b[0mnonce\u001b[0m\u001b[0;34m:\u001b[0m\u001b[0;34m\u001b[0m\u001b[0;34m\u001b[0m\u001b[0m\n\u001b[1;32m   2101\u001b[0m                 \u001b[0mseed\u001b[0m \u001b[0;34m=\u001b[0m \u001b[0mtf\u001b[0m\u001b[0;34m.\u001b[0m\u001b[0mrandom\u001b[0m\u001b[0;34m.\u001b[0m\u001b[0mexperimental\u001b[0m\u001b[0;34m.\u001b[0m\u001b[0mstateless_fold_in\u001b[0m\u001b[0;34m(\u001b[0m\u001b[0mseed\u001b[0m\u001b[0;34m,\u001b[0m \u001b[0mnonce\u001b[0m\u001b[0;34m)\u001b[0m\u001b[0;34m\u001b[0m\u001b[0;34m\u001b[0m\u001b[0m\n\u001b[0;32m-> 2102\u001b[0;31m             return tf.random.stateless_uniform(\n\u001b[0m\u001b[1;32m   2103\u001b[0m                 \u001b[0mshape\u001b[0m\u001b[0;34m=\u001b[0m\u001b[0mshape\u001b[0m\u001b[0;34m,\u001b[0m\u001b[0;34m\u001b[0m\u001b[0;34m\u001b[0m\u001b[0m\n\u001b[1;32m   2104\u001b[0m                 \u001b[0mminval\u001b[0m\u001b[0;34m=\u001b[0m\u001b[0mminval\u001b[0m\u001b[0;34m,\u001b[0m\u001b[0;34m\u001b[0m\u001b[0;34m\u001b[0m\u001b[0m\n",
            "\u001b[0;31mResourceExhaustedError\u001b[0m: {{function_node __wrapped__StatelessRandomUniformV2_device_/job:localhost/replica:0/task:0/device:GPU:0}} OOM when allocating tensor with shape[33856,9216] and type float on /job:localhost/replica:0/task:0/device:GPU:0 by allocator GPU_0_bfc [Op:StatelessRandomUniformV2] name: "
          ]
        }
      ]
    },
    {
      "cell_type": "code",
      "source": [
        "specialists = OrderedDict()\n",
        "val_loss_values = []\n",
        "predictions_list = []\n",
        "\n",
        "def fit_specialists(fname_pretrain=None):\n",
        "\n",
        "  for setting in SPECIALIST_SETTINGS:\n",
        "    cols = setting['columns']\n",
        "    x_train_cleaned, y_train_cleaned = load2d(cols=cols)\n",
        "    x_test_cleaned, y_test_cleaned = load2d(test = True, cols = cols, fname = data_filename)\n",
        "\n",
        "    # Find rows with NaN values\n",
        "    nan_rows = np.isnan(y_train_cleaned).any(axis=1)\n",
        "\n",
        "    # Use boolean indexing to drop rows with NaN values\n",
        "    x_train_cleaned = x_train_cleaned[~nan_rows]\n",
        "    y_train_cleaned = y_train_cleaned[~nan_rows]\n",
        "\n",
        "    # Find rows with NaN values\n",
        "    nan_rows = np.isnan(y_test_cleaned).any(axis=1)\n",
        "\n",
        "    # Use boolean indexing to drop rows with NaN values\n",
        "    x_test_cleaned = x_test_cleaned[~nan_rows]\n",
        "    y_test_cleaned = y_test_cleaned[~nan_rows]\n",
        "\n",
        "    model = clone_model(net)\n",
        "    # Output Layer\n",
        "    model.add(Dense(y_train_cleaned.shape[1]))\n",
        "\n",
        "    if 'kwargs' in setting:\n",
        "        # an option 'kwargs' in the settings list may be used to\n",
        "        # set any other parameter of the net:\n",
        "        vars(model).update(setting['kwargs'])\n",
        "\n",
        "    # Create the Adam optimizer with the desired initial values\n",
        "    optimizer = Adam(learning_rate=initial_lr, beta_1 = initial_momentum)\n",
        "\n",
        "    # Compile the model and specify trainable variables\n",
        "    model.compile(optimizer=optimizer, loss='mse', metrics=['accuracy'])\n",
        "\n",
        "    print(\"Training model for columns {} for {} epochs\".format(\n",
        "        cols, epochs))\n",
        "\n",
        "    history = model.fit(x_train_cleaned,\n",
        "              y_train_cleaned,\n",
        "              batch_size = batch_size,\n",
        "              epochs = epochs,\n",
        "              callbacks = [early_stopping, lr_callback, momentum_callback],\n",
        "              validation_data=(x_test_cleaned, y_test_cleaned))\n",
        "    specialists[cols] = model\n",
        "\n",
        "    # Calculate and store the loss value for this specialist\n",
        "    val_loss = history.history['val_loss']\n",
        "    val_loss_values.append((cols, val_loss))\n",
        "\n",
        "    # Make predictions using this specialist on the cleaned test data\n",
        "    predictions = model.predict(x_test)\n",
        "    predictions_list.append(predictions)"
      ],
      "metadata": {
        "id": "yvx4lOe6bHQc"
      },
      "execution_count": null,
      "outputs": []
    },
    {
      "cell_type": "markdown",
      "source": [
        "Analysis"
      ],
      "metadata": {
        "id": "PQLVo5JVw-5q"
      }
    },
    {
      "cell_type": "code",
      "source": [
        "if pretraining == False:\n",
        "  fit_specialists()\n",
        "\n",
        "  # Combine predictions from all specialists\n",
        "  combined_predictions = np.hstack(predictions_list)\n",
        "else:\n",
        "  combined_predictions = net.predict(x_test)\n",
        "  # Save the model to a file\n",
        "  net.save('/content/model.h5')\n",
        "\n",
        "# Calculate the loss value for the combined predictions\n",
        "combined_loss = mean_squared_error(y_test, combined_predictions)\n",
        "\n",
        "# Duration\n",
        "duration = default_timer() - start\n",
        "print(duration)\n",
        "df['Duration'] = duration"
      ],
      "metadata": {
        "id": "GawC2VdexCmw"
      },
      "execution_count": null,
      "outputs": []
    },
    {
      "cell_type": "code",
      "source": [],
      "metadata": {
        "id": "PWDGua5ITFlA"
      },
      "execution_count": null,
      "outputs": []
    },
    {
      "cell_type": "code",
      "source": [
        "plt.figure()\n",
        "i = 1\n",
        "for index, value in enumerate(val_loss_values):\n",
        "    plt.plot(range(1, epochs+1), value[1], label='Specialist ' + str(i))\n",
        "    i+=1\n",
        "plt.yscale('log')\n",
        "plt.xlabel('Epochs')\n",
        "plt.ylabel('Loss')\n",
        "plt.title('Validation Loss')\n",
        "plt.legend()\n",
        "plt.show()"
      ],
      "metadata": {
        "id": "0nZz6v64qUDW"
      },
      "execution_count": null,
      "outputs": []
    },
    {
      "cell_type": "code",
      "source": [
        "# First, calculate the column means along axis 0 (columns)\n",
        "col_means = np.nanmean(y_test, axis=0)\n",
        "\n",
        "# Next, create the matrix 'p' using the calculated column means\n",
        "num_rows_d_test = y_test.shape[0]\n",
        "num_cols_d_train = y_train.shape[1]\n",
        "\n",
        "# Print RMSE\n",
        "print('RMSE : ')\n",
        "print(combined_loss)\n",
        "df['RMSE'] = combined_loss\n",
        "df.to_csv('/content/performance.csv',mode='a')"
      ],
      "metadata": {
        "id": "vA8P1bkO2yvj"
      },
      "execution_count": null,
      "outputs": []
    },
    {
      "cell_type": "code",
      "source": [
        "df_predictions = pd.DataFrame(combined_predictions)"
      ],
      "metadata": {
        "id": "O-4lCKuJDN5C"
      },
      "execution_count": null,
      "outputs": []
    },
    {
      "cell_type": "code",
      "source": [
        "# Plot the first 16 images in the DataFrame\n",
        "\n",
        "fig = plt.figure(figsize=(6, 6))\n",
        "fig.subplots_adjust(\n",
        "    left=0, right=1, bottom=0, top=1, hspace=0.05, wspace=0.05)\n",
        "\n",
        "for i in range(16):\n",
        "  if model_type == 'Single hidden layer':\n",
        "    image = np.array(x_test.iloc[i,:])  # Convert the Series to a NumPy array\n",
        "    image = image.reshape((96, 96))  # Reshape the array to the desired image dimensions\n",
        "  elif model_type == 'Convolutions':\n",
        "    image = x_test[i]\n",
        "    image = image.reshape((96, 96))\n",
        "  ax = fig.add_subplot(4, 4, i + 1, xticks=[], yticks=[])\n",
        "  predicted_keypoints = combined_predictions[i].reshape((15, 2))\n",
        "  plt.scatter(predicted_keypoints[:, 0], predicted_keypoints[:, 1], c='r', marker='o')\n",
        "  plt.imshow(image, cmap='gray')\n",
        "  plt.show()"
      ],
      "metadata": {
        "id": "SMdqZBecLIOi"
      },
      "execution_count": null,
      "outputs": []
    },
    {
      "cell_type": "code",
      "source": [
        "#TODO move below\n",
        "# from pandas.io.parsers.readers import read_csv\n",
        "# Extract data for output\n",
        "x_submission = load2d(fname = submission_filename)\n",
        "submission_predictions_list = []\n",
        "\n",
        "for setting in SPECIALIST_SETTINGS:\n",
        "    cols = setting['columns']\n",
        "    x_submission, _ = load2d(cols=cols,fname = submission_filename)\n",
        "\n",
        "    # Make predictions using this specialist on the cleaned test data\n",
        "    submission_predictions = specialists[cols].predict(x_submission)\n",
        "    submission_predictions_list.append(submission_predictions)\n",
        "\n",
        "# Make predictions\n",
        "predictions_submission = np.hstack(submission_predictions_list)\n",
        "\n",
        "# Remove predictions not requested in IdLookupTable.csv\n",
        "filename = '/content/IdLookupTable.csv'\n",
        "IdLookupTable = pd.read_csv(filename)\n",
        "# All keypoints names\n",
        "keypoints_names = IdLookupTable['FeatureName'].iloc[0:30]\n",
        "# Calculate the repeating sequence based on the number of rows in 'df'\n",
        "repeating_sequence = np.repeat(np.arange(1, 1783*30 // 30 + 1), 30)\n",
        "# Add the repeating sequence as a new column to the DataFrame\n",
        "keypoints_names_filter = pd.DataFrame({'ImageId': repeating_sequence})\n",
        "keypoints_names_filter['Indices'] = range(len(keypoints_names_filter))\n",
        "keypoints_names_filter['FeatureName'] = pd.concat([keypoints_names] * 1783, ignore_index=True)\n",
        "# Filter\n",
        "keypoints_names_filter = keypoints_names_filter.merge(IdLookupTable[['ImageId', 'FeatureName']], on=['ImageId', 'FeatureName'], how='inner')\n",
        "# Create a mask of size 1783x30 where True indicates the indices to keep\n",
        "nb_output_images = x_submission.shape[0]\n",
        "mask = np.isin(np.arange(nb_output_images*30), keypoints_names_filter['Indices'])\n",
        "# Reshape the mask to the same shape as 'np_array'\n",
        "mask = mask.reshape(predictions_submission.shape)\n",
        "# Use the mask to replace values in the NumPy array with NaN\n",
        "predictions_submission[~mask] = np.nan\n",
        "\n",
        "# Plot the first image in the DataFrame\n",
        "ii = -1\n",
        "if model_type == 'Single hidden layer':\n",
        "  image = np.array(x_submission.iloc[ii,:])\n",
        "  image = image.reshape((96, 96))  # Reshape the array to the desired image dimensions\n",
        "elif model_type == 'Convolutions':\n",
        "  image = x_submission[ii]\n",
        "  image = image.reshape((96, 96))\n",
        "predicted_keypoints = predictions_submission[ii].reshape((15, 2))\n",
        "plt.scatter(predicted_keypoints[:, 0], predicted_keypoints[:, 1], c='r', marker='o')\n",
        "plt.imshow(image, cmap='gray')\n",
        "plt.show()\n",
        "\n",
        "# Prepare for output file\n",
        "df_predictions = pd.DataFrame(predictions_submission)\n",
        "\n",
        "# Convert the DataFrame to a NumPy array and reshape it\n",
        "reshaped_values = df_predictions.values.reshape(-1, 1)\n",
        "\n",
        "# Remove NaN values from the NumPy array\n",
        "reshaped_values = reshaped_values[~np.isnan(reshaped_values)]\n",
        "\n",
        "# Create a new DataFrame with the reshaped values\n",
        "reshaped_df = pd.DataFrame(reshaped_values, columns=['Value'])\n",
        "indices = pd.DataFrame(range(1,len(reshaped_df)+1))\n",
        "submission = pd.concat([indices, reshaped_df], axis=1)\n",
        "submission.rename(columns={0: 'RowId','Value': 'Location'}, inplace=True)\n",
        "\n",
        "# Write to csv file\n",
        "submission.to_csv('/content/model_submission.csv',index=False)\n"
      ],
      "metadata": {
        "id": "pwYDph1YMxwk"
      },
      "execution_count": null,
      "outputs": []
    }
  ]
}