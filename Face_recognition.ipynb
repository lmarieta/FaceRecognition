{
  "nbformat": 4,
  "nbformat_minor": 0,
  "metadata": {
    "colab": {
      "provenance": [],
      "authorship_tag": "ABX9TyP9IwCk/Cx78y5/LUeHzUI2",
      "include_colab_link": true
    },
    "kernelspec": {
      "name": "python3",
      "display_name": "Python 3"
    },
    "language_info": {
      "name": "python"
    }
  },
  "cells": [
    {
      "cell_type": "markdown",
      "metadata": {
        "id": "view-in-github",
        "colab_type": "text"
      },
      "source": [
        "<a href=\"https://colab.research.google.com/github/lmarieta/FaceRecognition/blob/main/Face_recognition.ipynb\" target=\"_parent\"><img src=\"https://colab.research.google.com/assets/colab-badge.svg\" alt=\"Open In Colab\"/></a>"
      ]
    },
    {
      "cell_type": "markdown",
      "source": [
        "Before starting, upload data.RData, data_submission.RData, IdLookupTable.csv files. After training your model, you can download it. After saving the output file, you can also download it."
      ],
      "metadata": {
        "id": "lBQAn62asEWj"
      }
    },
    {
      "cell_type": "markdown",
      "source": [
        "Import Libraries\n"
      ],
      "metadata": {
        "id": "HCjTVDjLk_28"
      }
    },
    {
      "cell_type": "code",
      "execution_count": 76,
      "metadata": {
        "colab": {
          "base_uri": "https://localhost:8080/"
        },
        "id": "QsKs4kwPiiKV",
        "outputId": "3831d3fe-dc74-4c06-f6f2-3b23f48b87ed"
      },
      "outputs": [
        {
          "output_type": "stream",
          "name": "stdout",
          "text": [
            "Requirement already satisfied: pyreadr in /usr/local/lib/python3.10/dist-packages (0.4.9)\n",
            "Requirement already satisfied: pandas>=1.2.0 in /usr/local/lib/python3.10/dist-packages (from pyreadr) (1.5.3)\n",
            "Requirement already satisfied: python-dateutil>=2.8.1 in /usr/local/lib/python3.10/dist-packages (from pandas>=1.2.0->pyreadr) (2.8.2)\n",
            "Requirement already satisfied: pytz>=2020.1 in /usr/local/lib/python3.10/dist-packages (from pandas>=1.2.0->pyreadr) (2023.3.post1)\n",
            "Requirement already satisfied: numpy>=1.21.0 in /usr/local/lib/python3.10/dist-packages (from pandas>=1.2.0->pyreadr) (1.23.5)\n",
            "Requirement already satisfied: six>=1.5 in /usr/local/lib/python3.10/dist-packages (from python-dateutil>=2.8.1->pandas>=1.2.0->pyreadr) (1.16.0)\n"
          ]
        }
      ],
      "source": [
        "import numpy as np\n",
        "from tensorflow import keras\n",
        "from keras import layers\n",
        "import pandas as pd\n",
        "import h5py\n",
        "#from sklearn import train_test_split\n",
        "import matplotlib.pyplot as plt\n",
        "!pip install pyreadr\n",
        "import pyreadr\n",
        "from keras.optimizers import Adam\n",
        "from timeit import default_timer\n",
        "from keras.callbacks import EarlyStopping\n",
        "from keras.callbacks import Callback\n",
        "from keras.layers import Conv2D, MaxPooling2D, Flatten, Dense, Dropout\n",
        "from keras.regularizers import l2\n",
        "from keras.preprocessing.image import ImageDataGenerator\n",
        "from collections import OrderedDict\n",
        "from tensorflow.keras.models import clone_model\n",
        "from sklearn.utils import shuffle\n",
        "from sklearn.metrics import mean_squared_error"
      ]
    },
    {
      "cell_type": "markdown",
      "source": [
        "Initialization"
      ],
      "metadata": {
        "id": "dCq6AyUthC9K"
      }
    },
    {
      "cell_type": "code",
      "source": [
        "epochs = 1"
      ],
      "metadata": {
        "id": "nzTL3YCHhF8q"
      },
      "execution_count": 63,
      "outputs": []
    },
    {
      "cell_type": "markdown",
      "source": [
        "Load data"
      ],
      "metadata": {
        "id": "9V6G9irLLxFi"
      }
    },
    {
      "cell_type": "code",
      "source": [
        "data_filename = '/content/data.h5'\n",
        "submission_filename = '/content/data_submission.h5'\n",
        "\n",
        "## Get the indices of rows containing NaN values. Note that train and test splits are random with a given seed.\n",
        "# nan_indices_train = x_train.index[x_train.isnull().any(axis=1)].tolist() + y_train.index[y_train.isnull().any(axis=1)].tolist()\n",
        "# nan_indices_test = x_test.index[x_test.isnull().any(axis=1)].tolist() + y_test.index[y_test.isnull().any(axis=1)].tolist()\n",
        "\n",
        "## Drop rows containing NaN values\n",
        "# x_train = x_train.drop(x_train.index[nan_indices_train])\n",
        "# y_train = y_train.drop(y_train.index[nan_indices_train])\n",
        "# x_test = x_test.drop(x_test.index[nan_indices_test])\n",
        "# y_test = y_test.drop(y_test.index[nan_indices_test])\n",
        "\n"
      ],
      "metadata": {
        "id": "8sOJXEePLwc9"
      },
      "execution_count": 64,
      "outputs": []
    },
    {
      "cell_type": "code",
      "source": [
        "def load(test=False, cols=None, fname=data_filename):\n",
        "    \"\"\"Loads data from FTEST if *test* is True, otherwise from FTRAIN.\n",
        "    Pass a list of *cols* if you're only interested in a subset of the\n",
        "    target columns.\n",
        "    \"\"\"\n",
        "\n",
        "    with h5py.File(fname, 'r') as hdf_file:\n",
        "      if (fname == data_filename and test == False):\n",
        "        # Read DataFrames\n",
        "        X = pd.DataFrame(hdf_file['im_train'][:])\n",
        "        y = pd.DataFrame(hdf_file['d_train'][:])\n",
        "        y.columns = hdf_file['d_train'].attrs['column_names']\n",
        "      elif (fname == data_filename and test == True):\n",
        "        # Read DataFrames\n",
        "        X = pd.DataFrame(hdf_file['im_test'][:])\n",
        "        y = pd.DataFrame(hdf_file['d_test'][:])\n",
        "        y.columns = hdf_file['d_test'].attrs['column_names']\n",
        "      else:\n",
        "        # Read NumPy arrays\n",
        "        X = pd.DataFrame(np.array(hdf_file['submission_image'][:]))\n",
        "\n",
        "    if cols:  # get a subset of columns\n",
        "        y = y[list(cols)]\n",
        "\n",
        "    X = np.vstack(X.values) / 255.  # scale pixel values to [0, 1]\n",
        "    X = X.astype(np.float32)\n",
        "\n",
        "    if fname == data_filename:  # only FTRAIN has any target columns\n",
        "        y = y.values\n",
        "        y = (y - 48) / 48  # scale target coordinates to [-1, 1]\n",
        "        X, y = shuffle(X, y, random_state=42)  # shuffle train data\n",
        "        y = y.astype(np.float32)\n",
        "    else:\n",
        "        y = None\n",
        "\n",
        "    return X, y"
      ],
      "metadata": {
        "id": "PesN-UE7T-5V"
      },
      "execution_count": 65,
      "outputs": []
    },
    {
      "cell_type": "code",
      "source": [
        "def load2d(test=False, cols=None, fname=data_filename):\n",
        "    X, y = load(test=test,cols=cols,fname=fname)\n",
        "    X = X.reshape(-1, 96, 96, 1)\n",
        "    return X, y"
      ],
      "metadata": {
        "id": "NkqSAShVTwA0"
      },
      "execution_count": 66,
      "outputs": []
    },
    {
      "cell_type": "code",
      "source": [
        "x_train, y_train = load(test = False, fname = data_filename)\n",
        "x_test, y_test = load2d(test = True, fname = data_filename)\n",
        "\n",
        "# Find rows with NaN values\n",
        "nan_rows = np.isnan(y_test).any(axis=1)\n",
        "\n",
        "# Use boolean indexing to drop rows with NaN values\n",
        "x_test = x_test[~nan_rows]\n",
        "y_test = y_test[~nan_rows]"
      ],
      "metadata": {
        "id": "So4pMJWKX1DU"
      },
      "execution_count": 74,
      "outputs": []
    },
    {
      "cell_type": "markdown",
      "source": [
        "Model selection"
      ],
      "metadata": {
        "id": "R1tsO8Kk6Jh2"
      }
    },
    {
      "cell_type": "code",
      "source": [
        "model_type = 'Convolutions' # options: {'Single hidden layer','Convolutions'}\n",
        "df = pd.DataFrame({model_type}, columns=['Model type'])\n",
        "\n",
        "# Start recording time\n",
        "start = default_timer()"
      ],
      "metadata": {
        "id": "_BVmFiBg6LYp"
      },
      "execution_count": 68,
      "outputs": []
    },
    {
      "cell_type": "markdown",
      "source": [
        "Dynamic momentum and learning rate"
      ],
      "metadata": {
        "id": "9xYT_lLnhSoc"
      }
    },
    {
      "cell_type": "code",
      "source": [
        "class MomentumScheduler(Callback):\n",
        "    def __init__(self, schedule, decay_rate):\n",
        "        super(MomentumScheduler, self).__init__()\n",
        "        self.initial_schedule = schedule\n",
        "        self.decay_rate = decay_rate\n",
        "\n",
        "    def on_epoch_begin(self, epoch, logs=None):\n",
        "        if not hasattr(self.model.optimizer, 'beta_1'):\n",
        "            raise ValueError(\"Optimizer must have a 'beta_1' attribute.\")\n",
        "        momentum = self.initial_schedule + (self.decay_rate*epoch) / epochs\n",
        "        self.model.optimizer.beta_1 = momentum\n",
        "\n",
        "\n",
        "class LinearDecayLR(Callback):\n",
        "    def __init__(self, initial_lr, decay_rate):\n",
        "        super(LinearDecayLR, self).__init__()\n",
        "        self.initial_lr = initial_lr\n",
        "        self.decay_rate = decay_rate\n",
        "\n",
        "    def on_epoch_begin(self, epoch, logs=None):\n",
        "        new_lr = self.initial_lr - (self.decay_rate * epoch) / epochs\n",
        "        self.model.optimizer.lr = new_lr\n",
        "\n",
        "# Initialize for learning rate and momentum\n",
        "initial_momentum = 0.9 # TODO optimize\n",
        "momentum_decay_rate = 0.999 - initial_momentum\n",
        "\n",
        "initial_lr = 0.005 # TODO optimize\n",
        "lr_decay_rate = 99 / 100 * initial_lr\n",
        "\n",
        "# Create callbacks\n",
        "momentum_callback = MomentumScheduler(initial_momentum, momentum_decay_rate)\n",
        "lr_callback = LinearDecayLR(initial_lr, lr_decay_rate)\n"
      ],
      "metadata": {
        "id": "Xo-F3T7rhXoF"
      },
      "execution_count": 69,
      "outputs": []
    },
    {
      "cell_type": "markdown",
      "source": [
        "Convolutions model"
      ],
      "metadata": {
        "id": "X8JbIEyf6AOp"
      }
    },
    {
      "cell_type": "code",
      "source": [
        "# Prepare for specialist training\n",
        "SPECIALIST_SETTINGS = [\n",
        "    dict(\n",
        "        columns=(\n",
        "            'left_eye_center_x', 'left_eye_center_y',\n",
        "            'right_eye_center_x', 'right_eye_center_y',\n",
        "            ),\n",
        "        ),\n",
        "\n",
        "    dict(\n",
        "        columns=(\n",
        "            'nose_tip_x', 'nose_tip_y',\n",
        "            ),\n",
        "        ),\n",
        "\n",
        "    dict(\n",
        "        columns=(\n",
        "            'mouth_left_corner_x', 'mouth_left_corner_y',\n",
        "            'mouth_right_corner_x', 'mouth_right_corner_y',\n",
        "            'mouth_center_top_lip_x', 'mouth_center_top_lip_y',\n",
        "            ),\n",
        "        ),\n",
        "\n",
        "    dict(\n",
        "        columns=(\n",
        "            'mouth_center_bottom_lip_x',\n",
        "            'mouth_center_bottom_lip_y',\n",
        "            ),\n",
        "        ),\n",
        "\n",
        "    dict(\n",
        "        columns=(\n",
        "            'left_eye_inner_corner_x', 'left_eye_inner_corner_y',\n",
        "            'right_eye_inner_corner_x', 'right_eye_inner_corner_y',\n",
        "            'left_eye_outer_corner_x', 'left_eye_outer_corner_y',\n",
        "            'right_eye_outer_corner_x', 'right_eye_outer_corner_y',\n",
        "            ),\n",
        "        ),\n",
        "\n",
        "    dict(\n",
        "        columns=(\n",
        "            'left_eyebrow_inner_end_x', 'left_eyebrow_inner_end_y',\n",
        "            'right_eyebrow_inner_end_x', 'right_eyebrow_inner_end_y',\n",
        "            'left_eyebrow_outer_end_x', 'left_eyebrow_outer_end_y',\n",
        "            'right_eyebrow_outer_end_x', 'right_eyebrow_outer_end_y',\n",
        "            ),\n",
        "        ),\n",
        "    ]"
      ],
      "metadata": {
        "id": "D6GpxHMTIwMY"
      },
      "execution_count": 70,
      "outputs": []
    },
    {
      "cell_type": "code",
      "source": [
        "#############################\n",
        "#############################\n",
        "# Data augmentation\n",
        "# TODO Create a function f to prepare inputs for neural nets f(model_type,x) > x_new\n",
        "#############################\n",
        "#############################\n",
        "# Convolutional neural net with three convolutional layers and two fully connected layers\n",
        "keras.backend.clear_session()\n",
        "pixel_num = np.sqrt(x_train.shape[1]).astype(int)\n",
        "# Assuming you have defined the input shape of your images\n",
        "input_shape = (pixel_num, pixel_num, 1)\n",
        "\n",
        "# Create the CNN model\n",
        "net = keras.Sequential()\n",
        "\n",
        "# Convolutional Layer 1\n",
        "net.add(Conv2D(32, (3, 3), activation='relu', input_shape=input_shape))\n",
        "net.add(MaxPooling2D((2, 2)))\n",
        "net.add(Dropout(0.1))\n",
        "\n",
        "# Convolutional Layer 2\n",
        "net.add(Conv2D(64, (2, 2), activation='relu'))\n",
        "net.add(MaxPooling2D((2, 2)))\n",
        "net.add(Dropout(0.2))\n",
        "\n",
        "# Convolutional Layer 3\n",
        "net.add(Conv2D(128, (2, 2), activation='relu'))\n",
        "net.add(MaxPooling2D((2, 2)))\n",
        "net.add(Dropout(0.2))\n",
        "\n",
        "# Flatten the feature maps\n",
        "net.add(Flatten())\n",
        "\n",
        "# Fully Connected Layer 1\n",
        "net.add(Dense(500, activation='relu'))\n",
        "\n",
        "# Fully Connected Layer 2\n",
        "net.add(Dense(500, activation='relu'))\n",
        "\n",
        "# Create the Adam optimizer with the desired initial values\n",
        "optimizer = Adam(learning_rate=initial_lr, beta_1 = initial_momentum)\n",
        "\n",
        "## Compile the model\n",
        "# net.compile(optimizer=optimizer, loss='mse', metrics=['accuracy'])\n",
        "\n",
        "# stop early\n",
        "early_stopping = EarlyStopping(monitor='val_loss',patience=200, restore_best_weights=True)\n",
        "\n",
        "# Data augmentation\n",
        "# Create an instance of ImageDataGenerator with desired augmentation settings\n",
        "# data_generator = ImageDataGenerator(horizontal_flip = True, vertical_flip = True)\n",
        "\n",
        "# Create a generator for training data\n",
        "batch_size = 32\n",
        "# train_generator = data_generator.flow(x_train, y_train, batch_size=batch_size)"
      ],
      "metadata": {
        "id": "dx3WTFmO6F6V"
      },
      "execution_count": 71,
      "outputs": []
    },
    {
      "cell_type": "code",
      "source": [
        "specialists = OrderedDict()\n",
        "val_loss_values = []\n",
        "predictions_list = []\n",
        "\n",
        "def fit_specialists():\n",
        "  for setting in SPECIALIST_SETTINGS:\n",
        "    cols = setting['columns']\n",
        "    x_train_cleaned, y_train_cleaned = load2d(cols=cols)\n",
        "    x_test_cleaned, y_test_cleaned = load2d(test = True, cols = cols, fname = data_filename)\n",
        "\n",
        "    # Find rows with NaN values\n",
        "    nan_rows = np.isnan(y_train_cleaned).any(axis=1)\n",
        "\n",
        "    # Use boolean indexing to drop rows with NaN values\n",
        "    x_train_cleaned = x_train_cleaned[~nan_rows]\n",
        "    y_train_cleaned = y_train_cleaned[~nan_rows]\n",
        "\n",
        "    # Find rows with NaN values\n",
        "    nan_rows = np.isnan(y_test_cleaned).any(axis=1)\n",
        "\n",
        "    # Use boolean indexing to drop rows with NaN values\n",
        "    x_test_cleaned = x_test_cleaned[~nan_rows]\n",
        "    y_test_cleaned = y_test_cleaned[~nan_rows]\n",
        "\n",
        "    model = clone_model(net)\n",
        "    # Output Layer\n",
        "    model.add(Dense(y_train_cleaned.shape[1]))\n",
        "\n",
        "    if 'kwargs' in setting:\n",
        "        # an option 'kwargs' in the settings list may be used to\n",
        "        # set any other parameter of the net:\n",
        "        vars(model).update(setting['kwargs'])\n",
        "\n",
        "    model.compile(optimizer=optimizer, loss='mse', metrics=['accuracy'])\n",
        "    print(\"Training model for columns {} for {} epochs\".format(\n",
        "        cols, epochs))\n",
        "\n",
        "    history = model.fit(x_train_cleaned,\n",
        "              y_train_cleaned,\n",
        "              batch_size = batch_size,\n",
        "              epochs = epochs,\n",
        "              # callbacks = [early_stopping, lr_callback, momentum_callback],\n",
        "              validation_data=(x_test_cleaned, y_test_cleaned))\n",
        "    specialists[cols] = model\n",
        "\n",
        "    # Calculate and store the loss value for this specialist\n",
        "    val_loss = history.history['val_loss']\n",
        "    val_loss_values.append((cols, val_loss))\n",
        "\n",
        "    # Make predictions using this specialist on the cleaned test data\n",
        "    predictions = model.predict(x_test)\n",
        "    predictions_list.append(predictions)"
      ],
      "metadata": {
        "id": "yvx4lOe6bHQc"
      },
      "execution_count": 78,
      "outputs": []
    },
    {
      "cell_type": "markdown",
      "source": [
        "Analysis"
      ],
      "metadata": {
        "id": "PQLVo5JVw-5q"
      }
    },
    {
      "cell_type": "code",
      "source": [
        "combined_predictions"
      ],
      "metadata": {
        "id": "dAIEMigwpgVS",
        "colab": {
          "base_uri": "https://localhost:8080/"
        },
        "outputId": "8a40bbd0-ab24-404e-e764-0c9080c5cba0"
      },
      "execution_count": 80,
      "outputs": [
        {
          "output_type": "execute_result",
          "data": {
            "text/plain": [
              "array([[ 0.25529525, -0.12959045, -0.24673784, ..., -0.35992008,\n",
              "        -0.65699285, -0.35071987],\n",
              "       [ 0.26068446, -0.13340005, -0.25220776, ..., -0.35992008,\n",
              "        -0.65699285, -0.35071987],\n",
              "       [ 0.25031757, -0.12615886, -0.2418338 , ..., -0.35992008,\n",
              "        -0.65699285, -0.35071987],\n",
              "       ...,\n",
              "       [ 0.25836003, -0.13167801, -0.24986073, ..., -0.35992008,\n",
              "        -0.65699285, -0.35071987],\n",
              "       [ 0.26967153, -0.13973588, -0.26179874, ..., -0.3599201 ,\n",
              "        -0.6569929 , -0.35071987],\n",
              "       [ 0.26033863, -0.13313459, -0.25226557, ..., -0.3599201 ,\n",
              "        -0.6569929 , -0.35071987]], dtype=float32)"
            ]
          },
          "metadata": {},
          "execution_count": 80
        }
      ]
    },
    {
      "cell_type": "code",
      "source": [
        "fit_specialists()\n",
        "\n",
        "# Combine predictions from all specialists\n",
        "combined_predictions = np.hstack(predictions_list)\n",
        "\n",
        "# Calculate the loss value for the combined predictions\n",
        "combined_loss = mean_squared_error(y_test, combined_predictions)\n",
        "\n",
        "# Save the model to a file\n",
        "# model.save('/content/model.h5')\n",
        "\n",
        "# Duration\n",
        "duration = default_timer() - start\n",
        "print(duration)\n",
        "df['Duration'] = duration"
      ],
      "metadata": {
        "id": "GawC2VdexCmw",
        "outputId": "6c55f318-3c9c-4dd1-eca4-ca4971cc300a",
        "colab": {
          "base_uri": "https://localhost:8080/"
        }
      },
      "execution_count": 79,
      "outputs": [
        {
          "output_type": "stream",
          "name": "stdout",
          "text": [
            "Training model for columns ('left_eye_center_x', 'left_eye_center_y', 'right_eye_center_x', 'right_eye_center_y') for 1 epochs\n",
            "176/176 [==============================] - 91s 511ms/step - loss: 640.0855 - accuracy: 0.9597 - val_loss: 0.0139 - val_accuracy: 0.9950\n",
            "13/13 [==============================] - 1s 106ms/step\n",
            "Training model for columns ('nose_tip_x', 'nose_tip_y') for 1 epochs\n",
            "177/177 [==============================] - 94s 527ms/step - loss: 2178.4568 - accuracy: 0.9516 - val_loss: 0.0113 - val_accuracy: 0.9816\n",
            "13/13 [==============================] - 2s 116ms/step\n",
            "Training model for columns ('mouth_left_corner_x', 'mouth_left_corner_y', 'mouth_right_corner_x', 'mouth_right_corner_y', 'mouth_center_top_lip_x', 'mouth_center_top_lip_y') for 1 epochs\n",
            "58/58 [==============================] - 29s 493ms/step - loss: 5545.9409 - accuracy: 0.3016 - val_loss: 0.0079 - val_accuracy: 0.4273\n",
            "13/13 [==============================] - 3s 191ms/step\n",
            "Training model for columns ('mouth_center_bottom_lip_x', 'mouth_center_bottom_lip_y') for 1 epochs\n",
            "176/176 [==============================] - 96s 543ms/step - loss: 1213.6865 - accuracy: 0.9364 - val_loss: 0.0106 - val_accuracy: 0.9986\n",
            "13/13 [==============================] - 2s 113ms/step\n",
            "Training model for columns ('left_eye_inner_corner_x', 'left_eye_inner_corner_y', 'right_eye_inner_corner_x', 'right_eye_inner_corner_y', 'left_eye_outer_corner_x', 'left_eye_outer_corner_y', 'right_eye_outer_corner_x', 'right_eye_outer_corner_y') for 1 epochs\n",
            "57/57 [==============================] - 33s 539ms/step - loss: 27516.5156 - accuracy: 0.8533 - val_loss: 0.0031 - val_accuracy: 1.0000\n",
            "13/13 [==============================] - 1s 102ms/step\n",
            "Training model for columns ('left_eyebrow_inner_end_x', 'left_eyebrow_inner_end_y', 'right_eyebrow_inner_end_x', 'right_eyebrow_inner_end_y', 'left_eyebrow_outer_end_x', 'left_eyebrow_outer_end_y', 'right_eyebrow_outer_end_x', 'right_eyebrow_outer_end_y') for 1 epochs\n",
            "56/56 [==============================] - 30s 530ms/step - loss: 333.4504 - accuracy: 0.4605 - val_loss: 0.0084 - val_accuracy: 1.0000\n",
            "13/13 [==============================] - 3s 196ms/step\n",
            "2502.9569586940006\n"
          ]
        }
      ]
    },
    {
      "cell_type": "code",
      "source": [],
      "metadata": {
        "id": "PWDGua5ITFlA",
        "colab": {
          "base_uri": "https://localhost:8080/"
        },
        "outputId": "cd47f7fc-e2b0-4699-8873-581298d60fb3"
      },
      "execution_count": 83,
      "outputs": [
        {
          "output_type": "execute_result",
          "data": {
            "text/plain": [
              "[0.008391123265028]"
            ]
          },
          "metadata": {},
          "execution_count": 83
        }
      ]
    },
    {
      "cell_type": "code",
      "source": [
        "plt.figure()\n",
        "i = 1\n",
        "for index, value in enumerate(val_loss_values):\n",
        "    plt.plot(range(1, epochs+1), value[1], label='Specialist ' + str(i))\n",
        "plt.yscale('log')\n",
        "plt.xlabel('Epochs')\n",
        "plt.ylabel('Loss')\n",
        "plt.title('Validation Loss')\n",
        "plt.legend()\n",
        "plt.show()"
      ],
      "metadata": {
        "id": "0nZz6v64qUDW",
        "colab": {
          "base_uri": "https://localhost:8080/",
          "height": 472
        },
        "outputId": "3541d6ef-8860-4eb0-f654-fee72696dc57"
      },
      "execution_count": 82,
      "outputs": [
        {
          "output_type": "display_data",
          "data": {
            "text/plain": [
              "<Figure size 640x480 with 1 Axes>"
            ],
            "image/png": "[encoded data removed]"
          },
          "metadata": {}
        }
      ]
    },
    {
      "cell_type": "code",
      "source": [
        "# First, calculate the column means along axis 0 (columns)\n",
        "col_means = np.nanmean(y_test, axis=0)\n",
        "\n",
        "# Next, create the matrix 'p' using the calculated column means\n",
        "num_rows_d_test = y_test.shape[0]\n",
        "num_cols_d_train = y_train.shape[1]\n",
        "\n",
        "# Create the matrix 'p' with the specified dimensions and fill it with column means\n",
        "p = np.tile(col_means, (num_rows_d_test, 1)).astype(y_test.dtypes)\n",
        "\n",
        "# Compute RMSE\n",
        "rmse = np.sqrt(df_loss['Loss'].iloc[-1])\n",
        "\n",
        "# Print RMSE\n",
        "print('RMSE : ')\n",
        "print(rmse)\n",
        "df['RMSE'] = rmse\n",
        "df.to_csv('/content/performance.csv',mode='a')"
      ],
      "metadata": {
        "id": "vA8P1bkO2yvj"
      },
      "execution_count": null,
      "outputs": []
    },
    {
      "cell_type": "code",
      "source": [
        "df_predictions = pd.DataFrame(predictions)"
      ],
      "metadata": {
        "id": "O-4lCKuJDN5C"
      },
      "execution_count": null,
      "outputs": []
    },
    {
      "cell_type": "code",
      "source": [
        "# Plot the first 16 images in the DataFrame\n",
        "\n",
        "fig = plt.figure(figsize=(6, 6))\n",
        "fig.subplots_adjust(\n",
        "    left=0, right=1, bottom=0, top=1, hspace=0.05, wspace=0.05)\n",
        "\n",
        "for i in range(16):\n",
        "  if model_type == 'Single hidden layer':\n",
        "    image = np.array(x_test.iloc[i,:])  # Convert the Series to a NumPy array\n",
        "    image = image.reshape((96, 96))  # Reshape the array to the desired image dimensions\n",
        "  elif model_type == 'Convolutions':\n",
        "    image = x_test[i]\n",
        "    image = image.reshape((96, 96))\n",
        "  ax = fig.add_subplot(4, 4, i + 1, xticks=[], yticks=[])\n",
        "  predicted_keypoints = predictions[i].reshape((15, 2))\n",
        "  plt.scatter(predicted_keypoints[:, 0], predicted_keypoints[:, 1], c='r', marker='o')\n",
        "  plt.imshow(image, cmap='gray')\n",
        "  plt.show()"
      ],
      "metadata": {
        "id": "SMdqZBecLIOi"
      },
      "execution_count": null,
      "outputs": []
    },
    {
      "cell_type": "code",
      "source": [
        "model_type = 'Convolutions'"
      ],
      "metadata": {
        "id": "ZyhF7mtjraha"
      },
      "execution_count": null,
      "outputs": []
    },
    {
      "cell_type": "code",
      "source": [
        "#TODO move below\n",
        "# from pandas.io.parsers.readers import read_csv\n",
        "# Extract data for output\n",
        "x_submission = load(fname = submission_filename)\n",
        "# Get the indices of rows containing NaN values.\n",
        "nan_indices_submission = x_submission.index[x_submission.isnull().any(axis=1)].tolist()\n",
        "# Drop rows containing NaN values\n",
        "x_submission = x_submission.drop(x_submission.index[nan_indices_submission])\n",
        "\n",
        "if model_type == 'Convolutions' :\n",
        "  x_submission = x_submission.to_numpy().reshape(-1, pixel_num, pixel_num, 1)/255\n",
        "\n",
        "# Make predictions\n",
        "predictions_submission = model.predict(x_submission)\n",
        "\n",
        "# Size of the image is given, prediction cannot be outside of range\n",
        "min_value = 0\n",
        "max_value = 96\n",
        "constrained_predictions_submission = np.clip(predictions_submission, min_value, max_value)\n",
        "\n",
        "# Remove predictions not requested in IdLookupTable.csv\n",
        "filename = '/content/IdLookupTable.csv'\n",
        "IdLookupTable = pd.read_csv(filename)\n",
        "# All keypoints names\n",
        "keypoints_names = IdLookupTable['FeatureName'].iloc[0:30]\n",
        "# Calculate the repeating sequence based on the number of rows in 'df'\n",
        "repeating_sequence = np.repeat(np.arange(1, 1783*30 // 30 + 1), 30)\n",
        "# Add the repeating sequence as a new column to the DataFrame\n",
        "keypoints_names_filter = pd.DataFrame({'ImageId': repeating_sequence})\n",
        "keypoints_names_filter['Indices'] = range(len(keypoints_names_filter))\n",
        "keypoints_names_filter['FeatureName'] = pd.concat([keypoints_names] * 1783, ignore_index=True)\n",
        "# Filter\n",
        "keypoints_names_filter = keypoints_names_filter.merge(IdLookupTable[['ImageId', 'FeatureName']], on=['ImageId', 'FeatureName'], how='inner')\n",
        "# Create a mask of size 1783x30 where True indicates the indices to keep\n",
        "nb_output_images = x_submission.shape[0]\n",
        "mask = np.isin(np.arange(nb_output_images*30), keypoints_names_filter['Indices'])\n",
        "# Reshape the mask to the same shape as 'np_array'\n",
        "mask = mask.reshape(constrained_predictions_submission.shape)\n",
        "# Use the mask to replace values in the NumPy array with NaN\n",
        "constrained_predictions_submission[~mask] = np.nan\n",
        "\n",
        "# Plot the first image in the DataFrame\n",
        "ii = -1\n",
        "if model_type == 'Single hidden layer':\n",
        "  image = np.array(x_submission.iloc[ii,:])\n",
        "  image = image.reshape((96, 96))  # Reshape the array to the desired image dimensions\n",
        "elif model_type == 'Convolutions':\n",
        "  image = x_submission[ii]\n",
        "  image = image.reshape((96, 96))\n",
        "predicted_keypoints = constrained_predictions_submission[ii].reshape((15, 2))\n",
        "plt.scatter(predicted_keypoints[:, 0], predicted_keypoints[:, 1], c='r', marker='o')\n",
        "plt.imshow(image, cmap='gray')\n",
        "plt.show()\n",
        "\n",
        "# Prepare for output file\n",
        "df_predictions = pd.DataFrame(constrained_predictions_submission)\n",
        "\n",
        "# Convert the DataFrame to a NumPy array and reshape it\n",
        "reshaped_values = df_predictions.values.reshape(-1, 1)\n",
        "\n",
        "# Remove NaN values from the NumPy array\n",
        "reshaped_values = reshaped_values[~np.isnan(reshaped_values)]\n",
        "\n",
        "# Create a new DataFrame with the reshaped values\n",
        "reshaped_df = pd.DataFrame(reshaped_values, columns=['Value'])\n",
        "indices = pd.DataFrame(range(1,len(reshaped_df)+1))\n",
        "submission = pd.concat([indices, reshaped_df], axis=1)\n",
        "submission.rename(columns={0: 'RowId','Value': 'Location'}, inplace=True)\n",
        "\n",
        "# Write to csv file\n",
        "submission.to_csv('/content/model_submission.csv',index=False)\n"
      ],
      "metadata": {
        "id": "pwYDph1YMxwk"
      },
      "execution_count": null,
      "outputs": []
    },
    {
      "cell_type": "code",
      "source": [],
      "metadata": {
        "id": "vhXWSzMv2_Hj"
      },
      "execution_count": null,
      "outputs": []
    },
    {
      "cell_type": "code",
      "source": [],
      "metadata": {
        "id": "n4HI3Kke3A5-"
      },
      "execution_count": null,
      "outputs": []
    }
  ]
}