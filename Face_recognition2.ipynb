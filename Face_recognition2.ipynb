{
  "nbformat": 4,
  "nbformat_minor": 0,
  "metadata": {
    "colab": {
      "provenance": [],
      "gpuType": "T4",
      "authorship_tag": "ABX9TyNHi7rtGf+AQ0DUv83PgjNu",
      "include_colab_link": true
    },
    "kernelspec": {
      "name": "python3",
      "display_name": "Python 3"
    },
    "language_info": {
      "name": "python"
    }
  },
  "cells": [
    {
      "cell_type": "markdown",
      "metadata": {
        "id": "view-in-github",
        "colab_type": "text"
      },
      "source": [
        "<a href=\"https://colab.research.google.com/github/lmarieta/FaceRecognition/blob/main/Face_recognition2.ipynb\" target=\"_parent\"><img src=\"https://colab.research.google.com/assets/colab-badge.svg\" alt=\"Open In Colab\"/></a>"
      ]
    },
    {
      "cell_type": "markdown",
      "source": [
        "Before starting, upload data.RData, data_submission.RData, IdLookupTable.csv files. After training your model, you can download it. After saving the output file, you can also download it."
      ],
      "metadata": {
        "id": "lBQAn62asEWj"
      }
    },
    {
      "cell_type": "markdown",
      "source": [
        "Import Libraries\n"
      ],
      "metadata": {
        "id": "HCjTVDjLk_28"
      }
    },
    {
      "cell_type": "code",
      "execution_count": 1,
      "metadata": {
        "colab": {
          "base_uri": "https://localhost:8080/"
        },
        "id": "QsKs4kwPiiKV",
        "outputId": "8d930b59-7f2f-4b1e-aa25-ee10c8dcbc00"
      },
      "outputs": [
        {
          "output_type": "stream",
          "name": "stdout",
          "text": [
            "Collecting pyreadr\n",
            "  Downloading pyreadr-0.4.7-cp310-cp310-manylinux_2_17_x86_64.manylinux2014_x86_64.whl (362 kB)\n",
            "\u001b[2K     \u001b[90m━━━━━━━━━━━━━━━━━━━━━━━━━━━━━━━━━━━━━━━\u001b[0m \u001b[32m363.0/363.0 kB\u001b[0m \u001b[31m3.3 MB/s\u001b[0m eta \u001b[36m0:00:00\u001b[0m\n",
            "\u001b[?25hRequirement already satisfied: pandas>=1.2.0 in /usr/local/lib/python3.10/dist-packages (from pyreadr) (1.5.3)\n",
            "Requirement already satisfied: python-dateutil>=2.8.1 in /usr/local/lib/python3.10/dist-packages (from pandas>=1.2.0->pyreadr) (2.8.2)\n",
            "Requirement already satisfied: pytz>=2020.1 in /usr/local/lib/python3.10/dist-packages (from pandas>=1.2.0->pyreadr) (2022.7.1)\n",
            "Requirement already satisfied: numpy>=1.21.0 in /usr/local/lib/python3.10/dist-packages (from pandas>=1.2.0->pyreadr) (1.22.4)\n",
            "Requirement already satisfied: six>=1.5 in /usr/local/lib/python3.10/dist-packages (from python-dateutil>=2.8.1->pandas>=1.2.0->pyreadr) (1.16.0)\n",
            "Installing collected packages: pyreadr\n",
            "Successfully installed pyreadr-0.4.7\n"
          ]
        }
      ],
      "source": [
        "import numpy as np\n",
        "from tensorflow import keras\n",
        "from keras import layers\n",
        "import pandas as pd\n",
        "import numpy as np\n",
        "#from sklearn import train_test_split\n",
        "import matplotlib.pyplot as plt\n",
        "!pip install pyreadr\n",
        "import pyreadr\n",
        "from keras.optimizers import Adam\n",
        "from timeit import default_timer\n",
        "from keras.callbacks import EarlyStopping\n",
        "from keras.layers import Conv2D, MaxPooling2D, Flatten, Dense\n",
        "from keras.regularizers import l2"
      ]
    },
    {
      "cell_type": "markdown",
      "source": [
        "Load data"
      ],
      "metadata": {
        "id": "9V6G9irLLxFi"
      }
    },
    {
      "cell_type": "code",
      "source": [
        "filename = '/content/data.RData'\n",
        "df = pyreadr.read_r(filename)\n",
        "\n",
        "x_train = df['im.train']\n",
        "y_train = df['d.train']\n",
        "x_test = df['im.test']\n",
        "y_test = df['d.test']\n",
        "\n",
        "# Get the indices of rows containing NaN values. Note that train and test splits are random with a given seed.\n",
        "nan_indices_train = x_train.index[x_train.isnull().any(axis=1)].tolist() + y_train.index[y_train.isnull().any(axis=1)].tolist()\n",
        "nan_indices_test = x_test.index[x_test.isnull().any(axis=1)].tolist() + y_test.index[y_test.isnull().any(axis=1)].tolist()\n",
        "\n",
        "# Drop rows containing NaN values\n",
        "x_train = x_train.drop(x_train.index[nan_indices_train])\n",
        "y_train = y_train.drop(y_train.index[nan_indices_train])\n",
        "x_test = x_test.drop(x_test.index[nan_indices_test])\n",
        "y_test = y_test.drop(y_test.index[nan_indices_test])\n",
        "\n"
      ],
      "metadata": {
        "id": "8sOJXEePLwc9",
        "outputId": "5bb443b1-ef26-47f8-cad0-8f70f9b7be10",
        "colab": {
          "base_uri": "https://localhost:8080/",
          "height": 357
        }
      },
      "execution_count": 2,
      "outputs": [
        {
          "output_type": "error",
          "ename": "PyreadrError",
          "evalue": "ignored",
          "traceback": [
            "\u001b[0;31m---------------------------------------------------------------------------\u001b[0m",
            "\u001b[0;31mPyreadrError\u001b[0m                              Traceback (most recent call last)",
            "\u001b[0;32m<ipython-input-2-c1d15d506dd2>\u001b[0m in \u001b[0;36m<cell line: 2>\u001b[0;34m()\u001b[0m\n\u001b[1;32m      1\u001b[0m \u001b[0mfilename\u001b[0m \u001b[0;34m=\u001b[0m \u001b[0;34m'/content/data.RData'\u001b[0m\u001b[0;34m\u001b[0m\u001b[0;34m\u001b[0m\u001b[0m\n\u001b[0;32m----> 2\u001b[0;31m \u001b[0mdf\u001b[0m \u001b[0;34m=\u001b[0m \u001b[0mpyreadr\u001b[0m\u001b[0;34m.\u001b[0m\u001b[0mread_r\u001b[0m\u001b[0;34m(\u001b[0m\u001b[0mfilename\u001b[0m\u001b[0;34m)\u001b[0m\u001b[0;34m\u001b[0m\u001b[0;34m\u001b[0m\u001b[0m\n\u001b[0m\u001b[1;32m      3\u001b[0m \u001b[0;34m\u001b[0m\u001b[0m\n\u001b[1;32m      4\u001b[0m \u001b[0mx_train\u001b[0m \u001b[0;34m=\u001b[0m \u001b[0mdf\u001b[0m\u001b[0;34m[\u001b[0m\u001b[0;34m'im.train'\u001b[0m\u001b[0;34m]\u001b[0m\u001b[0;34m\u001b[0m\u001b[0;34m\u001b[0m\u001b[0m\n\u001b[1;32m      5\u001b[0m \u001b[0my_train\u001b[0m \u001b[0;34m=\u001b[0m \u001b[0mdf\u001b[0m\u001b[0;34m[\u001b[0m\u001b[0;34m'd.train'\u001b[0m\u001b[0;34m]\u001b[0m\u001b[0;34m\u001b[0m\u001b[0;34m\u001b[0m\u001b[0m\n",
            "\u001b[0;32m/usr/local/lib/python3.10/dist-packages/pyreadr/pyreadr.py\u001b[0m in \u001b[0;36mread_r\u001b[0;34m(path, use_objects, timezone)\u001b[0m\n\u001b[1;32m     63\u001b[0m     \u001b[0mfilename_bytes\u001b[0m \u001b[0;34m=\u001b[0m \u001b[0mos\u001b[0m\u001b[0;34m.\u001b[0m\u001b[0mpath\u001b[0m\u001b[0;34m.\u001b[0m\u001b[0mexpanduser\u001b[0m\u001b[0;34m(\u001b[0m\u001b[0mfilename_bytes\u001b[0m\u001b[0;34m)\u001b[0m\u001b[0;34m\u001b[0m\u001b[0;34m\u001b[0m\u001b[0m\n\u001b[1;32m     64\u001b[0m     \u001b[0;32mif\u001b[0m \u001b[0;32mnot\u001b[0m \u001b[0mos\u001b[0m\u001b[0;34m.\u001b[0m\u001b[0mpath\u001b[0m\u001b[0;34m.\u001b[0m\u001b[0misfile\u001b[0m\u001b[0;34m(\u001b[0m\u001b[0mfilename_bytes\u001b[0m\u001b[0;34m)\u001b[0m\u001b[0;34m:\u001b[0m\u001b[0;34m\u001b[0m\u001b[0;34m\u001b[0m\u001b[0m\n\u001b[0;32m---> 65\u001b[0;31m         \u001b[0;32mraise\u001b[0m \u001b[0mPyreadrError\u001b[0m\u001b[0;34m(\u001b[0m\u001b[0;34m\"File {0} does not exist!\"\u001b[0m\u001b[0;34m.\u001b[0m\u001b[0mformat\u001b[0m\u001b[0;34m(\u001b[0m\u001b[0mfilename_bytes\u001b[0m\u001b[0;34m)\u001b[0m\u001b[0;34m)\u001b[0m\u001b[0;34m\u001b[0m\u001b[0;34m\u001b[0m\u001b[0m\n\u001b[0m\u001b[1;32m     66\u001b[0m     \u001b[0mparser\u001b[0m\u001b[0;34m.\u001b[0m\u001b[0mparse\u001b[0m\u001b[0;34m(\u001b[0m\u001b[0mfilename_bytes\u001b[0m\u001b[0;34m)\u001b[0m\u001b[0;34m\u001b[0m\u001b[0;34m\u001b[0m\u001b[0m\n\u001b[1;32m     67\u001b[0m \u001b[0;34m\u001b[0m\u001b[0m\n",
            "\u001b[0;31mPyreadrError\u001b[0m: File b'/content/data.RData' does not exist!"
          ]
        }
      ]
    },
    {
      "cell_type": "markdown",
      "source": [
        "Model selection"
      ],
      "metadata": {
        "id": "R1tsO8Kk6Jh2"
      }
    },
    {
      "cell_type": "code",
      "source": [
        "model_type = 'Convolutions' # options: {'Single hidden layer','Convolutions'}\n",
        "df = pd.DataFrame({model_type}, columns=['Model type'])\n",
        "\n",
        "# Start recording time\n",
        "start = default_timer()"
      ],
      "metadata": {
        "id": "_BVmFiBg6LYp"
      },
      "execution_count": null,
      "outputs": []
    },
    {
      "cell_type": "markdown",
      "source": [
        "Single layer model"
      ],
      "metadata": {
        "id": "ksBD-SVl0tIk"
      }
    },
    {
      "cell_type": "code",
      "source": [
        "if model_type == 'Single hidden layer' :\n",
        "  pixel_num = x_train.shape[1]\n",
        "  keras.backend.clear_session()\n",
        "  # Define the model (single hidden layer)\n",
        "  model = keras.Sequential([\n",
        "      keras.layers.Dense(64, activation='relu', input_shape=(pixel_num,)),\n",
        "      keras.layers.Dense(32, activation='relu'),\n",
        "      keras.layers.Dense(y_train.shape[1])  # Output layer with 2 units per keypoint (x and y coordinates)\n",
        "  ])\n",
        "  learning_rate=0.05\n",
        "  epsilon = 0.1\n",
        "  optimizer = Adam(learning_rate=learning_rate,epsilon=epsilon)\n",
        "  early_stopping = EarlyStopping(monitor='loss',patience=20, restore_best_weights=True)\n",
        "  hyperparameters = {\n",
        "    'optimizer': optimizer,\n",
        "    'loss': 'mse',\n",
        "    'learning_rate':learning_rate,\n",
        "    'epsilon': epsilon,\n",
        "    'early_stopping': early_stopping,\n",
        "  }\n",
        "  for k,v in hyperparameters.items():\n",
        "    df[k] = v\n",
        "  # Compile the model\n",
        "  model.compile(optimizer=hyperparameters['optimizer'], loss=hyperparameters['loss'])"
      ],
      "metadata": {
        "id": "EIllhOZEtbHx"
      },
      "execution_count": null,
      "outputs": []
    },
    {
      "cell_type": "markdown",
      "source": [
        "Convolutions model"
      ],
      "metadata": {
        "id": "X8JbIEyf6AOp"
      }
    },
    {
      "cell_type": "code",
      "source": [
        "#############################\n",
        "#############################\n",
        "# Normalise x\n",
        "# create a function f to prepare inputs for neural nets f(model_type,x) > x_new\n",
        "if model_type == 'Convolutions' :\n",
        "  # Convolutional neural net with three convolutional layers and two fully connected layers\n",
        "  keras.backend.clear_session()\n",
        "  pixel_num = np.sqrt(x_train.shape[1]).astype(int)\n",
        "  # Assuming you have defined the input shape of your images\n",
        "  input_shape = (pixel_num, pixel_num, 1)\n",
        "\n",
        "  # Create the CNN model\n",
        "  model = keras.Sequential()\n",
        "\n",
        "  # Convolutional Layer 1\n",
        "  model.add(Conv2D(32, (3, 3), activation='relu', input_shape=input_shape))\n",
        "  model.add(MaxPooling2D((2, 2)))\n",
        "\n",
        "  # Convolutional Layer 2\n",
        "  model.add(Conv2D(64, (2, 2), activation='relu'))\n",
        "  model.add(MaxPooling2D((2, 2)))\n",
        "\n",
        "  # Convolutional Layer 3\n",
        "  model.add(Conv2D(128, (2, 2), activation='relu'))\n",
        "  model.add(MaxPooling2D((2, 2)))\n",
        "\n",
        "  # Flatten the feature maps\n",
        "  model.add(Flatten())\n",
        "\n",
        "  # Fully Connected Layer 1\n",
        "  model.add(Dense(32, activation='relu'))\n",
        "\n",
        "  # Fully Connected Layer 2\n",
        "  model.add(Dense(32, activation='relu'))\n",
        "\n",
        "  # Output Layer\n",
        "  model.add(Dense(y_train.shape[1], activation='softmax'))\n",
        "\n",
        "  # Compile the model\n",
        "  model.compile(optimizer=optimizer, loss='mse', metrics=['accuracy'])\n",
        "\n",
        "  # Print the model summary\n",
        "  model.summary()\n",
        "  # stop early\n",
        "  early_stopping = EarlyStopping(monitor='loss',patience=10, restore_best_weights=True)\n",
        "  # reshape inputs\n",
        "  x_train = x_train.to_numpy().reshape(-1, pixel_num, pixel_num, 1)\n",
        "  x_test = x_test.to_numpy().reshape(-1, pixel_num, pixel_num, 1)"
      ],
      "metadata": {
        "id": "dx3WTFmO6F6V"
      },
      "execution_count": null,
      "outputs": []
    },
    {
      "cell_type": "code",
      "source": [],
      "metadata": {
        "id": "2GYoGRuty1N0"
      },
      "execution_count": null,
      "outputs": []
    },
    {
      "cell_type": "markdown",
      "source": [
        "Analysis"
      ],
      "metadata": {
        "id": "PQLVo5JVw-5q"
      }
    },
    {
      "cell_type": "code",
      "source": [
        "# Train the model\n",
        "history = model.fit(x_train, y_train, epochs=400, batch_size=32, callbacks=[early_stopping],validation_data=(x_test, y_test))\n",
        "\n",
        "# Extract the loss and validation loss values from the history object\n",
        "loss_values = history.history['loss']\n",
        "val_loss = history.history['val_loss']\n",
        "\n",
        "# Convert loss_values to a DataFrame\n",
        "df_loss = pd.DataFrame({'Epoch': np.arange(1, len(loss_values) + 1), 'Loss': loss_values})\n",
        "\n",
        "# Make predictions\n",
        "predictions = model.predict(x_test)\n",
        "\n",
        "# Size of the image is given, prediction cannot be outside of range\n",
        "min_value = 0\n",
        "max_value = 96\n",
        "constrained_predictions = np.clip(predictions, min_value, max_value)\n",
        "\n",
        "# Save the model to a file\n",
        "model.save('/content/simple_model.h5')\n",
        "\n",
        "# Duration\n",
        "duration = default_timer() - start\n",
        "print(duration)\n",
        "df['Duration'] = duration"
      ],
      "metadata": {
        "id": "GawC2VdexCmw"
      },
      "execution_count": null,
      "outputs": []
    },
    {
      "cell_type": "code",
      "source": [
        "# Plot the training and validation loss\n",
        "plt.figure()\n",
        "plt.plot(df_loss['Epoch'], loss_values, label='Training Loss')\n",
        "plt.plot(df_loss['Epoch'], val_loss, label='Validation Loss')\n",
        "plt.yscale('log')\n",
        "plt.ylim(1,np.max(val_loss))\n",
        "plt.xlabel('Epochs')\n",
        "plt.ylabel('Loss')\n",
        "plt.title('Training and Validation Loss')\n",
        "plt.legend()\n",
        "plt.show()"
      ],
      "metadata": {
        "id": "fKCx7xKEbsC3"
      },
      "execution_count": null,
      "outputs": []
    },
    {
      "cell_type": "code",
      "source": [
        "# First, calculate the column means along axis 0 (columns)\n",
        "col_means = np.nanmean(y_test, axis=0)\n",
        "\n",
        "# Next, create the matrix 'p' using the calculated column means\n",
        "num_rows_d_test = y_test.shape[0]\n",
        "num_cols_d_train = y_train.shape[1]\n",
        "\n",
        "# Create the matrix 'p' with the specified dimensions and fill it with column means\n",
        "p = np.tile(col_means, (num_rows_d_test, 1)).astype(y_test.dtypes)\n",
        "\n",
        "# Compute RMSE\n",
        "rmse = np.sqrt(df_loss['Loss'].iloc[-1])\n",
        "\n",
        "# Print RMSE\n",
        "print('RMSE : ')\n",
        "print(rmse)\n",
        "df['RMSE'] = rmse\n",
        "df.to_csv('/content/performance.csv',mode='a')"
      ],
      "metadata": {
        "id": "vA8P1bkO2yvj"
      },
      "execution_count": null,
      "outputs": []
    },
    {
      "cell_type": "code",
      "source": [
        "df_predictions = pd.DataFrame(predictions)"
      ],
      "metadata": {
        "id": "O-4lCKuJDN5C"
      },
      "execution_count": null,
      "outputs": []
    },
    {
      "cell_type": "code",
      "source": [
        "# Plot the first image in the DataFrame\n",
        "ii = 0 # index of the picture to display\n",
        "if model_type == 'Single hidden layer':\n",
        "  image = np.array(x_test.iloc[ii,:])  # Convert the Series to a NumPy array\n",
        "  image = image.reshape((96, 96))  # Reshape the array to the desired image dimensions\n",
        "elif model_type == 'Convolutions':\n",
        "  image = x_test[ii]\n",
        "  image = image.reshape((96, 96))\n",
        "predicted_keypoints = predictions[ii].reshape((15, 2))\n",
        "plt.scatter(predicted_keypoints[:, 0], predicted_keypoints[:, 1], c='r', marker='o')\n",
        "plt.imshow(image, cmap='gray')\n",
        "plt.show()"
      ],
      "metadata": {
        "id": "SMdqZBecLIOi"
      },
      "execution_count": null,
      "outputs": []
    },
    {
      "cell_type": "code",
      "source": [
        "from pandas.io.parsers.readers import read_csv\n",
        "# Extract data for output\n",
        "filename = '/content/data_submission.RData'\n",
        "df_submission = pyreadr.read_r(filename)\n",
        "x_submission = df_submission['im_submission']\n",
        "# Get the indices of rows containing NaN values.\n",
        "nan_indices_submission = x_submission.index[x_submission.isnull().any(axis=1)].tolist()\n",
        "# Drop rows containing NaN values\n",
        "x_submission = x_submission.drop(x_submission.index[nan_indices_submission])\n",
        "if model_type == 'Convolutions' :\n",
        "  x_submission = x_submission.to_numpy().reshape(-1, pixel_num, pixel_num, 1)\n",
        "\n",
        "# Make predictions\n",
        "predictions_submission = model.predict(x_submission)\n",
        "\n",
        "# Size of the image is given, prediction cannot be outside of range\n",
        "min_value = 0\n",
        "max_value = 96\n",
        "constrained_predictions_submission = np.clip(predictions_submission, min_value, max_value)\n",
        "\n",
        "# Remove predictions not requested in IdLookupTable.csv\n",
        "filename = '/content/IdLookupTable.csv'\n",
        "IdLookupTable = read_csv(filename)\n",
        "# All keypoints names\n",
        "keypoints_names = IdLookupTable['FeatureName'].iloc[0:30]\n",
        "# Calculate the repeating sequence based on the number of rows in 'df'\n",
        "repeating_sequence = np.repeat(np.arange(1, 1783*30 // 30 + 1), 30)\n",
        "# Add the repeating sequence as a new column to the DataFrame\n",
        "keypoints_names_filter = pd.DataFrame({'ImageId': repeating_sequence})\n",
        "keypoints_names_filter['Indices'] = range(len(keypoints_names_filter))\n",
        "keypoints_names_filter['FeatureName'] = pd.concat([keypoints_names] * 1783, ignore_index=True)\n",
        "# Filter\n",
        "keypoints_names_filter = keypoints_names_filter.merge(IdLookupTable[['ImageId', 'FeatureName']], on=['ImageId', 'FeatureName'], how='inner')\n",
        "# Create a mask of size 1783x30 where True indicates the indices to keep\n",
        "nb_output_images = x_submission.shape[0]\n",
        "mask = np.isin(np.arange(nb_output_images*30), keypoints_names_filter['Indices'])\n",
        "# Reshape the mask to the same shape as 'np_array'\n",
        "mask = mask.reshape(constrained_predictions_submission.shape)\n",
        "# Use the mask to replace values in the NumPy array with NaN\n",
        "constrained_predictions_submission[~mask] = np.nan\n",
        "\n",
        "# Plot the first image in the DataFrame\n",
        "ii = -1\n",
        "if model_type == 'Single hidden layer':\n",
        "  image = np.array(x_submission.iloc[ii,:])\n",
        "  image = image.reshape((96, 96))  # Reshape the array to the desired image dimensions\n",
        "elif model_type == 'Convolutions':\n",
        "  image = x_submission[ii]\n",
        "  image = image.reshape((96, 96))\n",
        "predicted_keypoints = constrained_predictions_submission[ii].reshape((15, 2))\n",
        "plt.scatter(predicted_keypoints[:, 0], predicted_keypoints[:, 1], c='r', marker='o')\n",
        "plt.imshow(image, cmap='gray')\n",
        "plt.show()\n",
        "\n",
        "# Prepare for output file\n",
        "df_predictions = pd.DataFrame(constrained_predictions_submission)\n",
        "\n",
        "# Convert the DataFrame to a NumPy array and reshape it\n",
        "reshaped_values = df_predictions.values.reshape(-1, 1)\n",
        "\n",
        "# Remove NaN values from the NumPy array\n",
        "reshaped_values = reshaped_values[~np.isnan(reshaped_values)]\n",
        "\n",
        "# Create a new DataFrame with the reshaped values\n",
        "reshaped_df = pd.DataFrame(reshaped_values, columns=['Value'])\n",
        "indices = pd.DataFrame(range(1,len(reshaped_df)+1))\n",
        "submission = pd.concat([indices, reshaped_df], axis=1)\n",
        "submission.rename(columns={0: 'RowId','Value': 'Location'}, inplace=True)\n",
        "\n",
        "# Write to csv file\n",
        "submission.to_csv('/content/simple_model_submission.csv',index=False)\n"
      ],
      "metadata": {
        "id": "pwYDph1YMxwk"
      },
      "execution_count": null,
      "outputs": []
    }
  ]
}